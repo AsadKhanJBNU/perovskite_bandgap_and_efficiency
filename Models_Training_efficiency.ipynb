{
 "cells": [
  {
   "cell_type": "code",
   "execution_count": null,
   "id": "368df745",
   "metadata": {},
   "outputs": [],
   "source": [
    "import pandas as pd\n",
    "import numpy as np\n",
    "import os\n",
    "from sklearn.model_selection import train_test_split, KFold\n",
    "import warnings\n",
    "from numpy import savetxt\n",
    "from numpy import loadtxt\n",
    "warnings.filterwarnings(\"ignore\")\n",
    "import pickle"
   ]
  },
  {
   "cell_type": "code",
   "execution_count": null,
   "id": "8d816040",
   "metadata": {},
   "outputs": [],
   "source": [
    "from sklearn.metrics import r2_score\n",
    "import optuna\n",
    "from sklearn.ensemble import BaggingRegressor,AdaBoostRegressor,GradientBoostingRegressor\n",
    "from sklearn.neighbors import KNeighborsRegressor\n",
    "from sklearn.tree import DecisionTreeRegressor\n",
    "import xgboost as xgb\n",
    "from sklearn.svm import SVR\n",
    "from catboost import CatBoostRegressor, Pool\n",
    "from sklearn.ensemble import RandomForestRegressor\n",
    "from sklearn.metrics import r2_score,mean_absolute_error,mean_squared_error\n",
    "import math\n",
    "import matplotlib.pyplot as plt\n",
    "import shap"
   ]
  },
  {
   "cell_type": "code",
   "execution_count": null,
   "id": "a5e824af",
   "metadata": {},
   "outputs": [],
   "source": [
    "train = loadtxt('Data_Set/efficiencyTrain.csv', delimiter=',')\n",
    "label = loadtxt('Data_Set/efficiencylabel.csv', delimiter=',')"
   ]
  },
  {
   "cell_type": "code",
   "execution_count": null,
   "id": "e4e62bf2",
   "metadata": {},
   "outputs": [],
   "source": [
    "train[0]"
   ]
  },
  {
   "cell_type": "code",
   "execution_count": null,
   "id": "845c1548",
   "metadata": {},
   "outputs": [],
   "source": [
    "label[0]"
   ]
  },
  {
   "cell_type": "code",
   "execution_count": null,
   "id": "a451f041",
   "metadata": {},
   "outputs": [],
   "source": [
    "os.environ[\"CUDA_DEVICE_ORDER\"]=\"PCI_BUS_ID\"   # see issue #152\n",
    "os.environ[\"CUDA_VISIBLE_DEVICES\"]=\"6\""
   ]
  },
  {
   "cell_type": "code",
   "execution_count": null,
   "id": "ab806365",
   "metadata": {},
   "outputs": [],
   "source": [
    "X_train, X_test, y_train, y_test = train_test_split(train, label, test_size=0.15, random_state=42)"
   ]
  },
  {
   "cell_type": "code",
   "execution_count": null,
   "id": "23002056",
   "metadata": {},
   "outputs": [],
   "source": [
    "def CatBoostRegressorTraining():\n",
    "    params =  {'iterations': 8540, 'learning_rate': 0.09176035707878118, 'depth': 15,\n",
    "              'random_seed': 352, 'metric_period': 245, 'od_wait': 144}\n",
    "    \n",
    "    xgb_reg = CatBoostRegressor(**params)\n",
    "    xgb_reg.fit(X_train, y_train)\n",
    "\n",
    "    return xgb_reg"
   ]
  },
  {
   "cell_type": "code",
   "execution_count": null,
   "id": "5be08473",
   "metadata": {},
   "outputs": [],
   "source": [
    "def AdaBoostRegressorTraining():\n",
    "    params = {'n_estimators': 3, 'learning_rate': 0.06037559584802324, 'random_state': 74}\n",
    "    \n",
    "    xgb_reg = AdaBoostRegressor(**params)\n",
    "    xgb_reg.fit(X_train, y_train)\n",
    "\n",
    "    return xgb_reg"
   ]
  },
  {
   "cell_type": "code",
   "execution_count": null,
   "id": "c81b6c85",
   "metadata": {},
   "outputs": [],
   "source": [
    "def KNeighborsRegressorTraining():\n",
    "    params = {'n_neighbors': 16, 'leaf_size': 1, 'p': 1, 'n_jobs': 4}\n",
    "    \n",
    "    xgb_reg = KNeighborsRegressor(**params)\n",
    "    xgb_reg.fit(X_train, y_train)\n",
    "\n",
    "    return xgb_reg"
   ]
  },
  {
   "cell_type": "code",
   "execution_count": null,
   "id": "6b93a702",
   "metadata": {},
   "outputs": [],
   "source": [
    "def RandomForestRegressorTraining():\n",
    "    params = {'criterion': 'squared_error', 'n_estimators': 89, 'min_samples_leaf': 0.0477528566476102,\n",
    "              'min_samples_split': 0.3493938886646444, 'min_weight_fraction_leaf': 0.07364614448551399,\n",
    "              'max_depth': 11, 'n_jobs': 2,'ccp_alpha': 0.6192017360171039}\n",
    "    \n",
    "    xgb_reg = RandomForestRegressor(**params)\n",
    "    xgb_reg.fit(X_train, y_train)\n",
    "\n",
    "    return xgb_reg"
   ]
  },
  {
   "cell_type": "code",
   "execution_count": null,
   "id": "69d8ef5f",
   "metadata": {},
   "outputs": [],
   "source": [
    "def SVRTraining():\n",
    "    params = {'coef0': 9.775132889897574, 'tol': 0.006493993396391401, 'epsilon': 0.10002960976094372,\n",
    "              'C': 9.885891357520826, 'degree': 4, 'max_iter': 5,'cache_size': 190}\n",
    "    \n",
    "    xgb_reg = SVR(**params)\n",
    "    xgb_reg.fit(X_train, y_train)\n",
    "\n",
    "    return xgb_reg"
   ]
  },
  {
   "cell_type": "code",
   "execution_count": null,
   "id": "26213680",
   "metadata": {},
   "outputs": [],
   "source": [
    "def GradientBoostingRegressorTraining():\n",
    "    params = {'learning_rate': 0.06708983968051184, 'alpha': 0.8570822543281797, 'loss': 'absolute_error',\n",
    "              'criterion': 'friedman_mse', 'n_estimators': 489, 'min_samples_leaf': 0.20044756670461691,\n",
    "              'min_samples_split': 0.2119159916298289, 'min_weight_fraction_leaf': 0.2184570930183031, 'max_depth': 42,\n",
    "              'min_impurity_decrease': 0.08752324756334523}\n",
    "    \n",
    "    xgb_reg = GradientBoostingRegressor(**params)\n",
    "    xgb_reg.fit(X_train, y_train)\n",
    "\n",
    "    return xgb_reg"
   ]
  },
  {
   "cell_type": "code",
   "execution_count": null,
   "id": "1168ebc2",
   "metadata": {},
   "outputs": [],
   "source": [
    "def showResults(model, modelName):\n",
    "    y_ped = model.predict(X_test)\n",
    "    MSE = mean_squared_error(y_test, y_ped)\n",
    "    RMSE = math.sqrt(MSE)\n",
    "    resultsDict = {'R2: ':r2_score(y_test,model.predict(X_test)), 'MSE: ':MSE, 'MAE: ':mean_absolute_error(y_test,y_ped),\n",
    "           'RMSE: ':RMSE}\n",
    "\n",
    "    # open file for writing\n",
    "    name = \"Results/\" + modelName + \".txt\"\n",
    "    \n",
    "    # save the model to disk\n",
    "    filename = \"Saved_Models/\" + modelName + \".sav\"\n",
    "    pickle.dump(model, open(filename, 'wb'))\n",
    "    \n",
    "    f = open(name,\"w\")\n",
    "    # write file\n",
    "    f.write( str(resultsDict) )\n",
    "    # close file\n",
    "    f.close()\n",
    "    print(resultsDict)"
   ]
  },
  {
   "cell_type": "code",
   "execution_count": null,
   "id": "9fb0fb6a",
   "metadata": {},
   "outputs": [],
   "source": [
    "def drawPlots(model,modelName):\n",
    "    y_ped = model.predict(X_test)\n",
    "    plt.scatter(y_ped,y_test,s=10,marker =\"s\",c=y_test,cmap=plt.get_cmap('plasma'))\n",
    "    plt.plot(y_test,y_test)\n",
    "    plt.xlabel('Experimental Efficiency \\n b')\n",
    "    plt.ylabel('Predicated Efficiency')\n",
    "    plt.title(modelName + ' Efficiency')\n",
    "    plt.grid(False)\n",
    "    name = \"Visualization/\" + modelName + \"Efficiency.png\"\n",
    "    plt.savefig(name, dpi=400,transparent=True,bbox_inches = \"tight\")\n",
    "    plt.show()"
   ]
  },
  {
   "cell_type": "code",
   "execution_count": null,
   "id": "30632bd2",
   "metadata": {},
   "outputs": [],
   "source": [
    "def drawShapAnanlysis(model,modelName,features):\n",
    "    plt.clf()\n",
    "    explainer = shap.Explainer(model,feature_names=features)\n",
    "    shap_values = explainer(X_train)\n",
    "#     shap.plots.bar(shap_values)\n",
    "    shap.plots.beeswarm(shap_values)\n",
    "\n",
    "#     fig.savefig(\"shap.png\", dpi=400,transparent=True,bbox_inches = \"tight\")\n",
    "#     plt.savefig('shap.png')\n"
   ]
  },
  {
   "cell_type": "code",
   "execution_count": null,
   "id": "fbe83c0b",
   "metadata": {},
   "outputs": [],
   "source": [
    "# "
   ]
  },
  {
   "cell_type": "code",
   "execution_count": null,
   "id": "635321b5",
   "metadata": {},
   "outputs": [],
   "source": [
    "features=['Cs', 'FA', 'MA','Pb', 'Sn','Br', 'I','Thickness']"
   ]
  },
  {
   "cell_type": "code",
   "execution_count": null,
   "id": "80e9d08b",
   "metadata": {},
   "outputs": [],
   "source": [
    "model = CatBoostRegressorTraining()\n",
    "showResults(model,\"CatBoostRegressorEfficiency\")\n",
    "drawPlots(model,\"CatBoostRegressor\")\n",
    "# drawShapAnanlysis(model,\"CatBoostRegressor\",features)"
   ]
  },
  {
   "cell_type": "code",
   "execution_count": null,
   "id": "35e0b7ae",
   "metadata": {},
   "outputs": [],
   "source": [
    "# drawShapAnanlysis(model,\"CatBoostRegressor\",features)"
   ]
  },
  {
   "cell_type": "code",
   "execution_count": null,
   "id": "aefbbbe3",
   "metadata": {},
   "outputs": [],
   "source": [
    "model = AdaBoostRegressorTraining()\n",
    "showResults(model,\"AdaBoostRegressorEfficiency\")\n",
    "drawPlots(model,\"AdaBoostRegressor\")"
   ]
  },
  {
   "cell_type": "code",
   "execution_count": null,
   "id": "f2877397",
   "metadata": {},
   "outputs": [],
   "source": [
    "model = KNeighborsRegressorTraining()\n",
    "showResults(model,\"KNeighborsRegressorEfficiency\")\n",
    "drawPlots(model,\"KNeighborsRegressor\")"
   ]
  },
  {
   "cell_type": "code",
   "execution_count": null,
   "id": "2804a63c",
   "metadata": {},
   "outputs": [],
   "source": [
    "model = RandomForestRegressorTraining()\n",
    "showResults(model,\"RandomForestRegressorEfficiency\")\n",
    "drawPlots(model,\"RandomForestRegressor\")"
   ]
  },
  {
   "cell_type": "code",
   "execution_count": null,
   "id": "35f7d15e",
   "metadata": {},
   "outputs": [],
   "source": [
    "model = SVRTraining()\n",
    "showResults(model,\"SVREfficiency\")\n",
    "drawPlots(model,\"SVR\")"
   ]
  },
  {
   "cell_type": "code",
   "execution_count": null,
   "id": "c79bc723",
   "metadata": {},
   "outputs": [],
   "source": [
    "model = GradientBoostingRegressorTraining()\n",
    "showResults(model,\"GradientBoostingRegressorEfficiency\")\n",
    "drawPlots(model,\"GradientBoostingRegressor\")"
   ]
  },
  {
   "cell_type": "code",
   "execution_count": null,
   "id": "d32c7e2d",
   "metadata": {},
   "outputs": [],
   "source": [
    "# load the model from disk\n",
    "# filename = \"Saved_Models/\" + \"CatBoostRegressor\" + \".sav\"\n",
    "# loaded_model = pickle.load(open(filename, 'rb'))"
   ]
  },
  {
   "cell_type": "code",
   "execution_count": null,
   "id": "955b5343",
   "metadata": {},
   "outputs": [],
   "source": []
  }
 ],
 "metadata": {
  "kernelspec": {
   "display_name": "Python 3 (ipykernel)",
   "language": "python",
   "name": "python3"
  },
  "language_info": {
   "codemirror_mode": {
    "name": "ipython",
    "version": 3
   },
   "file_extension": ".py",
   "mimetype": "text/x-python",
   "name": "python",
   "nbconvert_exporter": "python",
   "pygments_lexer": "ipython3",
   "version": "3.8.13"
  }
 },
 "nbformat": 4,
 "nbformat_minor": 5
}
