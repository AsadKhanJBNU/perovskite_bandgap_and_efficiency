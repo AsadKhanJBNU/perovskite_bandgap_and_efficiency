{
 "cells": [
  {
   "cell_type": "code",
   "execution_count": 1,
   "id": "028e3843",
   "metadata": {},
   "outputs": [],
   "source": [
    "# import pandas as pd\n",
    "# import numpy as np\n",
    "\n",
    "# from sklearn.model_selection import train_test_split, KFold\n",
    "# import warnings\n",
    "# from numpy import savetxt\n",
    "# from numpy import loadtxt\n",
    "# # warnings.filterwarnings(\"ignore\")\n",
    "# import pickle"
   ]
  },
  {
   "cell_type": "code",
   "execution_count": 2,
   "id": "8c2cff05",
   "metadata": {},
   "outputs": [],
   "source": [
    "# from sklearn.metrics import r2_score\n",
    "# import optuna\n",
    "# from sklearn.ensemble import BaggingRegressor,AdaBoostRegressor,GradientBoostingRegressor\n",
    "# from sklearn.neighbors import KNeighborsRegressor\n",
    "# from sklearn.tree import DecisionTreeRegressor\n",
    "# import xgboost as xgb\n",
    "# from sklearn.svm import SVR\n",
    "# from catboost import CatBoostRegressor, Pool\n",
    "# from sklearn.ensemble import RandomForestRegressor\n",
    "# from sklearn.metrics import r2_score,mean_absolute_error,mean_squared_error\n",
    "# import math\n",
    "# import matplotlib.pyplot as plt\n",
    "# import shap"
   ]
  },
  {
   "cell_type": "code",
   "execution_count": 3,
   "id": "cc079f9f",
   "metadata": {},
   "outputs": [],
   "source": [
    "# def showResults(model):\n",
    "#     y_ped = model.predict(X_test)\n",
    "#     MSE = mean_squared_error(y_test, y_ped)\n",
    "#     RMSE = math.sqrt(MSE)\n",
    "#     resultsDict = {'R2: ':r2_score(y_test,model.predict(X_test)), 'MSE: ':MSE, 'MAE: ':mean_absolute_error(y_test,y_ped),\n",
    "#            'RMSE: ':RMSE}\n",
    "#     print(resultsDict)"
   ]
  },
  {
   "cell_type": "code",
   "execution_count": 4,
   "id": "2a19881a",
   "metadata": {},
   "outputs": [],
   "source": [
    "# def showResultsEfficency(model):\n",
    "#     Ey_ped = model.predict(EX_test)\n",
    "#     MSE = mean_squared_error(Ey_test, Ey_ped)\n",
    "#     RMSE = math.sqrt(MSE)\n",
    "#     resultsDict = {'R2: ':r2_score(Ey_test,model.predict(EX_test)), 'MSE: ':MSE, 'MAE: ':mean_absolute_error(Ey_test,Ey_ped),\n",
    "#            'RMSE: ':RMSE}\n",
    "#     print(resultsDict)"
   ]
  },
  {
   "cell_type": "code",
   "execution_count": null,
   "id": "f0cab5a6",
   "metadata": {},
   "outputs": [],
   "source": []
  },
  {
   "cell_type": "code",
   "execution_count": 5,
   "id": "f9e02150",
   "metadata": {},
   "outputs": [],
   "source": [
    "# def showResultsSingleEfficency(model,data):\n",
    "#     y_ped = model.predict(data)\n",
    "#     print(y_ped)"
   ]
  },
  {
   "cell_type": "code",
   "execution_count": 6,
   "id": "3f208c6a",
   "metadata": {},
   "outputs": [],
   "source": [
    "# train = loadtxt('Data_Set/train.csv', delimiter=',')\n",
    "# label = loadtxt('Data_Set/label.csv', delimiter=',')"
   ]
  },
  {
   "cell_type": "code",
   "execution_count": 7,
   "id": "f748033c",
   "metadata": {},
   "outputs": [],
   "source": [
    "# Etrain = loadtxt('Data_Set/efficiencyTrain.csv', delimiter=',')\n",
    "# Elabel = loadtxt('Data_Set/efficiencylabel.csv', delimiter=',')"
   ]
  },
  {
   "cell_type": "code",
   "execution_count": null,
   "id": "db244713",
   "metadata": {},
   "outputs": [],
   "source": []
  },
  {
   "cell_type": "code",
   "execution_count": 8,
   "id": "7670e000",
   "metadata": {},
   "outputs": [],
   "source": [
    "# X_train, X_test, y_train, y_test = train_test_split(train, label, test_size=0.15, random_state=42)"
   ]
  },
  {
   "cell_type": "code",
   "execution_count": 9,
   "id": "bced4ced",
   "metadata": {},
   "outputs": [],
   "source": [
    "# EX_train, EX_test, Ey_train, Ey_test = train_test_split(Etrain, Elabel, test_size=0.15, random_state=42)"
   ]
  },
  {
   "cell_type": "code",
   "execution_count": null,
   "id": "52a39a37",
   "metadata": {},
   "outputs": [],
   "source": []
  },
  {
   "cell_type": "code",
   "execution_count": null,
   "id": "a1f91806",
   "metadata": {},
   "outputs": [],
   "source": []
  },
  {
   "cell_type": "code",
   "execution_count": 10,
   "id": "934096e5",
   "metadata": {},
   "outputs": [],
   "source": [
    "# efficencyModel = joblib.load('Saved_Models/CatBoostRegressorEfficiency.sav')"
   ]
  },
  {
   "cell_type": "code",
   "execution_count": 11,
   "id": "fa35c032",
   "metadata": {},
   "outputs": [],
   "source": [
    "# showResults(bandgapModel)"
   ]
  },
  {
   "cell_type": "code",
   "execution_count": 12,
   "id": "957300ac",
   "metadata": {},
   "outputs": [],
   "source": [
    "# showResultsEfficency(efficencyModel)"
   ]
  },
  {
   "cell_type": "code",
   "execution_count": 13,
   "id": "e6ad02a1",
   "metadata": {},
   "outputs": [],
   "source": [
    "# X_test[10]"
   ]
  },
  {
   "cell_type": "code",
   "execution_count": 14,
   "id": "931c5414",
   "metadata": {},
   "outputs": [],
   "source": [
    "# max(y_test)"
   ]
  },
  {
   "cell_type": "code",
   "execution_count": 8,
   "id": "53f7a800",
   "metadata": {},
   "outputs": [],
   "source": [
    "from numpy import loadtxt"
   ]
  },
  {
   "cell_type": "code",
   "execution_count": 9,
   "id": "d48a55fa",
   "metadata": {},
   "outputs": [],
   "source": [
    "Etrain = loadtxt('Data_Set/efficiencyTrain.csv', delimiter=',')\n",
    "Elabel = loadtxt('Data_Set/efficiencylabel.csv', delimiter=',')"
   ]
  },
  {
   "cell_type": "code",
   "execution_count": 10,
   "id": "22649df8",
   "metadata": {},
   "outputs": [
    {
     "data": {
      "text/plain": [
       "array([0.  , 0.  , 1.  , 1.  , 0.  , 3.  , 0.  , 0.25])"
      ]
     },
     "execution_count": 10,
     "metadata": {},
     "output_type": "execute_result"
    }
   ],
   "source": [
    "Etrain[0]"
   ]
  },
  {
   "cell_type": "code",
   "execution_count": 4,
   "id": "5c0c8dfe",
   "metadata": {},
   "outputs": [
    {
     "data": {
      "text/plain": [
       "(171, 8)"
      ]
     },
     "execution_count": 4,
     "metadata": {},
     "output_type": "execute_result"
    }
   ],
   "source": [
    "Etrain.shape"
   ]
  },
  {
   "cell_type": "code",
   "execution_count": 5,
   "id": "31b4b870",
   "metadata": {},
   "outputs": [],
   "source": [
    "train = loadtxt('Data_Set/train.csv', delimiter=',')\n",
    "label = loadtxt('Data_Set/label.csv', delimiter=',')"
   ]
  },
  {
   "cell_type": "code",
   "execution_count": 6,
   "id": "704c1239",
   "metadata": {},
   "outputs": [
    {
     "data": {
      "text/plain": [
       "(649, 8)"
      ]
     },
     "execution_count": 6,
     "metadata": {},
     "output_type": "execute_result"
    }
   ],
   "source": [
    "train.shape"
   ]
  },
  {
   "cell_type": "code",
   "execution_count": 2,
   "id": "471a4982",
   "metadata": {},
   "outputs": [],
   "source": []
  },
  {
   "cell_type": "code",
   "execution_count": 3,
   "id": "250ec074",
   "metadata": {},
   "outputs": [
    {
     "name": "stderr",
     "output_type": "stream",
     "text": [
      "/home/arslan/anaconda3/envs/solar/lib/python3.8/site-packages/scipy/__init__.py:146: UserWarning: A NumPy version >=1.16.5 and <1.23.0 is required for this version of SciPy (detected version 1.23.3\n",
      "  warnings.warn(f\"A NumPy version >={np_minversion} and <{np_maxversion}\"\n",
      "/home/arslan/anaconda3/envs/solar/lib/python3.8/site-packages/xgboost/compat.py:36: FutureWarning: pandas.Int64Index is deprecated and will be removed from pandas in a future version. Use pandas.Index with the appropriate dtype instead.\n",
      "  from pandas import MultiIndex, Int64Index\n"
     ]
    }
   ],
   "source": []
  },
  {
   "cell_type": "code",
   "execution_count": 4,
   "id": "fa6ab2ba",
   "metadata": {},
   "outputs": [],
   "source": [
    "\n",
    "test = [0.  , 0.  , 1.  , 0.  , 1.  , 0.  , 3.  , 0.12]"
   ]
  },
  {
   "cell_type": "code",
   "execution_count": 5,
   "id": "fccd6828",
   "metadata": {},
   "outputs": [],
   "source": []
  },
  {
   "cell_type": "code",
   "execution_count": 6,
   "id": "f32c5ce6",
   "metadata": {},
   "outputs": [],
   "source": []
  },
  {
   "cell_type": "code",
   "execution_count": 7,
   "id": "3f0bb7b6",
   "metadata": {},
   "outputs": [
    {
     "name": "stdout",
     "output_type": "stream",
     "text": [
      "1.3337279562231432\n"
     ]
    }
   ],
   "source": []
  },
  {
   "cell_type": "code",
   "execution_count": 11,
   "id": "ca339667",
   "metadata": {},
   "outputs": [],
   "source": [
    "import os\n",
    "import joblib"
   ]
  },
  {
   "cell_type": "code",
   "execution_count": 12,
   "id": "bf016feb",
   "metadata": {},
   "outputs": [],
   "source": [
    "os.environ[\"CUDA_DEVICE_ORDER\"]=\"PCI_BUS_ID\"\n",
    "os.environ[\"CUDA_VISIBLE_DEVICES\"]=\"5\""
   ]
  },
  {
   "cell_type": "code",
   "execution_count": 13,
   "id": "780d7ded",
   "metadata": {},
   "outputs": [],
   "source": [
    "# Load saved model\n",
    "bandgap_model = joblib.load('Saved_Models/CatBoostRegressor.sav')"
   ]
  },
  {
   "cell_type": "code",
   "execution_count": 17,
   "id": "fdcf8f00",
   "metadata": {},
   "outputs": [],
   "source": [
    "# Take input this is the list of feture used for bandgap predications \n",
    "features=['Cs', 'FA', 'MA','Pb', 'Sn','Br', 'I','Thickness']\n",
    "\n",
    "#a_ions 'Cs', 'FA', 'MA' note the sum of this 3 should not be greater than 1\n",
    "#b_ions 'MA','Pb' note the sum of this 2 should not be greater than 1\n",
    "#x_ions 'Br', 'I' note the sum of this 2 should not be greater than 3\n",
    "#The last feature Nanometer (nm) is thickness in  for normalization I divided this by 1000\n",
    "\n",
    "input_features = [0.  , 0.  , 1.  , 1.  , 0.  , 3.  , 0.  , 0.25]"
   ]
  },
  {
   "cell_type": "code",
   "execution_count": 15,
   "id": "9a526a35",
   "metadata": {},
   "outputs": [],
   "source": [
    "def showResultsSingle(model,data):\n",
    "    y_ped = model.predict(data)\n",
    "    print(y_ped)"
   ]
  },
  {
   "cell_type": "code",
   "execution_count": 16,
   "id": "99c87490",
   "metadata": {},
   "outputs": [
    {
     "name": "stdout",
     "output_type": "stream",
     "text": [
      "1.3337279562231432\n"
     ]
    }
   ],
   "source": [
    "showResultsSingle(bandgapModel,test)"
   ]
  },
  {
   "cell_type": "code",
   "execution_count": null,
   "id": "7e3fefa2",
   "metadata": {},
   "outputs": [],
   "source": []
  }
 ],
 "metadata": {
  "kernelspec": {
   "display_name": "Python 3 (ipykernel)",
   "language": "python",
   "name": "python3"
  },
  "language_info": {
   "codemirror_mode": {
    "name": "ipython",
    "version": 3
   },
   "file_extension": ".py",
   "mimetype": "text/x-python",
   "name": "python",
   "nbconvert_exporter": "python",
   "pygments_lexer": "ipython3",
   "version": "3.8.13"
  }
 },
 "nbformat": 4,
 "nbformat_minor": 5
}
