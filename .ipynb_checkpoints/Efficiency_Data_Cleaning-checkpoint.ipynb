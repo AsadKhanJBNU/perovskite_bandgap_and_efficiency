{
 "cells": [
  {
   "cell_type": "code",
   "execution_count": null,
   "id": "ada14c75",
   "metadata": {},
   "outputs": [],
   "source": [
    "import pandas as pd\n",
    "import numpy as np\n",
    "import os\n",
    "from sklearn.model_selection import train_test_split, KFold\n",
    "import warnings\n",
    "warnings.filterwarnings(\"ignore\")"
   ]
  },
  {
   "cell_type": "code",
   "execution_count": null,
   "id": "dd0c7a4b",
   "metadata": {},
   "outputs": [],
   "source": [
    "data=pd.read_csv('Data_Set/Perovskite_database_content_all_data.csv')"
   ]
  },
  {
   "cell_type": "code",
   "execution_count": null,
   "id": "0f97ada0",
   "metadata": {},
   "outputs": [],
   "source": [
    "def replace(x):\n",
    "    if x in ['Unknown','none','unknown','None']:\n",
    "        return np.nan\n",
    "    elif 'Unknown' in str(x):\n",
    "        return np.nan\n",
    "    elif 'none' in str(x):\n",
    "        return np.nan\n",
    "    elif 'None' in str(x):\n",
    "        return np.nan\n",
    "    elif 'nan' in str(x):\n",
    "        return np.nan\n",
    "    else:\n",
    "        return x"
   ]
  },
  {
   "cell_type": "code",
   "execution_count": null,
   "id": "591a4382",
   "metadata": {},
   "outputs": [],
   "source": [
    "data=data.applymap(lambda x :replace(x))"
   ]
  },
  {
   "cell_type": "code",
   "execution_count": null,
   "id": "9783fb98",
   "metadata": {},
   "outputs": [],
   "source": [
    "data=data.applymap(lambda x: x.replace(' ','') if isinstance(x,str) else x)"
   ]
  },
  {
   "cell_type": "code",
   "execution_count": null,
   "id": "475b247d",
   "metadata": {},
   "outputs": [],
   "source": [
    "data.drop_duplicates(inplace=True)"
   ]
  },
  {
   "cell_type": "code",
   "execution_count": null,
   "id": "50ec69a2",
   "metadata": {},
   "outputs": [],
   "source": [
    "data.dropna(axis='columns', how ='all',inplace=True)"
   ]
  },
  {
   "cell_type": "code",
   "execution_count": null,
   "id": "7e681ed9",
   "metadata": {},
   "outputs": [],
   "source": [
    "data.dropna(axis='rows', how ='all',inplace=True)"
   ]
  },
  {
   "cell_type": "code",
   "execution_count": null,
   "id": "e8847e92",
   "metadata": {},
   "outputs": [],
   "source": [
    "data.shape"
   ]
  },
  {
   "cell_type": "code",
   "execution_count": null,
   "id": "72078952",
   "metadata": {},
   "outputs": [],
   "source": [
    "data.dropna(subset=['Perovskite_composition_a_ions',\n",
    " 'Perovskite_composition_a_ions_coefficients',\n",
    " 'Perovskite_composition_b_ions',\n",
    " 'Perovskite_composition_b_ions_coefficients',\n",
    " 'Perovskite_composition_c_ions',\n",
    " 'Perovskite_composition_c_ions_coefficients','Perovskite_dimension_3D','Perovskite_thickness','Perovskite_band_gap'],inplace=True)"
   ]
  },
  {
   "cell_type": "code",
   "execution_count": null,
   "id": "ecbdbe6d",
   "metadata": {},
   "outputs": [],
   "source": [
    "perovskite_comp=['Perovskite_composition_a_ions',\n",
    " 'Perovskite_composition_a_ions_coefficients',\n",
    " 'Perovskite_composition_b_ions',\n",
    " 'Perovskite_composition_b_ions_coefficients',\n",
    " 'Perovskite_composition_c_ions',\n",
    " 'Perovskite_composition_c_ions_coefficients','Perovskite_dimension_3D','Perovskite_thickness','Perovskite_band_gap']"
   ]
  },
  {
   "cell_type": "code",
   "execution_count": null,
   "id": "7c416ff3",
   "metadata": {},
   "outputs": [],
   "source": [
    "ETL=['ETL_stack_sequence','ETL_deposition_procedure','HTL_deposition_procedure','HTL_stack_sequence','JV_default_PCE']"
   ]
  },
  {
   "cell_type": "code",
   "execution_count": null,
   "id": "9e154770",
   "metadata": {},
   "outputs": [],
   "source": [
    "comp=perovskite_comp+ETL"
   ]
  },
  {
   "cell_type": "code",
   "execution_count": null,
   "id": "3f27b23d",
   "metadata": {},
   "outputs": [],
   "source": [
    "perovskite_data=data[comp]"
   ]
  },
  {
   "cell_type": "code",
   "execution_count": null,
   "id": "20dc5fa6",
   "metadata": {},
   "outputs": [],
   "source": [
    "perovskite_data=perovskite_data[perovskite_data['ETL_stack_sequence']=='TiO2-c']"
   ]
  },
  {
   "cell_type": "code",
   "execution_count": null,
   "id": "72d998d0",
   "metadata": {},
   "outputs": [],
   "source": [
    "perovskite_data=perovskite_data[perovskite_data['HTL_stack_sequence']=='Spiro-MeOTAD']"
   ]
  },
  {
   "cell_type": "code",
   "execution_count": null,
   "id": "7edd595a",
   "metadata": {},
   "outputs": [],
   "source": [
    "perovskite_data=perovskite_data.dropna()"
   ]
  },
  {
   "cell_type": "code",
   "execution_count": null,
   "id": "c2dd8766",
   "metadata": {},
   "outputs": [],
   "source": [
    "perovskite_data['Layered']=perovskite_data['Perovskite_composition_a_ions'].apply(lambda x: True if len(str(x).split('|'))>1 else False)"
   ]
  },
  {
   "cell_type": "code",
   "execution_count": null,
   "id": "ac827ed0",
   "metadata": {},
   "outputs": [],
   "source": [
    "perovskite_data=perovskite_data[~perovskite_data['Layered']]"
   ]
  },
  {
   "cell_type": "code",
   "execution_count": null,
   "id": "d22d403d",
   "metadata": {},
   "outputs": [],
   "source": [
    "perovskite_data=perovskite_data[perovskite_data['Perovskite_dimension_3D']]"
   ]
  },
  {
   "cell_type": "code",
   "execution_count": null,
   "id": "53a1e53e",
   "metadata": {},
   "outputs": [],
   "source": [
    "same_dict={'Blowinghotair':'Blow-drying',\n",
    "           'Comersial':'Commercial',\n",
    "           'Electrohemicalanodization':'Electrochemicalanodization',\n",
    "           'Electropolymerisation':'Electropolymerization',\n",
    "           'Evaoration': 'Evaporation',\n",
    "           'Gasreaction':'Gas-reaction',\n",
    "           'Hydorthermal':'Hydorthermal',\n",
    "           'Hydrolys':'Hydrolysis',\n",
    "           'Inkjetprinting' :'Inkjet-Printed',\n",
    "           'RFMagnetronSputtering': 'RFMagnetronsputtering',\n",
    "           'RFmagnetronsputtering': 'RFMagnetronsputtering',\n",
    "           'SILARmethod':'SILAR',\n",
    "           'Screenprintnig':'Screenprinting',\n",
    "           'Sputering':'Sputtering',\n",
    "           'Ultrasonicspraypyrolysis':'Ultrasonicspray'}"
   ]
  },
  {
   "cell_type": "code",
   "execution_count": null,
   "id": "b7855941",
   "metadata": {},
   "outputs": [],
   "source": [
    "perovskite_data.drop_duplicates(inplace=True)\n",
    "perovskite_data.dropna(inplace=True)"
   ]
  },
  {
   "cell_type": "code",
   "execution_count": null,
   "id": "859c11e5",
   "metadata": {},
   "outputs": [],
   "source": [
    "a_ions=perovskite_data['Perovskite_composition_a_ions'].str.split(';').str.join(' ').str.split(expand=True).apply(pd.Series.value_counts).sum(axis=1)"
   ]
  },
  {
   "cell_type": "code",
   "execution_count": null,
   "id": "bb328820",
   "metadata": {},
   "outputs": [],
   "source": [
    "a_ions=['Cs', 'FA', 'MA']"
   ]
  },
  {
   "cell_type": "code",
   "execution_count": null,
   "id": "11347991",
   "metadata": {},
   "outputs": [],
   "source": [
    "b_ions=perovskite_data['Perovskite_composition_b_ions'].str.split(';').str.join(' ').str.split(expand=True).apply(pd.Series.value_counts).sum(axis=1)"
   ]
  },
  {
   "cell_type": "code",
   "execution_count": null,
   "id": "9eb7945b",
   "metadata": {},
   "outputs": [],
   "source": [
    "b_ions=['Pb', 'Sn']"
   ]
  },
  {
   "cell_type": "code",
   "execution_count": null,
   "id": "f6388771",
   "metadata": {},
   "outputs": [],
   "source": [
    "c_ions=perovskite_data['Perovskite_composition_c_ions'].str.split(';').str.join(' ').str.split(expand=True).apply(pd.Series.value_counts).sum(axis=1)"
   ]
  },
  {
   "cell_type": "code",
   "execution_count": null,
   "id": "ff0c0738",
   "metadata": {},
   "outputs": [],
   "source": [
    "c_ions=['Br', 'I']"
   ]
  },
  {
   "cell_type": "code",
   "execution_count": null,
   "id": "24d29995",
   "metadata": {},
   "outputs": [],
   "source": [
    "ions_token=list(set(a_ions+b_ions+c_ions))"
   ]
  },
  {
   "cell_type": "code",
   "execution_count": null,
   "id": "8fb7a050",
   "metadata": {},
   "outputs": [],
   "source": [
    "perovskite_data.drop_duplicates(subset=['Perovskite_composition_a_ions','Perovskite_composition_b_ions','Perovskite_composition_c_ions','Perovskite_thickness'],inplace=True)"
   ]
  },
  {
   "cell_type": "code",
   "execution_count": null,
   "id": "a2ccd84b",
   "metadata": {},
   "outputs": [],
   "source": [
    "perovskite_data['Perovskite_thickness']=perovskite_data['Perovskite_thickness'].apply(lambda x: [float(x)/1000])"
   ]
  },
  {
   "cell_type": "code",
   "execution_count": null,
   "id": "e1c11fde",
   "metadata": {},
   "outputs": [],
   "source": [
    "perovskite_data=perovskite_data[perovskite_data['Perovskite_composition_a_ions'].apply(lambda x : all([True if y in ions_token else False for y in x.split(';') ]))]      "
   ]
  },
  {
   "cell_type": "code",
   "execution_count": null,
   "id": "37037d62",
   "metadata": {},
   "outputs": [],
   "source": [
    "perovskite_data=perovskite_data[perovskite_data['Perovskite_composition_b_ions'].apply(lambda x : all([True if y in ions_token else False for y in x.split(';') ]))]        "
   ]
  },
  {
   "cell_type": "code",
   "execution_count": null,
   "id": "d4772f60",
   "metadata": {},
   "outputs": [],
   "source": [
    "perovskite_data=perovskite_data[perovskite_data['Perovskite_composition_c_ions'].apply(lambda x : all([True if y in ions_token else False for y in x.split(';') ]))]        "
   ]
  },
  {
   "cell_type": "code",
   "execution_count": null,
   "id": "4c955320",
   "metadata": {},
   "outputs": [],
   "source": [
    "def ions_one_hot(x,c,tokens):\n",
    "    if 'x' in c:\n",
    "        return np.nan\n",
    "    temp_dict={a:b for (a,b) in zip(x.split(';'),c.split(';'))}\n",
    "    return [temp_dict[x] if x in temp_dict.keys() else 0 for x in tokens]"
   ]
  },
  {
   "cell_type": "code",
   "execution_count": null,
   "id": "c49866a7",
   "metadata": {},
   "outputs": [],
   "source": [
    "perovskite_data['Perovskite_composition_a_ions']=perovskite_data[['Perovskite_composition_a_ions','Perovskite_composition_a_ions_coefficients']].apply(lambda x :ions_one_hot(*x,a_ions),axis=1)"
   ]
  },
  {
   "cell_type": "code",
   "execution_count": null,
   "id": "c6df1608",
   "metadata": {},
   "outputs": [],
   "source": [
    "perovskite_data['Perovskite_composition_b_ions']=perovskite_data[['Perovskite_composition_b_ions','Perovskite_composition_b_ions_coefficients']].apply(lambda x :ions_one_hot(*x,b_ions),axis=1)"
   ]
  },
  {
   "cell_type": "code",
   "execution_count": null,
   "id": "37384ef9",
   "metadata": {},
   "outputs": [],
   "source": [
    "perovskite_data['Perovskite_composition_c_ions']=perovskite_data[['Perovskite_composition_c_ions','Perovskite_composition_c_ions_coefficients']].apply(lambda x :ions_one_hot(*x,c_ions),axis=1)"
   ]
  },
  {
   "cell_type": "code",
   "execution_count": null,
   "id": "febcd353",
   "metadata": {},
   "outputs": [],
   "source": [
    "perovskite_data.dropna(inplace=True)"
   ]
  },
  {
   "cell_type": "code",
   "execution_count": null,
   "id": "cc423e1b",
   "metadata": {},
   "outputs": [],
   "source": [
    "perovskite_data['Perovskite_band_gap']=perovskite_data['Perovskite_band_gap'].apply(lambda x : [float(x)])"
   ]
  },
  {
   "cell_type": "code",
   "execution_count": null,
   "id": "3b797460",
   "metadata": {},
   "outputs": [],
   "source": [
    "perovskite_data['Perovskite_band_gap']"
   ]
  },
  {
   "cell_type": "code",
   "execution_count": null,
   "id": "438f1726",
   "metadata": {},
   "outputs": [],
   "source": [
    "for cols in ['Perovskite_composition_a_ions',\n",
    "       'Perovskite_composition_b_ions',\n",
    "       'Perovskite_composition_c_ions']:\n",
    "    maximum=perovskite_data[cols].map(len).max()\n",
    "    perovskite_data[cols]=perovskite_data[cols].apply(lambda x: x+[0]*(maximum-len(x)))"
   ]
  },
  {
   "cell_type": "code",
   "execution_count": null,
   "id": "5d11d053",
   "metadata": {},
   "outputs": [],
   "source": [
    "perovskite_data['X_train']=perovskite_data[['Perovskite_composition_a_ions',\n",
    "       'Perovskite_composition_b_ions',\n",
    "       'Perovskite_composition_c_ions','Perovskite_thickness']].sum(axis=1)"
   ]
  },
  {
   "cell_type": "code",
   "execution_count": null,
   "id": "29e42171",
   "metadata": {},
   "outputs": [],
   "source": [
    "perovskite_data"
   ]
  },
  {
   "cell_type": "code",
   "execution_count": null,
   "id": "00ff31b9",
   "metadata": {},
   "outputs": [],
   "source": [
    "train=np.asanyarray(perovskite_data['X_train'].tolist(),dtype=float)"
   ]
  },
  {
   "cell_type": "code",
   "execution_count": null,
   "id": "ee721b03",
   "metadata": {},
   "outputs": [],
   "source": [
    "os.environ[\"CUDA_DEVICE_ORDER\"]=\"PCI_BUS_ID\"   # see issue #152\n",
    "os.environ[\"CUDA_VISIBLE_DEVICES\"]=\"6\""
   ]
  },
  {
   "cell_type": "code",
   "execution_count": null,
   "id": "8fdf7609",
   "metadata": {},
   "outputs": [],
   "source": [
    "label=np.asanyarray(perovskite_data['JV_default_PCE'].tolist(),dtype=float)/100"
   ]
  },
  {
   "cell_type": "code",
   "execution_count": null,
   "id": "1b67c91c",
   "metadata": {},
   "outputs": [],
   "source": [
    "from sklearn.utils import shuffle\n",
    "\n",
    "train , label = shuffle(train,label, random_state=40)"
   ]
  },
  {
   "cell_type": "code",
   "execution_count": null,
   "id": "0457cfbe",
   "metadata": {},
   "outputs": [],
   "source": [
    "# save to csv file\n",
    "from numpy import savetxt\n",
    "savetxt('Data_Set/efficiencyTrain.csv', train, delimiter=',')\n",
    "savetxt('Data_Set/efficiencylabel.csv', label, delimiter=',')"
   ]
  },
  {
   "cell_type": "code",
   "execution_count": null,
   "id": "ffca0503",
   "metadata": {},
   "outputs": [],
   "source": [
    "from numpy import loadtxt\n",
    "# load array\n",
    "train = loadtxt('Data_Set/efficiencyTrain.csv', delimiter=',')\n",
    "label = loadtxt('Data_Set/efficiencylabel.csv', delimiter=',')"
   ]
  },
  {
   "cell_type": "code",
   "execution_count": null,
   "id": "50a5b007",
   "metadata": {},
   "outputs": [],
   "source": [
    "train.shape"
   ]
  },
  {
   "cell_type": "code",
   "execution_count": null,
   "id": "71023d25",
   "metadata": {},
   "outputs": [],
   "source": [
    "train[0]"
   ]
  },
  {
   "cell_type": "code",
   "execution_count": null,
   "id": "1495dfc9",
   "metadata": {},
   "outputs": [],
   "source": []
  }
 ],
 "metadata": {
  "kernelspec": {
   "display_name": "Python 3 (ipykernel)",
   "language": "python",
   "name": "python3"
  },
  "language_info": {
   "codemirror_mode": {
    "name": "ipython",
    "version": 3
   },
   "file_extension": ".py",
   "mimetype": "text/x-python",
   "name": "python",
   "nbconvert_exporter": "python",
   "pygments_lexer": "ipython3",
   "version": "3.8.13"
  }
 },
 "nbformat": 4,
 "nbformat_minor": 5
}
