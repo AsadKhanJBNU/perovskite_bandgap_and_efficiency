{
 "cells": [
  {
   "cell_type": "code",
   "execution_count": null,
   "id": "4e46a4a4",
   "metadata": {},
   "outputs": [],
   "source": [
    "import pandas as pd\n",
    "import numpy as np\n",
    "import os\n",
    "from sklearn.model_selection import train_test_split, KFold\n",
    "import warnings\n",
    "from numpy import savetxt\n",
    "from numpy import loadtxt\n",
    "warnings.filterwarnings(\"ignore\")"
   ]
  },
  {
   "cell_type": "code",
   "execution_count": null,
   "id": "7cec4d94",
   "metadata": {},
   "outputs": [],
   "source": [
    "from sklearn.metrics import r2_score\n",
    "import optuna\n",
    "from sklearn.ensemble import BaggingRegressor,AdaBoostRegressor,GradientBoostingRegressor\n",
    "from sklearn.neighbors import KNeighborsRegressor\n",
    "from sklearn.tree import DecisionTreeRegressor\n",
    "import xgboost as xgb\n",
    "from sklearn.svm import SVR\n",
    "from catboost import CatBoostRegressor, Pool\n",
    "from sklearn.ensemble import RandomForestRegressor"
   ]
  },
  {
   "cell_type": "code",
   "execution_count": null,
   "id": "7baecc95",
   "metadata": {},
   "outputs": [],
   "source": [
    "train = loadtxt('Data_Set/efficiencyTrain.csv', delimiter=',')\n",
    "label = loadtxt('Data_Set/efficiencylabel.csv', delimiter=',')"
   ]
  },
  {
   "cell_type": "code",
   "execution_count": null,
   "id": "80ce2ccb",
   "metadata": {},
   "outputs": [],
   "source": [
    "os.environ[\"CUDA_DEVICE_ORDER\"]=\"PCI_BUS_ID\"   # see issue #152\n",
    "os.environ[\"CUDA_VISIBLE_DEVICES\"]=\"4\""
   ]
  },
  {
   "cell_type": "code",
   "execution_count": null,
   "id": "ff21cf75",
   "metadata": {},
   "outputs": [],
   "source": [
    "X_train, X_test, y_train, y_test = train_test_split(train, label, test_size=0.15, random_state=42)"
   ]
  },
  {
   "cell_type": "markdown",
   "id": "a40b062e",
   "metadata": {},
   "source": [
    "# Optuna"
   ]
  },
  {
   "cell_type": "code",
   "execution_count": null,
   "id": "48d123ee",
   "metadata": {},
   "outputs": [],
   "source": [
    "def bossting_objectiveDecisionTreeRegressor(trail):\n",
    "    result=[]\n",
    "    random_state=42\n",
    "    losses=['squared_error', 'absolute_error', 'huber', 'quantile']\n",
    "    min_samples_split=trail.suggest_float('min_samples_split',0.001,1.0)\n",
    "    random_state=trail.suggest_int('random_state',4,50)\n",
    "    min_samples_leaf=trail.suggest_float('min_samples_leaf',0.001,0.5)\n",
    "    min_weight_fraction_leaf=trail.suggest_float('min_weight_fraction_leaf',0.0,0.5)\n",
    "    min_impurity_decrease=trail.suggest_float('min_impurity_decrease',0.0,0.5)\n",
    "    ccp_alpha=trail.suggest_float('ccp_alpha',0.0,10.5)\n",
    "\n",
    "\n",
    "    max_depth=trail.suggest_int('max_depth',2,50)\n",
    "\n",
    "    params={x:y for (x,y) in trail.params.items() if x!='number_of_splits'}\n",
    "    xgb_reg = DecisionTreeRegressor(**params)\n",
    "    xgb_reg.fit(X_train, y_train)\n",
    "    \n",
    "    return (round(r2_score(y_test,xgb_reg.predict(X_test)),4))"
   ]
  },
  {
   "cell_type": "code",
   "execution_count": null,
   "id": "d3018d02",
   "metadata": {},
   "outputs": [],
   "source": [
    "def bossting_objectiveAdaBoostRegressor(trail):\n",
    "    result=[]\n",
    "    n_estimators = trail.suggest_int('n_estimators',1,50)\n",
    "    learning_rate=trail.suggest_float(\"learning_rate\", 1e-3, 1e-1,log=True)\n",
    "    random_state= trail.suggest_int('random_state',1,100)\n",
    "\n",
    "    params={x:y for (x,y) in trail.params.items() if x!='number_of_splits'}\n",
    "    reg = AdaBoostRegressor(**params)\n",
    "    reg.fit(X_train, y_train)\n",
    "    return (round(r2_score(y_test,reg.predict(X_test)),4))"
   ]
  },
  {
   "cell_type": "code",
   "execution_count": null,
   "id": "8a2f63ed",
   "metadata": {},
   "outputs": [],
   "source": [
    "def bossting_objectiveCatBoostRegressor(trail):\n",
    "    result=[]\n",
    "    \n",
    "    iterations = trail.suggest_int('iterations',3000,40000)\n",
    "    learning_rate=trail.suggest_float(\"learning_rate\", 1e-3, 1e-1,log=True)\n",
    "    depth=trail.suggest_int('depth',2,16)\n",
    "    random_seed = trail.suggest_int('random_seed',50,500)\n",
    "    metric_period = trail.suggest_int('metric_period',100,500)\n",
    "    od_wait = trail.suggest_int('od_wait',10,150)\n",
    "    \n",
    "\n",
    "    params={x:y for (x,y) in trail.params.items() if x!='number_of_splits'}\n",
    "    params['loss_function'] = 'RMSE'\n",
    "    params['eval_metric'] = 'RMSE'\n",
    "    params['od_type'] = 'Iter'\n",
    "    params['use_best_model'] = True\n",
    "    params['verbose'] = False\n",
    "    model_regressor = CatBoostRegressor(**params)\n",
    "    model_regressor.fit(X_train, y_train, \n",
    "          eval_set=(X_test, y_test),  \n",
    "          use_best_model=True,  \n",
    "          plot= False   \n",
    "         );\n",
    "    return (round(r2_score(y_test,model_regressor.predict(X_test)),4))"
   ]
  },
  {
   "cell_type": "code",
   "execution_count": null,
   "id": "ffcf6dc1",
   "metadata": {},
   "outputs": [],
   "source": [
    "def bossting_objectiveKNeighborsRegressor(trail):\n",
    "    result=[]\n",
    "    n_neighbors = trail.suggest_int('n_neighbors',1,50)\n",
    "    leaf_size= trail.suggest_int('leaf_size',1,100)\n",
    "    p= trail.suggest_int('p',1,2)\n",
    "    n_jobs = trail.suggest_int('n_jobs',2,8)\n",
    "\n",
    "    params={x:y for (x,y) in trail.params.items() if x!='number_of_splits'}\n",
    "    \n",
    "    reg = KNeighborsRegressor(n_neighbors=3,leaf_size=leaf_size,p=p,n_jobs=n_jobs)\n",
    "    reg.fit(X_train, y_train)\n",
    "    return (round(r2_score(y_test,reg.predict(X_test)),4))\n"
   ]
  },
  {
   "cell_type": "code",
   "execution_count": null,
   "id": "3279d95a",
   "metadata": {},
   "outputs": [],
   "source": [
    "def bossting_objectiveRandomForestRegressor(trail):\n",
    "    random_state=42\n",
    "    losses=['squared_error', 'absolute_error', 'huber', 'quantile']\n",
    "    criterions=['friedman_mse', 'squared_error']\n",
    "    criterion=trail.suggest_categorical('criterion',criterions)\n",
    "    n_estimators=trail.suggest_int('n_estimators',50,500)\n",
    "    min_samples_leaf=trail.suggest_float('min_samples_leaf',0.001,0.5)\n",
    "    min_samples_split=trail.suggest_float('min_samples_split',0.001,1.0)\n",
    "    min_weight_fraction_leaf=trail.suggest_float('min_weight_fraction_leaf',0.001,0.5)\n",
    "    max_depth=trail.suggest_int('max_depth',2,50)\n",
    "    n_jobs = trail.suggest_int('n_jobs',2,4)\n",
    "#     verbose= trail.suggest_int('verbose',1,100)\n",
    "    ccp_alpha=trail.suggest_float('ccp_alpha',0.5,0.9)\n",
    "#     min_impurity_decrease=trail.suggest_float('min_impurity_decrease',0.001,100.0)\n",
    "    \n",
    "    params={x:y for (x,y) in trail.params.items() if x!='number_of_splits'}\n",
    "    reg=RandomForestRegressor(**params)\n",
    "    reg.fit(X_train, y_train)\n",
    "    return (round(r2_score(y_test,reg.predict(X_test)),4))\n",
    "    "
   ]
  },
  {
   "cell_type": "code",
   "execution_count": null,
   "id": "db353016",
   "metadata": {},
   "outputs": [],
   "source": [
    "def bossting_objectiveSVR(trail):\n",
    "    result=[]\n",
    "    coef0 = trail.suggest_float(\"coef0\", 0.0, 10.0)\n",
    "    tol = trail.suggest_float(\"tol\", 0.001, 1.0)\n",
    "    epsilon = trail.suggest_float(\"epsilon\", 0.1, 10.0)\n",
    "    C = trail.suggest_float(\"C\", 1.0, 10.0)\n",
    "    degree = trail.suggest_int('degree',3,10)\n",
    "    max_iter = trail.suggest_int('max_iter',-1,100)\n",
    "    cache_size = trail.suggest_int('cache_size',10,400)\n",
    "\n",
    "    params={x:y for (x,y) in trail.params.items() if x!='number_of_splits'}\n",
    "    xgb_reg=SVR(**params)\n",
    "    xgb_reg.fit(X_train, y_train)\n",
    "    return (round(r2_score(y_test,xgb_reg.predict(X_test)),4))\n",
    "\n"
   ]
  },
  {
   "cell_type": "code",
   "execution_count": null,
   "id": "70f13caa",
   "metadata": {},
   "outputs": [],
   "source": [
    "def bossting_objectiveGradientBoostingRegressor(trail):\n",
    "    result=[]\n",
    "    learning_rate=trail.suggest_float(\"learning_rate\", 1e-3, 1e-1,log=True)\n",
    "    random_state=42\n",
    "    losses=['squared_error', 'absolute_error', 'huber', 'quantile']\n",
    "    # max_features=trail.suggest_float('max_features',0.001,1.0)\n",
    "    alpha=trail.suggest_float('alpha',0.5,0.9)\n",
    "    # ccp_alpha=trail.suggest_float('ccp_alpha',0.0,1)\n",
    "    criterions=['friedman_mse', 'squared_error']\n",
    "    loss=trail.suggest_categorical('loss',losses)\n",
    "    criterion=trail.suggest_categorical('criterion',criterions)\n",
    "    n_estimators=trail.suggest_int('n_estimators',50,500)\n",
    "    # subsample=trail.suggest_float('subsample',0.001,1.0)\n",
    "    min_samples_leaf=trail.suggest_float('min_samples_leaf',0.001,0.5)\n",
    "    min_samples_split=trail.suggest_float('min_samples_split',0.001,1.0)\n",
    "    min_weight_fraction_leaf=trail.suggest_float('min_weight_fraction_leaf',0.001,0.5)\n",
    "    max_depth=trail.suggest_int('max_depth',2,50)\n",
    "    min_impurity_decrease=trail.suggest_float('min_impurity_decrease',0.001,100.0)\n",
    "    \n",
    "    params={x:y for (x,y) in trail.params.items() if x!='number_of_splits'}\n",
    "    \n",
    "    reg=GradientBoostingRegressor(random_state=random_state,**params)\n",
    "    reg.fit(X_train, y_train)\n",
    "    return (round(r2_score(y_test,reg.predict(X_test)),4))\n",
    "    "
   ]
  },
  {
   "cell_type": "code",
   "execution_count": null,
   "id": "654f9bb4",
   "metadata": {},
   "outputs": [],
   "source": []
  },
  {
   "cell_type": "code",
   "execution_count": null,
   "id": "a3252043",
   "metadata": {},
   "outputs": [],
   "source": [
    "optuna_Array = [bossting_objectiveDecisionTreeRegressor,bossting_objectiveAdaBoostRegressor,\n",
    "               bossting_objectiveCatBoostRegressor,bossting_objectiveKNeighborsRegressor,\n",
    "               bossting_objectiveRandomForestRegressor,bossting_objectiveSVR,bossting_objectiveGradientBoostingRegressor]"
   ]
  },
  {
   "cell_type": "code",
   "execution_count": null,
   "id": "e93df550",
   "metadata": {},
   "outputs": [],
   "source": [
    "study_array = []\n",
    "for item in optuna_Array:\n",
    "    study = optuna.create_study(direction=\"maximize\")\n",
    "    study.optimize(item, n_trials=5000)\n",
    "    study_array.append(study)"
   ]
  },
  {
   "cell_type": "code",
   "execution_count": null,
   "id": "9650a634",
   "metadata": {},
   "outputs": [],
   "source": [
    "for item in study_array:\n",
    "    print('r2: ' + str(item.best_value))\n",
    "    print('Best parameter: ' + str(item.best_params))"
   ]
  },
  {
   "cell_type": "code",
   "execution_count": null,
   "id": "b63c743d",
   "metadata": {},
   "outputs": [],
   "source": [
    "optuna_Array[0]"
   ]
  },
  {
   "cell_type": "code",
   "execution_count": null,
   "id": "36fcd7a2",
   "metadata": {},
   "outputs": [],
   "source": [
    "for item in study_array:\n",
    "    fig = optuna.visualization.plot_param_importances(item)\n",
    "    fig.show()"
   ]
  },
  {
   "cell_type": "code",
   "execution_count": null,
   "id": "011e8a8f",
   "metadata": {},
   "outputs": [],
   "source": [
    "def saveResults():\n",
    "    a = open('Results/Efficiency.txt', 'w')\n",
    "    a.write(study_array)\n",
    "    a.close()\n",
    "\n",
    "def getResults():\n",
    "    f = open(\"Results/Efficiency.txt\", \"r\")\n",
    "    print(f)"
   ]
  }
 ],
 "metadata": {
  "kernelspec": {
   "display_name": "Python 3 (ipykernel)",
   "language": "python",
   "name": "python3"
  },
  "language_info": {
   "codemirror_mode": {
    "name": "ipython",
    "version": 3
   },
   "file_extension": ".py",
   "mimetype": "text/x-python",
   "name": "python",
   "nbconvert_exporter": "python",
   "pygments_lexer": "ipython3",
   "version": "3.8.13"
  }
 },
 "nbformat": 4,
 "nbformat_minor": 5
}
