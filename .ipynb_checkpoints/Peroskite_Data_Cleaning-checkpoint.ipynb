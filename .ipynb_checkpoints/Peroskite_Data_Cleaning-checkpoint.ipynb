{
 "cells": [
  {
   "cell_type": "code",
   "execution_count": 6,
   "id": "dbb20554",
   "metadata": {},
   "outputs": [
    {
     "name": "stderr",
     "output_type": "stream",
     "text": [
      "/home/arslan/anaconda3/envs/solar/lib/python3.8/site-packages/scipy/__init__.py:146: UserWarning: A NumPy version >=1.16.5 and <1.23.0 is required for this version of SciPy (detected version 1.23.3\n",
      "  warnings.warn(f\"A NumPy version >={np_minversion} and <{np_maxversion}\"\n"
     ]
    }
   ],
   "source": [
    "import pandas as pd\n",
    "import numpy as np\n",
    "import os\n",
    "from sklearn.model_selection import train_test_split, KFold\n",
    "import warnings\n",
    "warnings.filterwarnings(\"ignore\")"
   ]
  },
  {
   "cell_type": "code",
   "execution_count": 2,
   "id": "27d9f366",
   "metadata": {},
   "outputs": [],
   "source": [
    "data=pd.read_csv('Perovskite_database_content_all_data.csv')"
   ]
  },
  {
   "cell_type": "code",
   "execution_count": 3,
   "id": "7f21d7ce",
   "metadata": {},
   "outputs": [],
   "source": [
    "def replace(x):\n",
    "    if x in ['Unknown','none','unknown','None']:\n",
    "        return np.nan\n",
    "    elif 'Unknown' in str(x):\n",
    "        return np.nan\n",
    "    elif 'none' in str(x):\n",
    "        return np.nan\n",
    "    elif 'None' in str(x):\n",
    "        return np.nan\n",
    "    elif 'nan' in str(x):\n",
    "        return np.nan\n",
    "    else:\n",
    "        return x"
   ]
  },
  {
   "cell_type": "code",
   "execution_count": 4,
   "id": "34dde6a6",
   "metadata": {},
   "outputs": [],
   "source": [
    "data=data.applymap(lambda x :replace(x))"
   ]
  },
  {
   "cell_type": "code",
   "execution_count": 5,
   "id": "e30207e7",
   "metadata": {},
   "outputs": [],
   "source": [
    "data=data.applymap(lambda x: x.replace(' ','') if isinstance(x,str) else x)"
   ]
  },
  {
   "cell_type": "code",
   "execution_count": 6,
   "id": "0024bfd5",
   "metadata": {},
   "outputs": [],
   "source": [
    "data.drop_duplicates(inplace=True)"
   ]
  },
  {
   "cell_type": "code",
   "execution_count": 7,
   "id": "b2246897",
   "metadata": {},
   "outputs": [],
   "source": [
    "data.dropna(axis='columns', how ='all',inplace=True)"
   ]
  },
  {
   "cell_type": "code",
   "execution_count": 8,
   "id": "92d74a4b",
   "metadata": {},
   "outputs": [],
   "source": [
    "data.dropna(axis='rows', how ='all',inplace=True)"
   ]
  },
  {
   "cell_type": "code",
   "execution_count": 9,
   "id": "ea09b5f2",
   "metadata": {},
   "outputs": [],
   "source": [
    "data.dropna(subset=['Perovskite_composition_a_ions',\n",
    " 'Perovskite_composition_a_ions_coefficients',\n",
    " 'Perovskite_composition_b_ions',\n",
    " 'Perovskite_composition_b_ions_coefficients',\n",
    " 'Perovskite_composition_c_ions',\n",
    " 'Perovskite_composition_c_ions_coefficients','Perovskite_dimension_3D','Perovskite_thickness','Perovskite_band_gap'],inplace=True)"
   ]
  },
  {
   "cell_type": "code",
   "execution_count": 10,
   "id": "c56659af",
   "metadata": {},
   "outputs": [],
   "source": [
    "perovskite_comp=['Perovskite_composition_a_ions',\n",
    " 'Perovskite_composition_a_ions_coefficients',\n",
    " 'Perovskite_composition_b_ions',\n",
    " 'Perovskite_composition_b_ions_coefficients',\n",
    " 'Perovskite_composition_c_ions',\n",
    " 'Perovskite_composition_c_ions_coefficients','Perovskite_dimension_3D','Perovskite_thickness','Perovskite_band_gap']"
   ]
  },
  {
   "cell_type": "code",
   "execution_count": 11,
   "id": "243c492f",
   "metadata": {},
   "outputs": [],
   "source": [
    "perovskite_data=data[perovskite_comp]"
   ]
  },
  {
   "cell_type": "code",
   "execution_count": 12,
   "id": "ff001da1",
   "metadata": {},
   "outputs": [],
   "source": [
    "perovskite_data=perovskite_data.dropna()"
   ]
  },
  {
   "cell_type": "code",
   "execution_count": 13,
   "id": "093b751d",
   "metadata": {},
   "outputs": [],
   "source": [
    "perovskite_data['Layered']=perovskite_data['Perovskite_composition_a_ions'].apply(lambda x: True if len(str(x).split('|'))>1 else False)"
   ]
  },
  {
   "cell_type": "code",
   "execution_count": 14,
   "id": "20dae386",
   "metadata": {},
   "outputs": [],
   "source": [
    "perovskite_data=perovskite_data[~perovskite_data['Layered']]"
   ]
  },
  {
   "cell_type": "code",
   "execution_count": 15,
   "id": "910dc034",
   "metadata": {},
   "outputs": [],
   "source": [
    "perovskite_data=perovskite_data[perovskite_data['Perovskite_dimension_3D']]"
   ]
  },
  {
   "cell_type": "code",
   "execution_count": 16,
   "id": "28eba477",
   "metadata": {},
   "outputs": [],
   "source": [
    "same_dict={'Blowinghotair':'Blow-drying',\n",
    "           'Comersial':'Commercial',\n",
    "           'Electrohemicalanodization':'Electrochemicalanodization',\n",
    "           'Electropolymerisation':'Electropolymerization',\n",
    "           'Evaoration': 'Evaporation',\n",
    "           'Gasreaction':'Gas-reaction',\n",
    "           'Hydorthermal':'Hydorthermal',\n",
    "           'Hydrolys':'Hydrolysis',\n",
    "           'Inkjetprinting' :'Inkjet-Printed',\n",
    "           'RFMagnetronSputtering': 'RFMagnetronsputtering',\n",
    "           'RFmagnetronsputtering': 'RFMagnetronsputtering',\n",
    "           'SILARmethod':'SILAR',\n",
    "           'Screenprintnig':'Screenprinting',\n",
    "           'Sputering':'Sputtering',\n",
    "           'Ultrasonicspraypyrolysis':'Ultrasonicspray'}"
   ]
  },
  {
   "cell_type": "code",
   "execution_count": 17,
   "id": "2c7171d0",
   "metadata": {},
   "outputs": [],
   "source": [
    "perovskite_data.drop_duplicates(inplace=True)\n",
    "perovskite_data.dropna(inplace=True)"
   ]
  },
  {
   "cell_type": "code",
   "execution_count": 18,
   "id": "787dc183",
   "metadata": {},
   "outputs": [],
   "source": [
    "a_ions=perovskite_data['Perovskite_composition_a_ions'].str.split(';').str.join(' ').str.split(expand=True).apply(pd.Series.value_counts).sum(axis=1)"
   ]
  },
  {
   "cell_type": "code",
   "execution_count": 19,
   "id": "fc336d58",
   "metadata": {},
   "outputs": [
    {
     "data": {
      "text/plain": [
       "(N-EtPy)       1.0\n",
       "Ag             1.0\n",
       "BDA            4.0\n",
       "Ba             1.0\n",
       "Cs           301.0\n",
       "FA           410.0\n",
       "GU             1.0\n",
       "HA             1.0\n",
       "IA             1.0\n",
       "IM             1.0\n",
       "K              4.0\n",
       "La             1.0\n",
       "MA          1047.0\n",
       "Rb             2.0\n",
       "TN             1.0\n",
       "dtype: float64"
      ]
     },
     "execution_count": 19,
     "metadata": {},
     "output_type": "execute_result"
    }
   ],
   "source": [
    "a_ions"
   ]
  },
  {
   "cell_type": "code",
   "execution_count": 20,
   "id": "b00e8dce",
   "metadata": {},
   "outputs": [],
   "source": [
    "a_ions=a_ions[a_ions>200].index.tolist()"
   ]
  },
  {
   "cell_type": "code",
   "execution_count": 21,
   "id": "b327b4df",
   "metadata": {},
   "outputs": [
    {
     "data": {
      "text/plain": [
       "['Cs', 'FA', 'MA']"
      ]
     },
     "execution_count": 21,
     "metadata": {},
     "output_type": "execute_result"
    }
   ],
   "source": [
    "a_ions"
   ]
  },
  {
   "cell_type": "code",
   "execution_count": 22,
   "id": "db3d4fa1",
   "metadata": {},
   "outputs": [],
   "source": [
    "b_ions=perovskite_data['Perovskite_composition_b_ions'].str.split(';').str.join(' ').str.split(expand=True).apply(pd.Series.value_counts).sum(axis=1)"
   ]
  },
  {
   "cell_type": "code",
   "execution_count": 23,
   "id": "e1b1d625",
   "metadata": {},
   "outputs": [
    {
     "data": {
      "text/plain": [
       "Ag       5.0\n",
       "Ba       1.0\n",
       "Bi      17.0\n",
       "Ca       1.0\n",
       "Co       3.0\n",
       "Cu       5.0\n",
       "Fe       1.0\n",
       "La       1.0\n",
       "Mg       1.0\n",
       "Nb       1.0\n",
       "Ni       2.0\n",
       "Pb    1234.0\n",
       "Sb       9.0\n",
       "Sn     119.0\n",
       "Sr       1.0\n",
       "Ti       1.0\n",
       "Y        1.0\n",
       "dtype: float64"
      ]
     },
     "execution_count": 23,
     "metadata": {},
     "output_type": "execute_result"
    }
   ],
   "source": [
    "b_ions"
   ]
  },
  {
   "cell_type": "code",
   "execution_count": 24,
   "id": "352589c6",
   "metadata": {},
   "outputs": [],
   "source": [
    "b_ions=b_ions[b_ions>=100].index.tolist()"
   ]
  },
  {
   "cell_type": "code",
   "execution_count": 25,
   "id": "78b2511e",
   "metadata": {},
   "outputs": [
    {
     "data": {
      "text/plain": [
       "['Pb', 'Sn']"
      ]
     },
     "execution_count": 25,
     "metadata": {},
     "output_type": "execute_result"
    }
   ],
   "source": [
    "b_ions"
   ]
  },
  {
   "cell_type": "code",
   "execution_count": 26,
   "id": "489d21d1",
   "metadata": {},
   "outputs": [],
   "source": [
    "c_ions=perovskite_data['Perovskite_composition_c_ions'].str.split(';').str.join(' ').str.split(expand=True).apply(pd.Series.value_counts).sum(axis=1)"
   ]
  },
  {
   "cell_type": "code",
   "execution_count": 27,
   "id": "de6a84ed",
   "metadata": {},
   "outputs": [
    {
     "data": {
      "text/plain": [
       "Br     414.0\n",
       "Cl       1.0\n",
       "F        7.0\n",
       "I     1239.0\n",
       "O        1.0\n",
       "S        1.0\n",
       "dtype: float64"
      ]
     },
     "execution_count": 27,
     "metadata": {},
     "output_type": "execute_result"
    }
   ],
   "source": [
    "c_ions"
   ]
  },
  {
   "cell_type": "code",
   "execution_count": 28,
   "id": "936d8779",
   "metadata": {},
   "outputs": [],
   "source": [
    "c_ions=c_ions[c_ions>200].index.tolist()"
   ]
  },
  {
   "cell_type": "code",
   "execution_count": 29,
   "id": "1051aafc",
   "metadata": {},
   "outputs": [
    {
     "data": {
      "text/plain": [
       "['Br', 'I']"
      ]
     },
     "execution_count": 29,
     "metadata": {},
     "output_type": "execute_result"
    }
   ],
   "source": [
    "c_ions"
   ]
  },
  {
   "cell_type": "code",
   "execution_count": 30,
   "id": "97cf591e",
   "metadata": {},
   "outputs": [],
   "source": [
    "ions_token=list(set(a_ions+b_ions+c_ions))"
   ]
  },
  {
   "cell_type": "code",
   "execution_count": 31,
   "id": "c5444336",
   "metadata": {},
   "outputs": [
    {
     "data": {
      "text/plain": [
       "['Pb', 'I', 'Br', 'Cs', 'MA', 'Sn', 'FA']"
      ]
     },
     "execution_count": 31,
     "metadata": {},
     "output_type": "execute_result"
    }
   ],
   "source": [
    "ions_token"
   ]
  },
  {
   "cell_type": "code",
   "execution_count": 32,
   "id": "4e6b9baa",
   "metadata": {},
   "outputs": [],
   "source": [
    "perovskite_data.drop_duplicates(subset=['Perovskite_composition_a_ions','Perovskite_composition_b_ions','Perovskite_composition_c_ions','Perovskite_thickness'],inplace=True)"
   ]
  },
  {
   "cell_type": "code",
   "execution_count": 33,
   "id": "6f302a32",
   "metadata": {},
   "outputs": [],
   "source": [
    "perovskite_data['Perovskite_thickness']=perovskite_data['Perovskite_thickness'].apply(lambda x: [float(x)/1000])"
   ]
  },
  {
   "cell_type": "code",
   "execution_count": 34,
   "id": "13103888",
   "metadata": {},
   "outputs": [
    {
     "data": {
      "text/html": [
       "<div>\n",
       "<style scoped>\n",
       "    .dataframe tbody tr th:only-of-type {\n",
       "        vertical-align: middle;\n",
       "    }\n",
       "\n",
       "    .dataframe tbody tr th {\n",
       "        vertical-align: top;\n",
       "    }\n",
       "\n",
       "    .dataframe thead th {\n",
       "        text-align: right;\n",
       "    }\n",
       "</style>\n",
       "<table border=\"1\" class=\"dataframe\">\n",
       "  <thead>\n",
       "    <tr style=\"text-align: right;\">\n",
       "      <th></th>\n",
       "      <th>Perovskite_composition_a_ions</th>\n",
       "      <th>Perovskite_composition_a_ions_coefficients</th>\n",
       "      <th>Perovskite_composition_b_ions</th>\n",
       "      <th>Perovskite_composition_b_ions_coefficients</th>\n",
       "      <th>Perovskite_composition_c_ions</th>\n",
       "      <th>Perovskite_composition_c_ions_coefficients</th>\n",
       "      <th>Perovskite_dimension_3D</th>\n",
       "      <th>Perovskite_thickness</th>\n",
       "      <th>Perovskite_band_gap</th>\n",
       "      <th>Layered</th>\n",
       "    </tr>\n",
       "  </thead>\n",
       "  <tbody>\n",
       "    <tr>\n",
       "      <th>15</th>\n",
       "      <td>MA</td>\n",
       "      <td>1</td>\n",
       "      <td>Pb</td>\n",
       "      <td>1</td>\n",
       "      <td>I</td>\n",
       "      <td>3</td>\n",
       "      <td>True</td>\n",
       "      <td>[0.4]</td>\n",
       "      <td>1.6</td>\n",
       "      <td>False</td>\n",
       "    </tr>\n",
       "    <tr>\n",
       "      <th>53</th>\n",
       "      <td>MA</td>\n",
       "      <td>1</td>\n",
       "      <td>Pb</td>\n",
       "      <td>1</td>\n",
       "      <td>I</td>\n",
       "      <td>3</td>\n",
       "      <td>True</td>\n",
       "      <td>[0.35]</td>\n",
       "      <td>1.6</td>\n",
       "      <td>False</td>\n",
       "    </tr>\n",
       "    <tr>\n",
       "      <th>71</th>\n",
       "      <td>MA</td>\n",
       "      <td>1</td>\n",
       "      <td>Pb</td>\n",
       "      <td>1</td>\n",
       "      <td>I</td>\n",
       "      <td>3</td>\n",
       "      <td>True</td>\n",
       "      <td>[0.45]</td>\n",
       "      <td>1.6</td>\n",
       "      <td>False</td>\n",
       "    </tr>\n",
       "    <tr>\n",
       "      <th>79</th>\n",
       "      <td>MA</td>\n",
       "      <td>1</td>\n",
       "      <td>Pb</td>\n",
       "      <td>1</td>\n",
       "      <td>I</td>\n",
       "      <td>3</td>\n",
       "      <td>True</td>\n",
       "      <td>[0.2]</td>\n",
       "      <td>1.6</td>\n",
       "      <td>False</td>\n",
       "    </tr>\n",
       "    <tr>\n",
       "      <th>129</th>\n",
       "      <td>FA</td>\n",
       "      <td>1</td>\n",
       "      <td>Pb</td>\n",
       "      <td>1</td>\n",
       "      <td>I</td>\n",
       "      <td>3</td>\n",
       "      <td>True</td>\n",
       "      <td>[0.33]</td>\n",
       "      <td>1.48</td>\n",
       "      <td>False</td>\n",
       "    </tr>\n",
       "    <tr>\n",
       "      <th>...</th>\n",
       "      <td>...</td>\n",
       "      <td>...</td>\n",
       "      <td>...</td>\n",
       "      <td>...</td>\n",
       "      <td>...</td>\n",
       "      <td>...</td>\n",
       "      <td>...</td>\n",
       "      <td>...</td>\n",
       "      <td>...</td>\n",
       "      <td>...</td>\n",
       "    </tr>\n",
       "    <tr>\n",
       "      <th>42321</th>\n",
       "      <td>Cs;FA;MA</td>\n",
       "      <td>0.1;0.75;0.15</td>\n",
       "      <td>Pb</td>\n",
       "      <td>1</td>\n",
       "      <td>Br;I</td>\n",
       "      <td>0.5;2.5</td>\n",
       "      <td>True</td>\n",
       "      <td>[0.37]</td>\n",
       "      <td>1.63</td>\n",
       "      <td>False</td>\n",
       "    </tr>\n",
       "    <tr>\n",
       "      <th>42384</th>\n",
       "      <td>Cs;FA;MA</td>\n",
       "      <td>0.05;0.55;0.4</td>\n",
       "      <td>Pb</td>\n",
       "      <td>1</td>\n",
       "      <td>Br;I</td>\n",
       "      <td>2.88;0.12</td>\n",
       "      <td>True</td>\n",
       "      <td>[0.3]</td>\n",
       "      <td>1.56</td>\n",
       "      <td>False</td>\n",
       "    </tr>\n",
       "    <tr>\n",
       "      <th>42388</th>\n",
       "      <td>Cs;FA;MA</td>\n",
       "      <td>0.17;0.83</td>\n",
       "      <td>Pb</td>\n",
       "      <td>1</td>\n",
       "      <td>Br;I</td>\n",
       "      <td>2.59;0.51</td>\n",
       "      <td>True</td>\n",
       "      <td>[0.42]</td>\n",
       "      <td>1.64</td>\n",
       "      <td>False</td>\n",
       "    </tr>\n",
       "    <tr>\n",
       "      <th>42445</th>\n",
       "      <td>FA;MA</td>\n",
       "      <td>0.7;0.3</td>\n",
       "      <td>Pb;Sn</td>\n",
       "      <td>0.5;0.5</td>\n",
       "      <td>I</td>\n",
       "      <td>3</td>\n",
       "      <td>True</td>\n",
       "      <td>[0.65]</td>\n",
       "      <td>1.22</td>\n",
       "      <td>False</td>\n",
       "    </tr>\n",
       "    <tr>\n",
       "      <th>42456</th>\n",
       "      <td>MA</td>\n",
       "      <td>1.0</td>\n",
       "      <td>Ag;Pb</td>\n",
       "      <td>0.005;0.995</td>\n",
       "      <td>Br</td>\n",
       "      <td>3.0</td>\n",
       "      <td>True</td>\n",
       "      <td>[0.4]</td>\n",
       "      <td>2.3</td>\n",
       "      <td>False</td>\n",
       "    </tr>\n",
       "  </tbody>\n",
       "</table>\n",
       "<p>693 rows × 10 columns</p>\n",
       "</div>"
      ],
      "text/plain": [
       "      Perovskite_composition_a_ions  \\\n",
       "15                               MA   \n",
       "53                               MA   \n",
       "71                               MA   \n",
       "79                               MA   \n",
       "129                              FA   \n",
       "...                             ...   \n",
       "42321                      Cs;FA;MA   \n",
       "42384                      Cs;FA;MA   \n",
       "42388                      Cs;FA;MA   \n",
       "42445                         FA;MA   \n",
       "42456                            MA   \n",
       "\n",
       "      Perovskite_composition_a_ions_coefficients  \\\n",
       "15                                             1   \n",
       "53                                             1   \n",
       "71                                             1   \n",
       "79                                             1   \n",
       "129                                            1   \n",
       "...                                          ...   \n",
       "42321                              0.1;0.75;0.15   \n",
       "42384                              0.05;0.55;0.4   \n",
       "42388                                  0.17;0.83   \n",
       "42445                                    0.7;0.3   \n",
       "42456                                        1.0   \n",
       "\n",
       "      Perovskite_composition_b_ions  \\\n",
       "15                               Pb   \n",
       "53                               Pb   \n",
       "71                               Pb   \n",
       "79                               Pb   \n",
       "129                              Pb   \n",
       "...                             ...   \n",
       "42321                            Pb   \n",
       "42384                            Pb   \n",
       "42388                            Pb   \n",
       "42445                         Pb;Sn   \n",
       "42456                         Ag;Pb   \n",
       "\n",
       "      Perovskite_composition_b_ions_coefficients  \\\n",
       "15                                             1   \n",
       "53                                             1   \n",
       "71                                             1   \n",
       "79                                             1   \n",
       "129                                            1   \n",
       "...                                          ...   \n",
       "42321                                          1   \n",
       "42384                                          1   \n",
       "42388                                          1   \n",
       "42445                                    0.5;0.5   \n",
       "42456                                0.005;0.995   \n",
       "\n",
       "      Perovskite_composition_c_ions  \\\n",
       "15                                I   \n",
       "53                                I   \n",
       "71                                I   \n",
       "79                                I   \n",
       "129                               I   \n",
       "...                             ...   \n",
       "42321                          Br;I   \n",
       "42384                          Br;I   \n",
       "42388                          Br;I   \n",
       "42445                             I   \n",
       "42456                            Br   \n",
       "\n",
       "      Perovskite_composition_c_ions_coefficients  Perovskite_dimension_3D  \\\n",
       "15                                             3                     True   \n",
       "53                                             3                     True   \n",
       "71                                             3                     True   \n",
       "79                                             3                     True   \n",
       "129                                            3                     True   \n",
       "...                                          ...                      ...   \n",
       "42321                                    0.5;2.5                     True   \n",
       "42384                                  2.88;0.12                     True   \n",
       "42388                                  2.59;0.51                     True   \n",
       "42445                                          3                     True   \n",
       "42456                                        3.0                     True   \n",
       "\n",
       "      Perovskite_thickness Perovskite_band_gap  Layered  \n",
       "15                   [0.4]                 1.6    False  \n",
       "53                  [0.35]                 1.6    False  \n",
       "71                  [0.45]                 1.6    False  \n",
       "79                   [0.2]                 1.6    False  \n",
       "129                 [0.33]                1.48    False  \n",
       "...                    ...                 ...      ...  \n",
       "42321               [0.37]                1.63    False  \n",
       "42384                [0.3]                1.56    False  \n",
       "42388               [0.42]                1.64    False  \n",
       "42445               [0.65]                1.22    False  \n",
       "42456                [0.4]                 2.3    False  \n",
       "\n",
       "[693 rows x 10 columns]"
      ]
     },
     "execution_count": 34,
     "metadata": {},
     "output_type": "execute_result"
    }
   ],
   "source": [
    "perovskite_data"
   ]
  },
  {
   "cell_type": "code",
   "execution_count": 35,
   "id": "033335d8",
   "metadata": {},
   "outputs": [],
   "source": [
    "features=['Cs', 'FA', 'MA','Pb', 'Sn','Br', 'I','Thickness']"
   ]
  },
  {
   "cell_type": "code",
   "execution_count": 36,
   "id": "e78aace1",
   "metadata": {},
   "outputs": [],
   "source": [
    "perovskite_data=perovskite_data[perovskite_data['Perovskite_composition_a_ions'].apply(lambda x : all([True if y in ions_token else False for y in x.split(';') ]))]      "
   ]
  },
  {
   "cell_type": "code",
   "execution_count": 37,
   "id": "08ec3c90",
   "metadata": {},
   "outputs": [],
   "source": [
    "perovskite_data=perovskite_data[perovskite_data['Perovskite_composition_b_ions'].apply(lambda x : all([True if y in ions_token else False for y in x.split(';') ]))]        "
   ]
  },
  {
   "cell_type": "code",
   "execution_count": 38,
   "id": "392faa59",
   "metadata": {},
   "outputs": [],
   "source": [
    "perovskite_data=perovskite_data[perovskite_data['Perovskite_composition_c_ions'].apply(lambda x : all([True if y in ions_token else False for y in x.split(';') ]))]        "
   ]
  },
  {
   "cell_type": "code",
   "execution_count": 39,
   "id": "074344e4",
   "metadata": {},
   "outputs": [],
   "source": [
    "def ions_one_hot(x,c,tokens):\n",
    "    if 'x' in c:\n",
    "        return np.nan\n",
    "    temp_dict={a:b for (a,b) in zip(x.split(';'),c.split(';'))}\n",
    "    return [temp_dict[x] if x in temp_dict.keys() else 0 for x in tokens]"
   ]
  },
  {
   "cell_type": "code",
   "execution_count": 40,
   "id": "60a1258b",
   "metadata": {},
   "outputs": [],
   "source": [
    "perovskite_data['Perovskite_composition_a_ions']=perovskite_data[['Perovskite_composition_a_ions','Perovskite_composition_a_ions_coefficients']].apply(lambda x :ions_one_hot(*x,a_ions),axis=1)"
   ]
  },
  {
   "cell_type": "code",
   "execution_count": 41,
   "id": "516ee7f5",
   "metadata": {},
   "outputs": [],
   "source": [
    "perovskite_data['Perovskite_composition_b_ions']=perovskite_data[['Perovskite_composition_b_ions','Perovskite_composition_b_ions_coefficients']].apply(lambda x :ions_one_hot(*x,b_ions),axis=1)"
   ]
  },
  {
   "cell_type": "code",
   "execution_count": 42,
   "id": "e36c174d",
   "metadata": {},
   "outputs": [],
   "source": [
    "perovskite_data['Perovskite_composition_c_ions']=perovskite_data[['Perovskite_composition_c_ions','Perovskite_composition_c_ions_coefficients']].apply(lambda x :ions_one_hot(*x,c_ions),axis=1)"
   ]
  },
  {
   "cell_type": "code",
   "execution_count": 43,
   "id": "3ab76a0c",
   "metadata": {},
   "outputs": [],
   "source": [
    "perovskite_data.dropna(inplace=True)"
   ]
  },
  {
   "cell_type": "code",
   "execution_count": 44,
   "id": "ba3f081a",
   "metadata": {},
   "outputs": [
    {
     "data": {
      "text/html": [
       "<div>\n",
       "<style scoped>\n",
       "    .dataframe tbody tr th:only-of-type {\n",
       "        vertical-align: middle;\n",
       "    }\n",
       "\n",
       "    .dataframe tbody tr th {\n",
       "        vertical-align: top;\n",
       "    }\n",
       "\n",
       "    .dataframe thead th {\n",
       "        text-align: right;\n",
       "    }\n",
       "</style>\n",
       "<table border=\"1\" class=\"dataframe\">\n",
       "  <thead>\n",
       "    <tr style=\"text-align: right;\">\n",
       "      <th></th>\n",
       "      <th>Perovskite_composition_a_ions</th>\n",
       "      <th>Perovskite_composition_a_ions_coefficients</th>\n",
       "      <th>Perovskite_composition_b_ions</th>\n",
       "      <th>Perovskite_composition_b_ions_coefficients</th>\n",
       "      <th>Perovskite_composition_c_ions</th>\n",
       "      <th>Perovskite_composition_c_ions_coefficients</th>\n",
       "      <th>Perovskite_dimension_3D</th>\n",
       "      <th>Perovskite_thickness</th>\n",
       "      <th>Perovskite_band_gap</th>\n",
       "      <th>Layered</th>\n",
       "    </tr>\n",
       "  </thead>\n",
       "  <tbody>\n",
       "    <tr>\n",
       "      <th>15</th>\n",
       "      <td>[0, 0, 1]</td>\n",
       "      <td>1</td>\n",
       "      <td>[1, 0]</td>\n",
       "      <td>1</td>\n",
       "      <td>[0, 3]</td>\n",
       "      <td>3</td>\n",
       "      <td>True</td>\n",
       "      <td>[0.4]</td>\n",
       "      <td>1.6</td>\n",
       "      <td>False</td>\n",
       "    </tr>\n",
       "    <tr>\n",
       "      <th>53</th>\n",
       "      <td>[0, 0, 1]</td>\n",
       "      <td>1</td>\n",
       "      <td>[1, 0]</td>\n",
       "      <td>1</td>\n",
       "      <td>[0, 3]</td>\n",
       "      <td>3</td>\n",
       "      <td>True</td>\n",
       "      <td>[0.35]</td>\n",
       "      <td>1.6</td>\n",
       "      <td>False</td>\n",
       "    </tr>\n",
       "    <tr>\n",
       "      <th>71</th>\n",
       "      <td>[0, 0, 1]</td>\n",
       "      <td>1</td>\n",
       "      <td>[1, 0]</td>\n",
       "      <td>1</td>\n",
       "      <td>[0, 3]</td>\n",
       "      <td>3</td>\n",
       "      <td>True</td>\n",
       "      <td>[0.45]</td>\n",
       "      <td>1.6</td>\n",
       "      <td>False</td>\n",
       "    </tr>\n",
       "    <tr>\n",
       "      <th>79</th>\n",
       "      <td>[0, 0, 1]</td>\n",
       "      <td>1</td>\n",
       "      <td>[1, 0]</td>\n",
       "      <td>1</td>\n",
       "      <td>[0, 3]</td>\n",
       "      <td>3</td>\n",
       "      <td>True</td>\n",
       "      <td>[0.2]</td>\n",
       "      <td>1.6</td>\n",
       "      <td>False</td>\n",
       "    </tr>\n",
       "    <tr>\n",
       "      <th>129</th>\n",
       "      <td>[0, 1, 0]</td>\n",
       "      <td>1</td>\n",
       "      <td>[1, 0]</td>\n",
       "      <td>1</td>\n",
       "      <td>[0, 3]</td>\n",
       "      <td>3</td>\n",
       "      <td>True</td>\n",
       "      <td>[0.33]</td>\n",
       "      <td>1.48</td>\n",
       "      <td>False</td>\n",
       "    </tr>\n",
       "    <tr>\n",
       "      <th>...</th>\n",
       "      <td>...</td>\n",
       "      <td>...</td>\n",
       "      <td>...</td>\n",
       "      <td>...</td>\n",
       "      <td>...</td>\n",
       "      <td>...</td>\n",
       "      <td>...</td>\n",
       "      <td>...</td>\n",
       "      <td>...</td>\n",
       "      <td>...</td>\n",
       "    </tr>\n",
       "    <tr>\n",
       "      <th>42308</th>\n",
       "      <td>[0.08, 0.92, 0]</td>\n",
       "      <td>0.08;0.92</td>\n",
       "      <td>[1.0, 0]</td>\n",
       "      <td>1.0</td>\n",
       "      <td>[0, 3.0]</td>\n",
       "      <td>3.0</td>\n",
       "      <td>True</td>\n",
       "      <td>[0.7]</td>\n",
       "      <td>1.51</td>\n",
       "      <td>False</td>\n",
       "    </tr>\n",
       "    <tr>\n",
       "      <th>42321</th>\n",
       "      <td>[0.1, 0.75, 0.15]</td>\n",
       "      <td>0.1;0.75;0.15</td>\n",
       "      <td>[1, 0]</td>\n",
       "      <td>1</td>\n",
       "      <td>[0.5, 2.5]</td>\n",
       "      <td>0.5;2.5</td>\n",
       "      <td>True</td>\n",
       "      <td>[0.37]</td>\n",
       "      <td>1.63</td>\n",
       "      <td>False</td>\n",
       "    </tr>\n",
       "    <tr>\n",
       "      <th>42384</th>\n",
       "      <td>[0.05, 0.55, 0.4]</td>\n",
       "      <td>0.05;0.55;0.4</td>\n",
       "      <td>[1, 0]</td>\n",
       "      <td>1</td>\n",
       "      <td>[2.88, 0.12]</td>\n",
       "      <td>2.88;0.12</td>\n",
       "      <td>True</td>\n",
       "      <td>[0.3]</td>\n",
       "      <td>1.56</td>\n",
       "      <td>False</td>\n",
       "    </tr>\n",
       "    <tr>\n",
       "      <th>42388</th>\n",
       "      <td>[0.17, 0.83, 0]</td>\n",
       "      <td>0.17;0.83</td>\n",
       "      <td>[1, 0]</td>\n",
       "      <td>1</td>\n",
       "      <td>[2.59, 0.51]</td>\n",
       "      <td>2.59;0.51</td>\n",
       "      <td>True</td>\n",
       "      <td>[0.42]</td>\n",
       "      <td>1.64</td>\n",
       "      <td>False</td>\n",
       "    </tr>\n",
       "    <tr>\n",
       "      <th>42445</th>\n",
       "      <td>[0, 0.7, 0.3]</td>\n",
       "      <td>0.7;0.3</td>\n",
       "      <td>[0.5, 0.5]</td>\n",
       "      <td>0.5;0.5</td>\n",
       "      <td>[0, 3]</td>\n",
       "      <td>3</td>\n",
       "      <td>True</td>\n",
       "      <td>[0.65]</td>\n",
       "      <td>1.22</td>\n",
       "      <td>False</td>\n",
       "    </tr>\n",
       "  </tbody>\n",
       "</table>\n",
       "<p>649 rows × 10 columns</p>\n",
       "</div>"
      ],
      "text/plain": [
       "      Perovskite_composition_a_ions  \\\n",
       "15                        [0, 0, 1]   \n",
       "53                        [0, 0, 1]   \n",
       "71                        [0, 0, 1]   \n",
       "79                        [0, 0, 1]   \n",
       "129                       [0, 1, 0]   \n",
       "...                             ...   \n",
       "42308               [0.08, 0.92, 0]   \n",
       "42321             [0.1, 0.75, 0.15]   \n",
       "42384             [0.05, 0.55, 0.4]   \n",
       "42388               [0.17, 0.83, 0]   \n",
       "42445                 [0, 0.7, 0.3]   \n",
       "\n",
       "      Perovskite_composition_a_ions_coefficients  \\\n",
       "15                                             1   \n",
       "53                                             1   \n",
       "71                                             1   \n",
       "79                                             1   \n",
       "129                                            1   \n",
       "...                                          ...   \n",
       "42308                                  0.08;0.92   \n",
       "42321                              0.1;0.75;0.15   \n",
       "42384                              0.05;0.55;0.4   \n",
       "42388                                  0.17;0.83   \n",
       "42445                                    0.7;0.3   \n",
       "\n",
       "      Perovskite_composition_b_ions  \\\n",
       "15                           [1, 0]   \n",
       "53                           [1, 0]   \n",
       "71                           [1, 0]   \n",
       "79                           [1, 0]   \n",
       "129                          [1, 0]   \n",
       "...                             ...   \n",
       "42308                      [1.0, 0]   \n",
       "42321                        [1, 0]   \n",
       "42384                        [1, 0]   \n",
       "42388                        [1, 0]   \n",
       "42445                    [0.5, 0.5]   \n",
       "\n",
       "      Perovskite_composition_b_ions_coefficients  \\\n",
       "15                                             1   \n",
       "53                                             1   \n",
       "71                                             1   \n",
       "79                                             1   \n",
       "129                                            1   \n",
       "...                                          ...   \n",
       "42308                                        1.0   \n",
       "42321                                          1   \n",
       "42384                                          1   \n",
       "42388                                          1   \n",
       "42445                                    0.5;0.5   \n",
       "\n",
       "      Perovskite_composition_c_ions  \\\n",
       "15                           [0, 3]   \n",
       "53                           [0, 3]   \n",
       "71                           [0, 3]   \n",
       "79                           [0, 3]   \n",
       "129                          [0, 3]   \n",
       "...                             ...   \n",
       "42308                      [0, 3.0]   \n",
       "42321                    [0.5, 2.5]   \n",
       "42384                  [2.88, 0.12]   \n",
       "42388                  [2.59, 0.51]   \n",
       "42445                        [0, 3]   \n",
       "\n",
       "      Perovskite_composition_c_ions_coefficients  Perovskite_dimension_3D  \\\n",
       "15                                             3                     True   \n",
       "53                                             3                     True   \n",
       "71                                             3                     True   \n",
       "79                                             3                     True   \n",
       "129                                            3                     True   \n",
       "...                                          ...                      ...   \n",
       "42308                                        3.0                     True   \n",
       "42321                                    0.5;2.5                     True   \n",
       "42384                                  2.88;0.12                     True   \n",
       "42388                                  2.59;0.51                     True   \n",
       "42445                                          3                     True   \n",
       "\n",
       "      Perovskite_thickness Perovskite_band_gap  Layered  \n",
       "15                   [0.4]                 1.6    False  \n",
       "53                  [0.35]                 1.6    False  \n",
       "71                  [0.45]                 1.6    False  \n",
       "79                   [0.2]                 1.6    False  \n",
       "129                 [0.33]                1.48    False  \n",
       "...                    ...                 ...      ...  \n",
       "42308                [0.7]                1.51    False  \n",
       "42321               [0.37]                1.63    False  \n",
       "42384                [0.3]                1.56    False  \n",
       "42388               [0.42]                1.64    False  \n",
       "42445               [0.65]                1.22    False  \n",
       "\n",
       "[649 rows x 10 columns]"
      ]
     },
     "execution_count": 44,
     "metadata": {},
     "output_type": "execute_result"
    }
   ],
   "source": [
    "perovskite_data"
   ]
  },
  {
   "cell_type": "code",
   "execution_count": 45,
   "id": "e7489ff6",
   "metadata": {},
   "outputs": [],
   "source": [
    "for cols in ['Perovskite_composition_a_ions',\n",
    "       'Perovskite_composition_b_ions',\n",
    "       'Perovskite_composition_c_ions']:\n",
    "    maximum=perovskite_data[cols].map(len).max()\n",
    "    perovskite_data[cols]=perovskite_data[cols].apply(lambda x: x+[0]*(maximum-len(x)))"
   ]
  },
  {
   "cell_type": "code",
   "execution_count": 46,
   "id": "1b3d0c15",
   "metadata": {},
   "outputs": [],
   "source": [
    "perovskite_data['X_train']=perovskite_data[['Perovskite_composition_a_ions',\n",
    "       'Perovskite_composition_b_ions',\n",
    "       'Perovskite_composition_c_ions','Perovskite_thickness']].sum(axis=1)"
   ]
  },
  {
   "cell_type": "code",
   "execution_count": 47,
   "id": "83580919",
   "metadata": {},
   "outputs": [
    {
     "data": {
      "text/html": [
       "<div>\n",
       "<style scoped>\n",
       "    .dataframe tbody tr th:only-of-type {\n",
       "        vertical-align: middle;\n",
       "    }\n",
       "\n",
       "    .dataframe tbody tr th {\n",
       "        vertical-align: top;\n",
       "    }\n",
       "\n",
       "    .dataframe thead th {\n",
       "        text-align: right;\n",
       "    }\n",
       "</style>\n",
       "<table border=\"1\" class=\"dataframe\">\n",
       "  <thead>\n",
       "    <tr style=\"text-align: right;\">\n",
       "      <th></th>\n",
       "      <th>Perovskite_composition_a_ions</th>\n",
       "      <th>Perovskite_composition_a_ions_coefficients</th>\n",
       "      <th>Perovskite_composition_b_ions</th>\n",
       "      <th>Perovskite_composition_b_ions_coefficients</th>\n",
       "      <th>Perovskite_composition_c_ions</th>\n",
       "      <th>Perovskite_composition_c_ions_coefficients</th>\n",
       "      <th>Perovskite_dimension_3D</th>\n",
       "      <th>Perovskite_thickness</th>\n",
       "      <th>Perovskite_band_gap</th>\n",
       "      <th>Layered</th>\n",
       "      <th>X_train</th>\n",
       "    </tr>\n",
       "  </thead>\n",
       "  <tbody>\n",
       "    <tr>\n",
       "      <th>15</th>\n",
       "      <td>[0, 0, 1]</td>\n",
       "      <td>1</td>\n",
       "      <td>[1, 0]</td>\n",
       "      <td>1</td>\n",
       "      <td>[0, 3]</td>\n",
       "      <td>3</td>\n",
       "      <td>True</td>\n",
       "      <td>[0.4]</td>\n",
       "      <td>1.6</td>\n",
       "      <td>False</td>\n",
       "      <td>[0, 0, 1, 1, 0, 0, 3, 0.4]</td>\n",
       "    </tr>\n",
       "    <tr>\n",
       "      <th>53</th>\n",
       "      <td>[0, 0, 1]</td>\n",
       "      <td>1</td>\n",
       "      <td>[1, 0]</td>\n",
       "      <td>1</td>\n",
       "      <td>[0, 3]</td>\n",
       "      <td>3</td>\n",
       "      <td>True</td>\n",
       "      <td>[0.35]</td>\n",
       "      <td>1.6</td>\n",
       "      <td>False</td>\n",
       "      <td>[0, 0, 1, 1, 0, 0, 3, 0.35]</td>\n",
       "    </tr>\n",
       "    <tr>\n",
       "      <th>71</th>\n",
       "      <td>[0, 0, 1]</td>\n",
       "      <td>1</td>\n",
       "      <td>[1, 0]</td>\n",
       "      <td>1</td>\n",
       "      <td>[0, 3]</td>\n",
       "      <td>3</td>\n",
       "      <td>True</td>\n",
       "      <td>[0.45]</td>\n",
       "      <td>1.6</td>\n",
       "      <td>False</td>\n",
       "      <td>[0, 0, 1, 1, 0, 0, 3, 0.45]</td>\n",
       "    </tr>\n",
       "    <tr>\n",
       "      <th>79</th>\n",
       "      <td>[0, 0, 1]</td>\n",
       "      <td>1</td>\n",
       "      <td>[1, 0]</td>\n",
       "      <td>1</td>\n",
       "      <td>[0, 3]</td>\n",
       "      <td>3</td>\n",
       "      <td>True</td>\n",
       "      <td>[0.2]</td>\n",
       "      <td>1.6</td>\n",
       "      <td>False</td>\n",
       "      <td>[0, 0, 1, 1, 0, 0, 3, 0.2]</td>\n",
       "    </tr>\n",
       "    <tr>\n",
       "      <th>129</th>\n",
       "      <td>[0, 1, 0]</td>\n",
       "      <td>1</td>\n",
       "      <td>[1, 0]</td>\n",
       "      <td>1</td>\n",
       "      <td>[0, 3]</td>\n",
       "      <td>3</td>\n",
       "      <td>True</td>\n",
       "      <td>[0.33]</td>\n",
       "      <td>1.48</td>\n",
       "      <td>False</td>\n",
       "      <td>[0, 1, 0, 1, 0, 0, 3, 0.33]</td>\n",
       "    </tr>\n",
       "    <tr>\n",
       "      <th>...</th>\n",
       "      <td>...</td>\n",
       "      <td>...</td>\n",
       "      <td>...</td>\n",
       "      <td>...</td>\n",
       "      <td>...</td>\n",
       "      <td>...</td>\n",
       "      <td>...</td>\n",
       "      <td>...</td>\n",
       "      <td>...</td>\n",
       "      <td>...</td>\n",
       "      <td>...</td>\n",
       "    </tr>\n",
       "    <tr>\n",
       "      <th>42308</th>\n",
       "      <td>[0.08, 0.92, 0]</td>\n",
       "      <td>0.08;0.92</td>\n",
       "      <td>[1.0, 0]</td>\n",
       "      <td>1.0</td>\n",
       "      <td>[0, 3.0]</td>\n",
       "      <td>3.0</td>\n",
       "      <td>True</td>\n",
       "      <td>[0.7]</td>\n",
       "      <td>1.51</td>\n",
       "      <td>False</td>\n",
       "      <td>[0.08, 0.92, 0, 1.0, 0, 0, 3.0, 0.7]</td>\n",
       "    </tr>\n",
       "    <tr>\n",
       "      <th>42321</th>\n",
       "      <td>[0.1, 0.75, 0.15]</td>\n",
       "      <td>0.1;0.75;0.15</td>\n",
       "      <td>[1, 0]</td>\n",
       "      <td>1</td>\n",
       "      <td>[0.5, 2.5]</td>\n",
       "      <td>0.5;2.5</td>\n",
       "      <td>True</td>\n",
       "      <td>[0.37]</td>\n",
       "      <td>1.63</td>\n",
       "      <td>False</td>\n",
       "      <td>[0.1, 0.75, 0.15, 1, 0, 0.5, 2.5, 0.37]</td>\n",
       "    </tr>\n",
       "    <tr>\n",
       "      <th>42384</th>\n",
       "      <td>[0.05, 0.55, 0.4]</td>\n",
       "      <td>0.05;0.55;0.4</td>\n",
       "      <td>[1, 0]</td>\n",
       "      <td>1</td>\n",
       "      <td>[2.88, 0.12]</td>\n",
       "      <td>2.88;0.12</td>\n",
       "      <td>True</td>\n",
       "      <td>[0.3]</td>\n",
       "      <td>1.56</td>\n",
       "      <td>False</td>\n",
       "      <td>[0.05, 0.55, 0.4, 1, 0, 2.88, 0.12, 0.3]</td>\n",
       "    </tr>\n",
       "    <tr>\n",
       "      <th>42388</th>\n",
       "      <td>[0.17, 0.83, 0]</td>\n",
       "      <td>0.17;0.83</td>\n",
       "      <td>[1, 0]</td>\n",
       "      <td>1</td>\n",
       "      <td>[2.59, 0.51]</td>\n",
       "      <td>2.59;0.51</td>\n",
       "      <td>True</td>\n",
       "      <td>[0.42]</td>\n",
       "      <td>1.64</td>\n",
       "      <td>False</td>\n",
       "      <td>[0.17, 0.83, 0, 1, 0, 2.59, 0.51, 0.42]</td>\n",
       "    </tr>\n",
       "    <tr>\n",
       "      <th>42445</th>\n",
       "      <td>[0, 0.7, 0.3]</td>\n",
       "      <td>0.7;0.3</td>\n",
       "      <td>[0.5, 0.5]</td>\n",
       "      <td>0.5;0.5</td>\n",
       "      <td>[0, 3]</td>\n",
       "      <td>3</td>\n",
       "      <td>True</td>\n",
       "      <td>[0.65]</td>\n",
       "      <td>1.22</td>\n",
       "      <td>False</td>\n",
       "      <td>[0, 0.7, 0.3, 0.5, 0.5, 0, 3, 0.65]</td>\n",
       "    </tr>\n",
       "  </tbody>\n",
       "</table>\n",
       "<p>649 rows × 11 columns</p>\n",
       "</div>"
      ],
      "text/plain": [
       "      Perovskite_composition_a_ions  \\\n",
       "15                        [0, 0, 1]   \n",
       "53                        [0, 0, 1]   \n",
       "71                        [0, 0, 1]   \n",
       "79                        [0, 0, 1]   \n",
       "129                       [0, 1, 0]   \n",
       "...                             ...   \n",
       "42308               [0.08, 0.92, 0]   \n",
       "42321             [0.1, 0.75, 0.15]   \n",
       "42384             [0.05, 0.55, 0.4]   \n",
       "42388               [0.17, 0.83, 0]   \n",
       "42445                 [0, 0.7, 0.3]   \n",
       "\n",
       "      Perovskite_composition_a_ions_coefficients  \\\n",
       "15                                             1   \n",
       "53                                             1   \n",
       "71                                             1   \n",
       "79                                             1   \n",
       "129                                            1   \n",
       "...                                          ...   \n",
       "42308                                  0.08;0.92   \n",
       "42321                              0.1;0.75;0.15   \n",
       "42384                              0.05;0.55;0.4   \n",
       "42388                                  0.17;0.83   \n",
       "42445                                    0.7;0.3   \n",
       "\n",
       "      Perovskite_composition_b_ions  \\\n",
       "15                           [1, 0]   \n",
       "53                           [1, 0]   \n",
       "71                           [1, 0]   \n",
       "79                           [1, 0]   \n",
       "129                          [1, 0]   \n",
       "...                             ...   \n",
       "42308                      [1.0, 0]   \n",
       "42321                        [1, 0]   \n",
       "42384                        [1, 0]   \n",
       "42388                        [1, 0]   \n",
       "42445                    [0.5, 0.5]   \n",
       "\n",
       "      Perovskite_composition_b_ions_coefficients  \\\n",
       "15                                             1   \n",
       "53                                             1   \n",
       "71                                             1   \n",
       "79                                             1   \n",
       "129                                            1   \n",
       "...                                          ...   \n",
       "42308                                        1.0   \n",
       "42321                                          1   \n",
       "42384                                          1   \n",
       "42388                                          1   \n",
       "42445                                    0.5;0.5   \n",
       "\n",
       "      Perovskite_composition_c_ions  \\\n",
       "15                           [0, 3]   \n",
       "53                           [0, 3]   \n",
       "71                           [0, 3]   \n",
       "79                           [0, 3]   \n",
       "129                          [0, 3]   \n",
       "...                             ...   \n",
       "42308                      [0, 3.0]   \n",
       "42321                    [0.5, 2.5]   \n",
       "42384                  [2.88, 0.12]   \n",
       "42388                  [2.59, 0.51]   \n",
       "42445                        [0, 3]   \n",
       "\n",
       "      Perovskite_composition_c_ions_coefficients  Perovskite_dimension_3D  \\\n",
       "15                                             3                     True   \n",
       "53                                             3                     True   \n",
       "71                                             3                     True   \n",
       "79                                             3                     True   \n",
       "129                                            3                     True   \n",
       "...                                          ...                      ...   \n",
       "42308                                        3.0                     True   \n",
       "42321                                    0.5;2.5                     True   \n",
       "42384                                  2.88;0.12                     True   \n",
       "42388                                  2.59;0.51                     True   \n",
       "42445                                          3                     True   \n",
       "\n",
       "      Perovskite_thickness Perovskite_band_gap  Layered  \\\n",
       "15                   [0.4]                 1.6    False   \n",
       "53                  [0.35]                 1.6    False   \n",
       "71                  [0.45]                 1.6    False   \n",
       "79                   [0.2]                 1.6    False   \n",
       "129                 [0.33]                1.48    False   \n",
       "...                    ...                 ...      ...   \n",
       "42308                [0.7]                1.51    False   \n",
       "42321               [0.37]                1.63    False   \n",
       "42384                [0.3]                1.56    False   \n",
       "42388               [0.42]                1.64    False   \n",
       "42445               [0.65]                1.22    False   \n",
       "\n",
       "                                        X_train  \n",
       "15                   [0, 0, 1, 1, 0, 0, 3, 0.4]  \n",
       "53                  [0, 0, 1, 1, 0, 0, 3, 0.35]  \n",
       "71                  [0, 0, 1, 1, 0, 0, 3, 0.45]  \n",
       "79                   [0, 0, 1, 1, 0, 0, 3, 0.2]  \n",
       "129                 [0, 1, 0, 1, 0, 0, 3, 0.33]  \n",
       "...                                         ...  \n",
       "42308      [0.08, 0.92, 0, 1.0, 0, 0, 3.0, 0.7]  \n",
       "42321   [0.1, 0.75, 0.15, 1, 0, 0.5, 2.5, 0.37]  \n",
       "42384  [0.05, 0.55, 0.4, 1, 0, 2.88, 0.12, 0.3]  \n",
       "42388   [0.17, 0.83, 0, 1, 0, 2.59, 0.51, 0.42]  \n",
       "42445       [0, 0.7, 0.3, 0.5, 0.5, 0, 3, 0.65]  \n",
       "\n",
       "[649 rows x 11 columns]"
      ]
     },
     "execution_count": 47,
     "metadata": {},
     "output_type": "execute_result"
    }
   ],
   "source": [
    "perovskite_data"
   ]
  },
  {
   "cell_type": "code",
   "execution_count": 48,
   "id": "b9f18d5c",
   "metadata": {},
   "outputs": [],
   "source": [
    "train=np.asanyarray(perovskite_data['X_train'].tolist(),dtype=float)"
   ]
  },
  {
   "cell_type": "code",
   "execution_count": 49,
   "id": "9f37e237",
   "metadata": {},
   "outputs": [],
   "source": [
    "os.environ[\"CUDA_DEVICE_ORDER\"]=\"PCI_BUS_ID\"   # see issue #152\n",
    "os.environ[\"CUDA_VISIBLE_DEVICES\"]=\"5\""
   ]
  },
  {
   "cell_type": "code",
   "execution_count": 50,
   "id": "00a2bfaf",
   "metadata": {},
   "outputs": [],
   "source": [
    "label=np.asanyarray(perovskite_data['Perovskite_band_gap'].tolist(),dtype=float)"
   ]
  },
  {
   "cell_type": "code",
   "execution_count": 51,
   "id": "75c2e30d",
   "metadata": {},
   "outputs": [],
   "source": [
    "from sklearn.utils import shuffle\n",
    "\n",
    "train , label = shuffle(train,label, random_state=12)"
   ]
  },
  {
   "cell_type": "code",
   "execution_count": 52,
   "id": "ddccad08",
   "metadata": {},
   "outputs": [],
   "source": [
    "# save to csv file\n",
    "from numpy import savetxt\n",
    "savetxt('trainThickness.csv', train, delimiter=',')\n",
    "savetxt('labelThickness.csv', label, delimiter=',')"
   ]
  },
  {
   "cell_type": "code",
   "execution_count": 53,
   "id": "6ce24a32",
   "metadata": {},
   "outputs": [],
   "source": [
    "from numpy import loadtxt\n",
    "# load array\n",
    "train = loadtxt('trainThickness.csv', delimiter=',')\n",
    "label = loadtxt('labelThickness.csv', delimiter=',')"
   ]
  },
  {
   "cell_type": "code",
   "execution_count": 54,
   "id": "abc6fc5c",
   "metadata": {},
   "outputs": [],
   "source": [
    "X_train, X_test, y_train, y_test = train_test_split(train, label, test_size=0.15)"
   ]
  },
  {
   "cell_type": "markdown",
   "id": "6a3d86b5",
   "metadata": {},
   "source": [
    "# Models"
   ]
  },
  {
   "cell_type": "code",
   "execution_count": 55,
   "id": "2a136fec",
   "metadata": {},
   "outputs": [],
   "source": [
    "from sklearn.metrics import r2_score\n",
    "import optuna\n",
    "from sklearn.ensemble import BaggingRegressor,AdaBoostRegressor,GradientBoostingRegressor\n",
    "from sklearn.neighbors import KNeighborsRegressor\n",
    "from sklearn.tree import DecisionTreeRegressor\n",
    "import xgboost as xgb\n",
    "from sklearn.svm import SVR"
   ]
  },
  {
   "cell_type": "markdown",
   "id": "f6a765b0",
   "metadata": {},
   "source": [
    "# Optuna"
   ]
  },
  {
   "cell_type": "code",
   "execution_count": 56,
   "id": "3747e8f8",
   "metadata": {},
   "outputs": [],
   "source": [
    "def bossting_objective(trail):\n",
    "    result=[]\n",
    "    n_neighbors = trail.suggest_int('n_neighbors',1,50)\n",
    "    leaf_size= trail.suggest_int('leaf_size',1,100)\n",
    "    p= trail.suggest_int('p',1,2)\n",
    "    n_jobs = trail.suggest_int('n_jobs',2,8)\n",
    "\n",
    "\n",
    "    number_of_splits=trail.suggest_int('number_of_splits',4,7)\n",
    "    k_fold=KFold(n_splits=number_of_splits)\n",
    "    params={x:y for (x,y) in trail.params.items() if x!='number_of_splits'}\n",
    "    for tr, tst in k_fold.split(train,label):\n",
    "        reg = KNeighborsRegressor(n_neighbors=3,leaf_size=leaf_size,p=p,n_jobs=n_jobs)\n",
    "        X_train, X_test, y_train, y_test = train[tr],train[tst],label[tr],label[tst]\n",
    "        reg.fit(X_train, y_train)\n",
    "        result.append(round(r2_score(y_test,reg.predict(X_test)),4))\n",
    "            \n",
    "    return np.average(result)"
   ]
  },
  {
   "cell_type": "code",
   "execution_count": 57,
   "id": "e2cb5036",
   "metadata": {},
   "outputs": [],
   "source": [
    "# study = optuna.create_study(direction=\"maximize\")\n",
    "# study.optimize(bossting_objective, n_trials=10000)"
   ]
  },
  {
   "cell_type": "code",
   "execution_count": 58,
   "id": "b5a5cd84",
   "metadata": {},
   "outputs": [],
   "source": [
    "# print('r2: ' + str(study.best_value))\n",
    "# print('Best parameter: ' + str(study.best_params))"
   ]
  },
  {
   "cell_type": "code",
   "execution_count": 59,
   "id": "38bef16a",
   "metadata": {},
   "outputs": [
    {
     "data": {
      "text/plain": [
       "KNeighborsRegressor(leaf_size=1, n_jobs=4, n_neighbors=3)"
      ]
     },
     "execution_count": 59,
     "metadata": {},
     "output_type": "execute_result"
    }
   ],
   "source": [
    "reg = KNeighborsRegressor(n_neighbors=3,leaf_size=1,p=2,n_jobs=4)\n",
    "# reg = KNeighborsRegressor()\n",
    "reg.fit(X_train, y_train)"
   ]
  },
  {
   "cell_type": "code",
   "execution_count": 60,
   "id": "e76ee0a9",
   "metadata": {},
   "outputs": [
    {
     "name": "stdout",
     "output_type": "stream",
     "text": [
      "0.7580003655623075\n"
     ]
    }
   ],
   "source": [
    "print(r2_score(y_test,reg.predict(X_test)))"
   ]
  },
  {
   "cell_type": "code",
   "execution_count": 61,
   "id": "29bd0ab3",
   "metadata": {},
   "outputs": [
    {
     "name": "stderr",
     "output_type": "stream",
     "text": [
      "2022-10-24 17:44:01.119809: I tensorflow/core/platform/cpu_feature_guard.cc:193] This TensorFlow binary is optimized with oneAPI Deep Neural Network Library (oneDNN) to use the following CPU instructions in performance-critical operations:  AVX2 FMA\n",
      "To enable them in other operations, rebuild TensorFlow with the appropriate compiler flags.\n",
      "2022-10-24 17:44:01.541520: W tensorflow/stream_executor/platform/default/dso_loader.cc:64] Could not load dynamic library 'libcudart.so.11.0'; dlerror: libcudart.so.11.0: cannot open shared object file: No such file or directory; LD_LIBRARY_PATH: /usr/local/cuda-9.0/lib64\n",
      "2022-10-24 17:44:01.541592: I tensorflow/stream_executor/cuda/cudart_stub.cc:29] Ignore above cudart dlerror if you do not have a GPU set up on your machine.\n",
      "2022-10-24 17:44:01.600560: E tensorflow/stream_executor/cuda/cuda_blas.cc:2981] Unable to register cuBLAS factory: Attempting to register factory for plugin cuBLAS when one has already been registered\n",
      "2022-10-24 17:44:03.065572: W tensorflow/stream_executor/platform/default/dso_loader.cc:64] Could not load dynamic library 'libnvinfer.so.7'; dlerror: libnvinfer.so.7: cannot open shared object file: No such file or directory; LD_LIBRARY_PATH: /usr/local/cuda-9.0/lib64\n",
      "2022-10-24 17:44:03.065758: W tensorflow/stream_executor/platform/default/dso_loader.cc:64] Could not load dynamic library 'libnvinfer_plugin.so.7'; dlerror: libnvinfer_plugin.so.7: cannot open shared object file: No such file or directory; LD_LIBRARY_PATH: /usr/local/cuda-9.0/lib64\n",
      "2022-10-24 17:44:03.065773: W tensorflow/compiler/tf2tensorrt/utils/py_utils.cc:38] TF-TRT Warning: Cannot dlopen some TensorRT libraries. If you would like to use Nvidia GPU with TensorRT, please make sure the missing libraries mentioned above are installed properly.\n"
     ]
    }
   ],
   "source": [
    "import shap"
   ]
  },
  {
   "cell_type": "code",
   "execution_count": 62,
   "id": "9f622ee8",
   "metadata": {},
   "outputs": [],
   "source": [
    "from catboost import CatBoostRegressor, Pool"
   ]
  },
  {
   "cell_type": "code",
   "execution_count": 63,
   "id": "85624a36",
   "metadata": {},
   "outputs": [],
   "source": [
    "params = {'iterations':25180,\n",
    "        'learning_rate':0.09156529296158666,\n",
    "        'depth':2,\n",
    "        'loss_function':'RMSE',\n",
    "        'eval_metric':'RMSE',\n",
    "        'random_seed':193,\n",
    "        'metric_period':322,  \n",
    "        'od_type':\"Iter\",  \n",
    "        'od_wait':96,  \n",
    "        'verbose':True,\n",
    "        'use_best_model':True}"
   ]
  },
  {
   "cell_type": "code",
   "execution_count": 64,
   "id": "2bebf108",
   "metadata": {},
   "outputs": [],
   "source": [
    "params = {'iterations': 22242, 'learning_rate': 0.09961360643124463, 'depth': 9,\n",
    " 'random_seed': 66, 'metric_period': 140, 'od_wait': 141}"
   ]
  },
  {
   "cell_type": "code",
   "execution_count": 65,
   "id": "e567301a",
   "metadata": {},
   "outputs": [],
   "source": [
    "model_regressor = CatBoostRegressor(**params)\n"
   ]
  },
  {
   "cell_type": "code",
   "execution_count": 66,
   "id": "df3badb4",
   "metadata": {},
   "outputs": [
    {
     "data": {
      "application/vnd.jupyter.widget-view+json": {
       "model_id": "2526c115afbf4384b2027b6634f83119",
       "version_major": 2,
       "version_minor": 0
      },
      "text/plain": [
       "MetricVisualizer(layout=Layout(align_self='stretch', height='500px'))"
      ]
     },
     "metadata": {},
     "output_type": "display_data"
    },
    {
     "name": "stderr",
     "output_type": "stream",
     "text": [
      "Warning: Overfitting detector is active, thus evaluation metric is calculated on every iteration. 'metric_period' is ignored for evaluation metric.\n"
     ]
    },
    {
     "name": "stdout",
     "output_type": "stream",
     "text": [
      "0:\tlearn: 0.1912185\ttest: 0.1520003\tbest: 0.1520003 (0)\ttotal: 63.8ms\tremaining: 23m 38s\n",
      "140:\tlearn: 0.0337434\ttest: 0.0665486\tbest: 0.0631262 (54)\ttotal: 687ms\tremaining: 1m 47s\n",
      "Stopped by overfitting detector  (141 iterations wait)\n",
      "\n",
      "bestTest = 0.06312621121\n",
      "bestIteration = 54\n",
      "\n",
      "Shrink model to first 55 iterations.\n"
     ]
    }
   ],
   "source": [
    "model_regressor.fit(X_train, y_train, \n",
    "          eval_set=(X_test, y_test),  \n",
    "          use_best_model=True,  \n",
    "          plot= True   \n",
    "         );"
   ]
  },
  {
   "cell_type": "code",
   "execution_count": 67,
   "id": "ea3b2e19",
   "metadata": {},
   "outputs": [
    {
     "name": "stdout",
     "output_type": "stream",
     "text": [
      "0.8486168852866268\n"
     ]
    }
   ],
   "source": [
    "print(r2_score(y_test,model_regressor.predict(X_test)))"
   ]
  },
  {
   "cell_type": "code",
   "execution_count": 68,
   "id": "bbc5471c",
   "metadata": {},
   "outputs": [],
   "source": [
    "# shap_values = model_regressor.get_feature_importance(Pool(X_test, label=y_test,feature_names=features) , type=\"ShapValues\")"
   ]
  },
  {
   "cell_type": "code",
   "execution_count": 69,
   "id": "b56ee37c",
   "metadata": {},
   "outputs": [],
   "source": [
    "# expected_value = shap_values[0,-1]\n",
    "# shap_values = shap_values[:,:-1]\n",
    "\n",
    "# shap.initjs()\n",
    "# shap.force_plot(expected_value, shap_values[0,:],)"
   ]
  },
  {
   "cell_type": "code",
   "execution_count": 70,
   "id": "58c52802",
   "metadata": {},
   "outputs": [],
   "source": [
    "# shap.summary_plot(shap_values, X_test,feature_names=features)"
   ]
  },
  {
   "cell_type": "code",
   "execution_count": 71,
   "id": "bd373562",
   "metadata": {},
   "outputs": [],
   "source": [
    "# #Get shap values\n",
    "# explainer = shap.Explainer(model_regressor,feature_names=features)\n",
    "# shap_values = explainer(X_test)"
   ]
  },
  {
   "cell_type": "code",
   "execution_count": 72,
   "id": "3971c936",
   "metadata": {},
   "outputs": [],
   "source": [
    "# shap.plots.waterfall(shap_values[0],)"
   ]
  },
  {
   "cell_type": "code",
   "execution_count": 73,
   "id": "f8d5a012",
   "metadata": {},
   "outputs": [],
   "source": [
    "# expected_value = explainer.expected_value\n",
    "# shap_array = explainer.shap_values(X_test)\n",
    "\n",
    "# c = ['1','2','3','4','5','6','7','8','9','10']\n",
    "# #Descion plot for first 10 observations\n",
    "# shap.decision_plot(expected_value, shap_array[0:10],feature_names=features)"
   ]
  },
  {
   "cell_type": "code",
   "execution_count": 74,
   "id": "10400f10",
   "metadata": {
    "scrolled": true
   },
   "outputs": [],
   "source": [
    "# shap.plots.bar(shap_values)"
   ]
  },
  {
   "cell_type": "code",
   "execution_count": 75,
   "id": "05dd10c6",
   "metadata": {},
   "outputs": [],
   "source": [
    "# shap.plots.beeswarm(shap_values)"
   ]
  },
  {
   "cell_type": "code",
   "execution_count": 76,
   "id": "08005a7c",
   "metadata": {},
   "outputs": [],
   "source": [
    "from sklearn.metrics import r2_score,mean_absolute_error,mean_squared_error\n",
    "import math\n",
    "import matplotlib.pyplot as plt"
   ]
  },
  {
   "cell_type": "code",
   "execution_count": 77,
   "id": "dd91ff9e",
   "metadata": {},
   "outputs": [],
   "source": [
    "y_ped = model_regressor.predict(X_test)"
   ]
  },
  {
   "cell_type": "code",
   "execution_count": 78,
   "id": "a9c2bf4a",
   "metadata": {},
   "outputs": [],
   "source": [
    "# y_ped"
   ]
  },
  {
   "cell_type": "code",
   "execution_count": 79,
   "id": "52ccc79c",
   "metadata": {},
   "outputs": [],
   "source": [
    "# y_test"
   ]
  },
  {
   "cell_type": "code",
   "execution_count": 80,
   "id": "bb3dcd99",
   "metadata": {},
   "outputs": [
    {
     "data": {
      "image/png": "[encoded data removed]",
      "text/plain": [
       "<Figure size 432x288 with 1 Axes>"
      ]
     },
     "metadata": {
      "needs_background": "light"
     },
     "output_type": "display_data"
    }
   ],
   "source": [
    "plt.scatter(y_ped,y_test,s=10,marker =\"s\",c=y_test,cmap=plt.get_cmap('plasma'))\n",
    "plt.plot(y_test,y_test)\n",
    "plt.xlabel('Ground truth')\n",
    "plt.ylabel('Prediction')\n",
    "plt.title('CatBoostRegressor')\n",
    "plt.grid(False)\n",
    "plt.savefig('CatBoostRegressor.png', dpi=400,transparent=True,bbox_inches = \"tight\")\n",
    "plt.show()"
   ]
  },
  {
   "cell_type": "code",
   "execution_count": 81,
   "id": "c28e6ed5",
   "metadata": {},
   "outputs": [
    {
     "name": "stdout",
     "output_type": "stream",
     "text": [
      "0.003984918067475913\n"
     ]
    }
   ],
   "source": [
    "MSE = mean_squared_error(y_test, y_ped)\n",
    "print(MSE)"
   ]
  },
  {
   "cell_type": "code",
   "execution_count": 82,
   "id": "bb86d225",
   "metadata": {},
   "outputs": [
    {
     "name": "stdout",
     "output_type": "stream",
     "text": [
      "0.03253894442262151\n"
     ]
    }
   ],
   "source": [
    "print(mean_absolute_error(y_test,y_ped))"
   ]
  },
  {
   "cell_type": "code",
   "execution_count": 83,
   "id": "717ff63a",
   "metadata": {},
   "outputs": [
    {
     "name": "stdout",
     "output_type": "stream",
     "text": [
      "Root Mean Square Error:\n",
      "\n",
      "0.06312620745360768\n"
     ]
    }
   ],
   "source": [
    "RMSE = math.sqrt(MSE)\n",
    "print(\"Root Mean Square Error:\\n\")\n",
    "print(RMSE)"
   ]
  },
  {
   "cell_type": "code",
   "execution_count": 84,
   "id": "0edeb2a7",
   "metadata": {},
   "outputs": [],
   "source": [
    "# plt.figure(figsize=(18, 9))"
   ]
  },
  {
   "cell_type": "code",
   "execution_count": 85,
   "id": "df5ee5d6",
   "metadata": {},
   "outputs": [],
   "source": [
    "#Plot 1\n",
    "# plt.scatter(perovskite_data['Perovskite_composition_c_ions_coefficients'],perovskite_data['Perovskite_band_gap'])\n",
    "# plt.ylabel('Perovskite_band_gap',size=20)\n",
    "# plt.xlabel('Perovskite_composition_c_ions_coefficients',size=20)"
   ]
  },
  {
   "cell_type": "code",
   "execution_count": 86,
   "id": "cf402c55",
   "metadata": {},
   "outputs": [],
   "source": [
    "#Get shap values"
   ]
  },
  {
   "cell_type": "code",
   "execution_count": 87,
   "id": "546d4b26",
   "metadata": {},
   "outputs": [],
   "source": [
    "explainer = shap.Explainer(model_regressor,feature_names=features)"
   ]
  },
  {
   "cell_type": "code",
   "execution_count": 88,
   "id": "0853b0d7",
   "metadata": {},
   "outputs": [],
   "source": [
    "#explainer = shap.Explainer(model_regressor)"
   ]
  },
  {
   "cell_type": "code",
   "execution_count": 89,
   "id": "4e1cb5f7",
   "metadata": {},
   "outputs": [],
   "source": [
    "shap_values = explainer(X_train)"
   ]
  },
  {
   "cell_type": "code",
   "execution_count": 90,
   "id": "e6d07577",
   "metadata": {},
   "outputs": [
    {
     "data": {
      "text/plain": [
       "551"
      ]
     },
     "execution_count": 90,
     "metadata": {},
     "output_type": "execute_result"
    }
   ],
   "source": [
    "len(X_train)"
   ]
  },
  {
   "cell_type": "code",
   "execution_count": 91,
   "id": "f86b12b1",
   "metadata": {},
   "outputs": [
    {
     "data": {
      "image/png": "[encoded data removed]",
      "text/plain": [
       "<Figure size 576x396 with 3 Axes>"
      ]
     },
     "metadata": {},
     "output_type": "display_data"
    }
   ],
   "source": [
    "shap.plots.waterfall(shap_values[0],)"
   ]
  },
  {
   "cell_type": "code",
   "execution_count": 92,
   "id": "b5e20c97",
   "metadata": {},
   "outputs": [
    {
     "data": {
      "text/html": [
       "\n",
       "<div id='i546PERQAIPI2N1UK8F8F'>\n",
       "<div style='color: #900; text-align: center;'>\n",
       "  <b>Visualization omitted, Javascript library not loaded!</b><br>\n",
       "  Have you run `initjs()` in this notebook? If this notebook was from another\n",
       "  user you must also trust this notebook (File -> Trust notebook). If you are viewing\n",
       "  this notebook on github the Javascript has been stripped for security. If you are using\n",
       "  JupyterLab this error is because a JupyterLab extension has not yet been written.\n",
       "</div></div>\n",
       " <script>\n",
       "   if (window.SHAP) SHAP.ReactDom.render(\n",
       "    SHAP.React.createElement(SHAP.AdditiveForceVisualizer, {\"outNames\": [\"f(x)\"], \"baseValue\": 1.613449055889395, \"outValue\": 1.5121292274141975, \"link\": \"identity\", \"featureNames\": [\"Cs\", \"FA\", \"MA\", \"Pb\", \"Sn\", \"Br\", \"I\", \"Thickness\"], \"features\": {\"0\": {\"effect\": -0.008725187213531571, \"value\": 0.0}, \"1\": {\"effect\": -0.05117908151186407, \"value\": 1.0}, \"2\": {\"effect\": -0.015424101109561876, \"value\": 0.0}, \"3\": {\"effect\": 0.008963750238558157, \"value\": 1.0}, \"4\": {\"effect\": 0.020457426108860702, \"value\": 0.0}, \"5\": {\"effect\": -0.030560688389356782, \"value\": 0.0}, \"6\": {\"effect\": -0.024406320232079736, \"value\": 3.0}, \"7\": {\"effect\": -0.00044562636622234994, \"value\": 0.45}}, \"plot_cmap\": \"RdBu\", \"labelMargin\": 20}),\n",
       "    document.getElementById('i546PERQAIPI2N1UK8F8F')\n",
       "  );\n",
       "</script>"
      ],
      "text/plain": [
       "<shap.plots._force.AdditiveForceVisualizer at 0x7f44eb88f6d0>"
      ]
     },
     "execution_count": 92,
     "metadata": {},
     "output_type": "execute_result"
    }
   ],
   "source": [
    "# Forceplot for first observation\n",
    "shap.plots.force(shap_values[0])"
   ]
  },
  {
   "cell_type": "code",
   "execution_count": 93,
   "id": "43917353",
   "metadata": {},
   "outputs": [
    {
     "data": {
      "image/png": "[encoded data removed]",
      "text/plain": [
       "<Figure size 576x338.4 with 1 Axes>"
      ]
     },
     "metadata": {
      "needs_background": "light"
     },
     "output_type": "display_data"
    }
   ],
   "source": [
    "# Get expected value and shap values array\n",
    "expected_value = explainer.expected_value\n",
    "shap_array = explainer.shap_values(X_train)\n",
    "\n",
    "#Descion plot for first 10 observations\n",
    "shap.decision_plot(expected_value, shap_array[0:20],feature_names=features)"
   ]
  },
  {
   "cell_type": "code",
   "execution_count": 94,
   "id": "8fcacf62",
   "metadata": {},
   "outputs": [
    {
     "data": {
      "image/png": "[encoded data removed]",
      "text/plain": [
       "<Figure size 576x396 with 1 Axes>"
      ]
     },
     "metadata": {},
     "output_type": "display_data"
    }
   ],
   "source": [
    "#Mean SHAP\n",
    "shap.plots.bar(shap_values)"
   ]
  },
  {
   "cell_type": "code",
   "execution_count": 95,
   "id": "65c433ee",
   "metadata": {},
   "outputs": [
    {
     "data": {
      "image/png": "[encoded data removed]",
      "text/plain": [
       "<Figure size 576x338.4 with 2 Axes>"
      ]
     },
     "metadata": {
      "needs_background": "light"
     },
     "output_type": "display_data"
    }
   ],
   "source": [
    "# Beeswarm plot\n",
    "import matplotlib.pyplot as plt\n",
    "shap.plots.beeswarm(shap_values)"
   ]
  },
  {
   "cell_type": "code",
   "execution_count": 96,
   "id": "0e3d416a",
   "metadata": {},
   "outputs": [
    {
     "data": {
      "text/plain": [
       "['Cs', 'FA', 'MA', 'Pb', 'Sn', 'Br', 'I', 'Thickness']"
      ]
     },
     "execution_count": 96,
     "metadata": {},
     "output_type": "execute_result"
    }
   ],
   "source": [
    "features"
   ]
  },
  {
   "cell_type": "code",
   "execution_count": 97,
   "id": "99462a18",
   "metadata": {},
   "outputs": [
    {
     "data": {
      "image/png": "[encoded data removed]",
      "text/plain": [
       "<Figure size 576x338.4 with 2 Axes>"
      ]
     },
     "metadata": {
      "needs_background": "light"
     },
     "output_type": "display_data"
    }
   ],
   "source": [
    "shap.plots.beeswarm(shap_values,color=plt.get_cmap(\"cool\"),order=shap_values.abs.max(0))"
   ]
  },
  {
   "cell_type": "code",
   "execution_count": 98,
   "id": "59f831bf",
   "metadata": {},
   "outputs": [
    {
     "data": {
      "image/png": "[encoded data removed]",
      "text/plain": [
       "<Figure size 1152x576 with 4 Axes>"
      ]
     },
     "metadata": {
      "needs_background": "light"
     },
     "output_type": "display_data"
    }
   ],
   "source": [
    "fig, ax = plt.subplots(nrows=1, ncols=2,figsize=(16,8))\n",
    "\n",
    "#SHAP scatter plots\n",
    "shap.plots.scatter(shap_values[:,\"Sn\"],ax=ax[0],show=False)\n",
    "shap.plots.scatter(shap_values[:,\"I\"],ax=ax[1],show=False)"
   ]
  },
  {
   "cell_type": "code",
   "execution_count": null,
   "id": "d790ec6b",
   "metadata": {},
   "outputs": [],
   "source": []
  },
  {
   "cell_type": "code",
   "execution_count": 99,
   "id": "b8564d17",
   "metadata": {},
   "outputs": [],
   "source": [
    "explainerNew = shap.KernelExplainer(model_regressor.predict, X_train[:100],link= \"identity\")"
   ]
  },
  {
   "cell_type": "code",
   "execution_count": null,
   "id": "a727492e",
   "metadata": {},
   "outputs": [],
   "source": []
  },
  {
   "cell_type": "code",
   "execution_count": 100,
   "id": "9202c9ae",
   "metadata": {},
   "outputs": [],
   "source": [
    "from sklearn.ensemble import RandomForestRegressor"
   ]
  },
  {
   "cell_type": "code",
   "execution_count": 101,
   "id": "d63efd94",
   "metadata": {},
   "outputs": [],
   "source": [
    "rf = RandomForestRegressor()"
   ]
  },
  {
   "cell_type": "code",
   "execution_count": 102,
   "id": "7ec468c3",
   "metadata": {},
   "outputs": [
    {
     "data": {
      "text/plain": [
       "RandomForestRegressor()"
      ]
     },
     "execution_count": 102,
     "metadata": {},
     "output_type": "execute_result"
    }
   ],
   "source": [
    "rf.fit(X_train,y_train)"
   ]
  },
  {
   "cell_type": "code",
   "execution_count": 103,
   "id": "50af4301",
   "metadata": {},
   "outputs": [],
   "source": [
    "# Predict on test data\n",
    "prediction = rf.predict(X_test)"
   ]
  },
  {
   "cell_type": "code",
   "execution_count": 104,
   "id": "75aea19a",
   "metadata": {},
   "outputs": [
    {
     "name": "stdout",
     "output_type": "stream",
     "text": [
      "0.004313326125205962\n"
     ]
    }
   ],
   "source": [
    "# Compute mean squared error\n",
    "mse = mean_squared_error(y_test, prediction)\n",
    "# Print results\n",
    "print(mse)"
   ]
  },
  {
   "cell_type": "code",
   "execution_count": 105,
   "id": "ba2f99d3",
   "metadata": {},
   "outputs": [
    {
     "name": "stdout",
     "output_type": "stream",
     "text": [
      "0.8361409864514886\n"
     ]
    }
   ],
   "source": [
    "print(r2_score(y_test,rf.predict(X_test)))"
   ]
  },
  {
   "cell_type": "code",
   "execution_count": 106,
   "id": "0b90605d",
   "metadata": {},
   "outputs": [
    {
     "data": {
      "text/plain": [
       "array([0.    , 0.    , 1.    , 1.    , 0.    , 0.    , 3.    , 0.2694])"
      ]
     },
     "execution_count": 106,
     "metadata": {},
     "output_type": "execute_result"
    }
   ],
   "source": [
    "X_test[0]"
   ]
  },
  {
   "cell_type": "code",
   "execution_count": null,
   "id": "660c1ccb",
   "metadata": {},
   "outputs": [],
   "source": []
  },
  {
   "cell_type": "code",
   "execution_count": 107,
   "id": "1dc5463a",
   "metadata": {},
   "outputs": [],
   "source": [
    "firstVal = rf.predict(X_test)"
   ]
  },
  {
   "cell_type": "code",
   "execution_count": null,
   "id": "5acac88a",
   "metadata": {},
   "outputs": [],
   "source": []
  },
  {
   "cell_type": "code",
   "execution_count": 108,
   "id": "f9d87b14",
   "metadata": {},
   "outputs": [],
   "source": [
    "secondPred = model_regressor.predict(X_test)"
   ]
  },
  {
   "cell_type": "code",
   "execution_count": null,
   "id": "dbea92c5",
   "metadata": {},
   "outputs": [],
   "source": []
  },
  {
   "cell_type": "code",
   "execution_count": 109,
   "id": "4435c958",
   "metadata": {},
   "outputs": [],
   "source": [
    "# val = 56\n",
    "# print(secondPred[val])\n",
    "# print(firstVal[val])\n",
    "# print(y_test[val])"
   ]
  },
  {
   "cell_type": "code",
   "execution_count": 110,
   "id": "868ddcf6",
   "metadata": {},
   "outputs": [],
   "source": [
    "from sklearn.pipeline import Pipeline"
   ]
  },
  {
   "cell_type": "code",
   "execution_count": 111,
   "id": "b5c943f0",
   "metadata": {},
   "outputs": [],
   "source": [
    "# shap.partial_dependency_plot(features[0],)"
   ]
  },
  {
   "cell_type": "code",
   "execution_count": 112,
   "id": "bfacf2b0",
   "metadata": {},
   "outputs": [
    {
     "name": "stderr",
     "output_type": "stream",
     "text": [
      "Exact explainer: 99it [00:14,  3.45it/s]                                                                                                                                                                      \n"
     ]
    }
   ],
   "source": [
    "explainer = shap.Explainer(model_regressor.predict, X_test)\n",
    "shap_values = explainer(X_test)\n"
   ]
  },
  {
   "cell_type": "code",
   "execution_count": 113,
   "id": "88a9e5c6",
   "metadata": {},
   "outputs": [],
   "source": [
    "def partial_dependence_plot(feature, idx=None):\n",
    "    if idx is None: # visualize all samples\n",
    "        shap.plots.partial_dependence(\n",
    "            feature,\n",
    "            model_regressor.predict,\n",
    "            X_train, \n",
    "            ice=False,\n",
    "            model_expected_value=True, \n",
    "            feature_expected_value=True)\n",
    "    else: # visualize sample idx\n",
    "        shap.partial_dependence_plot(\n",
    "            feature,\n",
    "            model_regressor.predict,\n",
    "            X_train, \n",
    "            ice=False,\n",
    "            model_expected_value=True, \n",
    "            feature_expected_value=True,\n",
    "            shap_values=shap_values[idx:idx+1,:])"
   ]
  },
  {
   "cell_type": "code",
   "execution_count": 114,
   "id": "99c49e7c",
   "metadata": {},
   "outputs": [
    {
     "data": {
      "image/png": "[encoded data removed]",
      "text/plain": [
       "<Figure size 432x288 with 4 Axes>"
      ]
     },
     "metadata": {
      "needs_background": "light"
     },
     "output_type": "display_data"
    }
   ],
   "source": [
    "partial_dependence_plot('Feature 0', 0)"
   ]
  },
  {
   "cell_type": "code",
   "execution_count": 115,
   "id": "6ea3bd19",
   "metadata": {},
   "outputs": [
    {
     "data": {
      "image/png": "[encoded data removed]",
      "text/plain": [
       "<Figure size 432x288 with 4 Axes>"
      ]
     },
     "metadata": {
      "needs_background": "light"
     },
     "output_type": "display_data"
    }
   ],
   "source": [
    "partial_dependence_plot('Feature 1', 0)"
   ]
  },
  {
   "cell_type": "code",
   "execution_count": 116,
   "id": "9afbb7d7",
   "metadata": {},
   "outputs": [
    {
     "data": {
      "image/png": "[encoded data removed]",
      "text/plain": [
       "<Figure size 432x288 with 4 Axes>"
      ]
     },
     "metadata": {
      "needs_background": "light"
     },
     "output_type": "display_data"
    }
   ],
   "source": [
    "partial_dependence_plot('Feature 2', 0)"
   ]
  },
  {
   "cell_type": "code",
   "execution_count": 117,
   "id": "2b4e55fc",
   "metadata": {},
   "outputs": [],
   "source": [
    "# from torch.autograd import Variable\n",
    "# import torch\n",
    "# import torch.nn as nn\n",
    "# import torch.optim as optim\n",
    "\n",
    "\n",
    "# preprocessed_X_train = X_train #mapper.fit_transform(X_train)\n",
    "\n",
    "# num_epochs = 500\n",
    "# learning_rate = 0.01\n",
    "# hidden_size = 32\n",
    "# batch_size = 50\n",
    "# input_dim = preprocessed_X_train.shape[1]\n",
    "# batch_no = preprocessed_X_train.shape[0] // batch_size\n",
    "# model = nn.Sequential(\n",
    "#     nn.Linear(input_dim, hidden_size),\n",
    "#     nn.Linear(hidden_size, 1)\n",
    "# )\n",
    "# criterion = nn.MSELoss()\n",
    "# optimizer = optim.Adam(model.parameters(), lr=learning_rate)\n",
    "\n",
    "# for epoch in range(num_epochs):\n",
    "#     running_loss = 0.0\n",
    "#     for i in range(batch_no):\n",
    "#         start = i * batch_size\n",
    "#         end = start + batch_size\n",
    "#         x_batch = Variable(torch.FloatTensor(preprocessed_X_train[start:end]))\n",
    "#         y_batch = Variable(torch.FloatTensor(y_train[start:end]))\n",
    "#         optimizer.zero_grad()\n",
    "#         y_preds = model(x_batch)\n",
    "#         loss = criterion(y_preds, torch.unsqueeze(y_batch,dim=1))\n",
    "#         loss.backward()\n",
    "#         optimizer.step()\n",
    "#         running_loss += loss.item()\n",
    "#     if epoch % 10 == 0: \n",
    "#         print(\"Epoch {}, Loss: {}\".format(epoch, running_loss))\n",
    "        \n",
    "# preprocessed_X_test = X_test #mapper.transform(X_test)\n",
    "# y_pred = model(torch.from_numpy(preprocessed_X_test).float()).flatten().detach().numpy()\n",
    "# test_mae = mean_absolute_error(y_test, y_pred)\n",
    "# preprocessed_X_train =  X_train #mapper.transform(X_train)\n",
    "# y_pred = model(torch.from_numpy(preprocessed_X_train).float()).flatten().detach().numpy()\n",
    "# train_mae = mean_absolute_error(y_train, y_pred)\n",
    "# print(f\"\\ntrain MAE = {round(train_mae, 3)}, test MAE = {round(test_mae, 3)} \")\n",
    "\n",
    "\n",
    "# preprocessed_X_test = X_test #mapper.transform(X_test)\n",
    "# y_pred = model(torch.from_numpy(preprocessed_X_test).float()).flatten().detach().numpy()\n",
    "# print(r2_score(y_test,y_pred))"
   ]
  },
  {
   "cell_type": "code",
   "execution_count": null,
   "id": "5d7e15f0",
   "metadata": {},
   "outputs": [],
   "source": []
  },
  {
   "cell_type": "code",
   "execution_count": null,
   "id": "1698f409",
   "metadata": {},
   "outputs": [],
   "source": []
  },
  {
   "cell_type": "code",
   "execution_count": null,
   "id": "5d039038",
   "metadata": {},
   "outputs": [],
   "source": []
  },
  {
   "cell_type": "code",
   "execution_count": null,
   "id": "cb8581bc",
   "metadata": {},
   "outputs": [],
   "source": []
  },
  {
   "cell_type": "code",
   "execution_count": 118,
   "id": "38c7d47c",
   "metadata": {},
   "outputs": [],
   "source": [
    "a_b_range=np.arange(0,1.01,0.01)"
   ]
  },
  {
   "cell_type": "code",
   "execution_count": 119,
   "id": "58d67c44",
   "metadata": {},
   "outputs": [],
   "source": [
    "c_range=np.arange(0,3.01,0.01)"
   ]
  },
  {
   "cell_type": "code",
   "execution_count": 120,
   "id": "aa99cf67",
   "metadata": {},
   "outputs": [],
   "source": [
    "thick_range=np.arange(0.2,0.5,0.001)"
   ]
  },
  {
   "cell_type": "code",
   "execution_count": 121,
   "id": "dbe2f24d",
   "metadata": {},
   "outputs": [],
   "source": [
    "from itertools import combinations"
   ]
  },
  {
   "cell_type": "code",
   "execution_count": 122,
   "id": "934f89af",
   "metadata": {},
   "outputs": [],
   "source": [
    "aions_combo=[[round(y,2) for y in x] for x in combinations(a_b_range,3) if sum(x)==1]"
   ]
  },
  {
   "cell_type": "code",
   "execution_count": 123,
   "id": "3e427fb9",
   "metadata": {},
   "outputs": [],
   "source": [
    "bions_combo=[[round(y,2) for y in x] for x in combinations(a_b_range,2) if sum(x)==1]"
   ]
  },
  {
   "cell_type": "code",
   "execution_count": 124,
   "id": "7cb29b99",
   "metadata": {},
   "outputs": [],
   "source": [
    "cions_combo=[[round(y,2) for y in x] for x in combinations(c_range,2) if sum(x)==3]"
   ]
  },
  {
   "cell_type": "code",
   "execution_count": 151,
   "id": "a4867623",
   "metadata": {},
   "outputs": [],
   "source": [
    "combo_list=[]"
   ]
  },
  {
   "cell_type": "code",
   "execution_count": 152,
   "id": "664d5b99",
   "metadata": {},
   "outputs": [],
   "source": [
    "for x in aions_combo:\n",
    "    for y in bions_combo:\n",
    "        \n",
    "        for z in cions_combo:\n",
    "            for h in thick_range:\n",
    "                combo_list.append(x+y+z+[h])\n",
    "                "
   ]
  },
  {
   "cell_type": "code",
   "execution_count": null,
   "id": "ca5611f7",
   "metadata": {},
   "outputs": [],
   "source": []
  },
  {
   "cell_type": "code",
   "execution_count": 153,
   "id": "526589ce",
   "metadata": {},
   "outputs": [],
   "source": [
    "combo_list=np.asanyarray(combo_list,dtype=float)"
   ]
  },
  {
   "cell_type": "code",
   "execution_count": 154,
   "id": "a0345f98",
   "metadata": {},
   "outputs": [
    {
     "data": {
      "text/plain": [
       "(1811775000, 8)"
      ]
     },
     "execution_count": 154,
     "metadata": {},
     "output_type": "execute_result"
    }
   ],
   "source": [
    "combo_list.shape"
   ]
  },
  {
   "cell_type": "code",
   "execution_count": 155,
   "id": "4de601ae",
   "metadata": {},
   "outputs": [],
   "source": [
    "out=model_regressor.predict(combo_list)"
   ]
  },
  {
   "cell_type": "code",
   "execution_count": 156,
   "id": "3033e482",
   "metadata": {},
   "outputs": [
    {
     "data": {
      "text/plain": [
       "1.6750329417631638"
      ]
     },
     "execution_count": 156,
     "metadata": {},
     "output_type": "execute_result"
    }
   ],
   "source": [
    "np.max(out)"
   ]
  },
  {
   "cell_type": "code",
   "execution_count": 157,
   "id": "a4366d5f",
   "metadata": {},
   "outputs": [],
   "source": [
    "data=np.concatenate((combo_list,out.reshape(-1,1)),axis=1)"
   ]
  },
  {
   "cell_type": "code",
   "execution_count": 158,
   "id": "bd7b2e0d",
   "metadata": {},
   "outputs": [],
   "source": [
    "pd_data=pd.DataFrame(data)"
   ]
  },
  {
   "cell_type": "code",
   "execution_count": 159,
   "id": "c50f7af5",
   "metadata": {},
   "outputs": [],
   "source": [
    "pd_data.columns=['Cs','FA','MA','Pb','Sn','Br','I','thickness','bandgap']"
   ]
  },
  {
   "cell_type": "code",
   "execution_count": 1,
   "id": "62f14e49",
   "metadata": {},
   "outputs": [
    {
     "ename": "NameError",
     "evalue": "name 'pd_data' is not defined",
     "output_type": "error",
     "traceback": [
      "\u001b[0;31m---------------------------------------------------------------------------\u001b[0m",
      "\u001b[0;31mNameError\u001b[0m                                 Traceback (most recent call last)",
      "Input \u001b[0;32mIn [1]\u001b[0m, in \u001b[0;36m<cell line: 1>\u001b[0;34m()\u001b[0m\n\u001b[0;32m----> 1\u001b[0m \u001b[43mpd_data\u001b[49m\n",
      "\u001b[0;31mNameError\u001b[0m: name 'pd_data' is not defined"
     ]
    }
   ],
   "source": [
    "pd_data"
   ]
  },
  {
   "cell_type": "code",
   "execution_count": 160,
   "id": "6a3c4154",
   "metadata": {
    "scrolled": false
   },
   "outputs": [
    {
     "data": {
      "text/html": [
       "<div>\n",
       "<style scoped>\n",
       "    .dataframe tbody tr th:only-of-type {\n",
       "        vertical-align: middle;\n",
       "    }\n",
       "\n",
       "    .dataframe tbody tr th {\n",
       "        vertical-align: top;\n",
       "    }\n",
       "\n",
       "    .dataframe thead th {\n",
       "        text-align: right;\n",
       "    }\n",
       "</style>\n",
       "<table border=\"1\" class=\"dataframe\">\n",
       "  <thead>\n",
       "    <tr style=\"text-align: right;\">\n",
       "      <th></th>\n",
       "      <th>Cs</th>\n",
       "      <th>FA</th>\n",
       "      <th>MA</th>\n",
       "      <th>Pb</th>\n",
       "      <th>Sn</th>\n",
       "      <th>Br</th>\n",
       "      <th>I</th>\n",
       "      <th>thickness</th>\n",
       "      <th>bandgap</th>\n",
       "    </tr>\n",
       "  </thead>\n",
       "  <tbody>\n",
       "    <tr>\n",
       "      <th>0</th>\n",
       "      <td>0.00</td>\n",
       "      <td>0.01</td>\n",
       "      <td>0.99</td>\n",
       "      <td>0.00</td>\n",
       "      <td>1.00</td>\n",
       "      <td>0.00</td>\n",
       "      <td>3.00</td>\n",
       "      <td>0.200</td>\n",
       "      <td>1.253902</td>\n",
       "    </tr>\n",
       "    <tr>\n",
       "      <th>1</th>\n",
       "      <td>0.00</td>\n",
       "      <td>0.01</td>\n",
       "      <td>0.99</td>\n",
       "      <td>0.00</td>\n",
       "      <td>1.00</td>\n",
       "      <td>0.00</td>\n",
       "      <td>3.00</td>\n",
       "      <td>0.201</td>\n",
       "      <td>1.253902</td>\n",
       "    </tr>\n",
       "    <tr>\n",
       "      <th>2</th>\n",
       "      <td>0.00</td>\n",
       "      <td>0.01</td>\n",
       "      <td>0.99</td>\n",
       "      <td>0.00</td>\n",
       "      <td>1.00</td>\n",
       "      <td>0.00</td>\n",
       "      <td>3.00</td>\n",
       "      <td>0.202</td>\n",
       "      <td>1.253902</td>\n",
       "    </tr>\n",
       "    <tr>\n",
       "      <th>3</th>\n",
       "      <td>0.00</td>\n",
       "      <td>0.01</td>\n",
       "      <td>0.99</td>\n",
       "      <td>0.00</td>\n",
       "      <td>1.00</td>\n",
       "      <td>0.00</td>\n",
       "      <td>3.00</td>\n",
       "      <td>0.203</td>\n",
       "      <td>1.253902</td>\n",
       "    </tr>\n",
       "    <tr>\n",
       "      <th>4</th>\n",
       "      <td>0.00</td>\n",
       "      <td>0.01</td>\n",
       "      <td>0.99</td>\n",
       "      <td>0.00</td>\n",
       "      <td>1.00</td>\n",
       "      <td>0.00</td>\n",
       "      <td>3.00</td>\n",
       "      <td>0.204</td>\n",
       "      <td>1.253902</td>\n",
       "    </tr>\n",
       "    <tr>\n",
       "      <th>...</th>\n",
       "      <td>...</td>\n",
       "      <td>...</td>\n",
       "      <td>...</td>\n",
       "      <td>...</td>\n",
       "      <td>...</td>\n",
       "      <td>...</td>\n",
       "      <td>...</td>\n",
       "      <td>...</td>\n",
       "      <td>...</td>\n",
       "    </tr>\n",
       "    <tr>\n",
       "      <th>1811774995</th>\n",
       "      <td>0.32</td>\n",
       "      <td>0.33</td>\n",
       "      <td>0.35</td>\n",
       "      <td>0.49</td>\n",
       "      <td>0.51</td>\n",
       "      <td>1.49</td>\n",
       "      <td>1.51</td>\n",
       "      <td>0.495</td>\n",
       "      <td>1.603616</td>\n",
       "    </tr>\n",
       "    <tr>\n",
       "      <th>1811774996</th>\n",
       "      <td>0.32</td>\n",
       "      <td>0.33</td>\n",
       "      <td>0.35</td>\n",
       "      <td>0.49</td>\n",
       "      <td>0.51</td>\n",
       "      <td>1.49</td>\n",
       "      <td>1.51</td>\n",
       "      <td>0.496</td>\n",
       "      <td>1.603616</td>\n",
       "    </tr>\n",
       "    <tr>\n",
       "      <th>1811774997</th>\n",
       "      <td>0.32</td>\n",
       "      <td>0.33</td>\n",
       "      <td>0.35</td>\n",
       "      <td>0.49</td>\n",
       "      <td>0.51</td>\n",
       "      <td>1.49</td>\n",
       "      <td>1.51</td>\n",
       "      <td>0.497</td>\n",
       "      <td>1.603616</td>\n",
       "    </tr>\n",
       "    <tr>\n",
       "      <th>1811774998</th>\n",
       "      <td>0.32</td>\n",
       "      <td>0.33</td>\n",
       "      <td>0.35</td>\n",
       "      <td>0.49</td>\n",
       "      <td>0.51</td>\n",
       "      <td>1.49</td>\n",
       "      <td>1.51</td>\n",
       "      <td>0.498</td>\n",
       "      <td>1.603616</td>\n",
       "    </tr>\n",
       "    <tr>\n",
       "      <th>1811774999</th>\n",
       "      <td>0.32</td>\n",
       "      <td>0.33</td>\n",
       "      <td>0.35</td>\n",
       "      <td>0.49</td>\n",
       "      <td>0.51</td>\n",
       "      <td>1.49</td>\n",
       "      <td>1.51</td>\n",
       "      <td>0.499</td>\n",
       "      <td>1.603616</td>\n",
       "    </tr>\n",
       "  </tbody>\n",
       "</table>\n",
       "<p>1811775000 rows × 9 columns</p>\n",
       "</div>"
      ],
      "text/plain": [
       "              Cs    FA    MA    Pb    Sn    Br     I  thickness   bandgap\n",
       "0           0.00  0.01  0.99  0.00  1.00  0.00  3.00      0.200  1.253902\n",
       "1           0.00  0.01  0.99  0.00  1.00  0.00  3.00      0.201  1.253902\n",
       "2           0.00  0.01  0.99  0.00  1.00  0.00  3.00      0.202  1.253902\n",
       "3           0.00  0.01  0.99  0.00  1.00  0.00  3.00      0.203  1.253902\n",
       "4           0.00  0.01  0.99  0.00  1.00  0.00  3.00      0.204  1.253902\n",
       "...          ...   ...   ...   ...   ...   ...   ...        ...       ...\n",
       "1811774995  0.32  0.33  0.35  0.49  0.51  1.49  1.51      0.495  1.603616\n",
       "1811774996  0.32  0.33  0.35  0.49  0.51  1.49  1.51      0.496  1.603616\n",
       "1811774997  0.32  0.33  0.35  0.49  0.51  1.49  1.51      0.497  1.603616\n",
       "1811774998  0.32  0.33  0.35  0.49  0.51  1.49  1.51      0.498  1.603616\n",
       "1811774999  0.32  0.33  0.35  0.49  0.51  1.49  1.51      0.499  1.603616\n",
       "\n",
       "[1811775000 rows x 9 columns]"
      ]
     },
     "execution_count": 160,
     "metadata": {},
     "output_type": "execute_result"
    }
   ],
   "source": [
    "pd_data"
   ]
  },
  {
   "cell_type": "code",
   "execution_count": 161,
   "id": "f7b69851",
   "metadata": {},
   "outputs": [
    {
     "data": {
      "text/plain": [
       "array([2.3 , 2.36, 2.3 , 2.31, 2.31, 2.29, 2.26, 2.34, 2.26, 2.3 , 2.3 ,\n",
       "       2.3 , 2.26, 2.26, 2.2 , 2.36, 2.09, 2.26, 2.32, 2.3 , 2.3 , 2.3 ,\n",
       "       2.23, 2.3 , 2.3 , 2.3 , 2.3 , 2.05, 2.05, 2.26, 2.32, 2.33, 2.3 ,\n",
       "       2.2 , 2.12, 2.3 , 2.3 , 2.05, 2.29, 2.05])"
      ]
     },
     "execution_count": 161,
     "metadata": {},
     "output_type": "execute_result"
    }
   ],
   "source": [
    "label[label>2]"
   ]
  },
  {
   "cell_type": "code",
   "execution_count": 162,
   "id": "4e74d384",
   "metadata": {},
   "outputs": [],
   "source": [
    "pd_data.to_csv('New_Data_Set')"
   ]
  },
  {
   "cell_type": "code",
   "execution_count": 7,
   "id": "6399dd6b",
   "metadata": {},
   "outputs": [
    {
     "ename": "FileNotFoundError",
     "evalue": "[Errno 2] No such file or directory: 'New_Data_Set.csv'",
     "output_type": "error",
     "traceback": [
      "\u001b[0;31m---------------------------------------------------------------------------\u001b[0m",
      "\u001b[0;31mFileNotFoundError\u001b[0m                         Traceback (most recent call last)",
      "Input \u001b[0;32mIn [7]\u001b[0m, in \u001b[0;36m<cell line: 1>\u001b[0;34m()\u001b[0m\n\u001b[0;32m----> 1\u001b[0m data\u001b[38;5;241m=\u001b[39m\u001b[43mpd\u001b[49m\u001b[38;5;241;43m.\u001b[39;49m\u001b[43mread_csv\u001b[49m\u001b[43m(\u001b[49m\u001b[38;5;124;43m'\u001b[39;49m\u001b[38;5;124;43mNew_Data_Set.csv\u001b[39;49m\u001b[38;5;124;43m'\u001b[39;49m\u001b[43m)\u001b[49m\n",
      "File \u001b[0;32m~/anaconda3/envs/solar/lib/python3.8/site-packages/pandas/util/_decorators.py:311\u001b[0m, in \u001b[0;36mdeprecate_nonkeyword_arguments.<locals>.decorate.<locals>.wrapper\u001b[0;34m(*args, **kwargs)\u001b[0m\n\u001b[1;32m    305\u001b[0m \u001b[38;5;28;01mif\u001b[39;00m \u001b[38;5;28mlen\u001b[39m(args) \u001b[38;5;241m>\u001b[39m num_allow_args:\n\u001b[1;32m    306\u001b[0m     warnings\u001b[38;5;241m.\u001b[39mwarn(\n\u001b[1;32m    307\u001b[0m         msg\u001b[38;5;241m.\u001b[39mformat(arguments\u001b[38;5;241m=\u001b[39marguments),\n\u001b[1;32m    308\u001b[0m         \u001b[38;5;167;01mFutureWarning\u001b[39;00m,\n\u001b[1;32m    309\u001b[0m         stacklevel\u001b[38;5;241m=\u001b[39mstacklevel,\n\u001b[1;32m    310\u001b[0m     )\n\u001b[0;32m--> 311\u001b[0m \u001b[38;5;28;01mreturn\u001b[39;00m \u001b[43mfunc\u001b[49m\u001b[43m(\u001b[49m\u001b[38;5;241;43m*\u001b[39;49m\u001b[43margs\u001b[49m\u001b[43m,\u001b[49m\u001b[43m \u001b[49m\u001b[38;5;241;43m*\u001b[39;49m\u001b[38;5;241;43m*\u001b[39;49m\u001b[43mkwargs\u001b[49m\u001b[43m)\u001b[49m\n",
      "File \u001b[0;32m~/anaconda3/envs/solar/lib/python3.8/site-packages/pandas/io/parsers/readers.py:680\u001b[0m, in \u001b[0;36mread_csv\u001b[0;34m(filepath_or_buffer, sep, delimiter, header, names, index_col, usecols, squeeze, prefix, mangle_dupe_cols, dtype, engine, converters, true_values, false_values, skipinitialspace, skiprows, skipfooter, nrows, na_values, keep_default_na, na_filter, verbose, skip_blank_lines, parse_dates, infer_datetime_format, keep_date_col, date_parser, dayfirst, cache_dates, iterator, chunksize, compression, thousands, decimal, lineterminator, quotechar, quoting, doublequote, escapechar, comment, encoding, encoding_errors, dialect, error_bad_lines, warn_bad_lines, on_bad_lines, delim_whitespace, low_memory, memory_map, float_precision, storage_options)\u001b[0m\n\u001b[1;32m    665\u001b[0m kwds_defaults \u001b[38;5;241m=\u001b[39m _refine_defaults_read(\n\u001b[1;32m    666\u001b[0m     dialect,\n\u001b[1;32m    667\u001b[0m     delimiter,\n\u001b[0;32m   (...)\u001b[0m\n\u001b[1;32m    676\u001b[0m     defaults\u001b[38;5;241m=\u001b[39m{\u001b[38;5;124m\"\u001b[39m\u001b[38;5;124mdelimiter\u001b[39m\u001b[38;5;124m\"\u001b[39m: \u001b[38;5;124m\"\u001b[39m\u001b[38;5;124m,\u001b[39m\u001b[38;5;124m\"\u001b[39m},\n\u001b[1;32m    677\u001b[0m )\n\u001b[1;32m    678\u001b[0m kwds\u001b[38;5;241m.\u001b[39mupdate(kwds_defaults)\n\u001b[0;32m--> 680\u001b[0m \u001b[38;5;28;01mreturn\u001b[39;00m \u001b[43m_read\u001b[49m\u001b[43m(\u001b[49m\u001b[43mfilepath_or_buffer\u001b[49m\u001b[43m,\u001b[49m\u001b[43m \u001b[49m\u001b[43mkwds\u001b[49m\u001b[43m)\u001b[49m\n",
      "File \u001b[0;32m~/anaconda3/envs/solar/lib/python3.8/site-packages/pandas/io/parsers/readers.py:575\u001b[0m, in \u001b[0;36m_read\u001b[0;34m(filepath_or_buffer, kwds)\u001b[0m\n\u001b[1;32m    572\u001b[0m _validate_names(kwds\u001b[38;5;241m.\u001b[39mget(\u001b[38;5;124m\"\u001b[39m\u001b[38;5;124mnames\u001b[39m\u001b[38;5;124m\"\u001b[39m, \u001b[38;5;28;01mNone\u001b[39;00m))\n\u001b[1;32m    574\u001b[0m \u001b[38;5;66;03m# Create the parser.\u001b[39;00m\n\u001b[0;32m--> 575\u001b[0m parser \u001b[38;5;241m=\u001b[39m \u001b[43mTextFileReader\u001b[49m\u001b[43m(\u001b[49m\u001b[43mfilepath_or_buffer\u001b[49m\u001b[43m,\u001b[49m\u001b[43m \u001b[49m\u001b[38;5;241;43m*\u001b[39;49m\u001b[38;5;241;43m*\u001b[39;49m\u001b[43mkwds\u001b[49m\u001b[43m)\u001b[49m\n\u001b[1;32m    577\u001b[0m \u001b[38;5;28;01mif\u001b[39;00m chunksize \u001b[38;5;129;01mor\u001b[39;00m iterator:\n\u001b[1;32m    578\u001b[0m     \u001b[38;5;28;01mreturn\u001b[39;00m parser\n",
      "File \u001b[0;32m~/anaconda3/envs/solar/lib/python3.8/site-packages/pandas/io/parsers/readers.py:933\u001b[0m, in \u001b[0;36mTextFileReader.__init__\u001b[0;34m(self, f, engine, **kwds)\u001b[0m\n\u001b[1;32m    930\u001b[0m     \u001b[38;5;28mself\u001b[39m\u001b[38;5;241m.\u001b[39moptions[\u001b[38;5;124m\"\u001b[39m\u001b[38;5;124mhas_index_names\u001b[39m\u001b[38;5;124m\"\u001b[39m] \u001b[38;5;241m=\u001b[39m kwds[\u001b[38;5;124m\"\u001b[39m\u001b[38;5;124mhas_index_names\u001b[39m\u001b[38;5;124m\"\u001b[39m]\n\u001b[1;32m    932\u001b[0m \u001b[38;5;28mself\u001b[39m\u001b[38;5;241m.\u001b[39mhandles: IOHandles \u001b[38;5;241m|\u001b[39m \u001b[38;5;28;01mNone\u001b[39;00m \u001b[38;5;241m=\u001b[39m \u001b[38;5;28;01mNone\u001b[39;00m\n\u001b[0;32m--> 933\u001b[0m \u001b[38;5;28mself\u001b[39m\u001b[38;5;241m.\u001b[39m_engine \u001b[38;5;241m=\u001b[39m \u001b[38;5;28;43mself\u001b[39;49m\u001b[38;5;241;43m.\u001b[39;49m\u001b[43m_make_engine\u001b[49m\u001b[43m(\u001b[49m\u001b[43mf\u001b[49m\u001b[43m,\u001b[49m\u001b[43m \u001b[49m\u001b[38;5;28;43mself\u001b[39;49m\u001b[38;5;241;43m.\u001b[39;49m\u001b[43mengine\u001b[49m\u001b[43m)\u001b[49m\n",
      "File \u001b[0;32m~/anaconda3/envs/solar/lib/python3.8/site-packages/pandas/io/parsers/readers.py:1217\u001b[0m, in \u001b[0;36mTextFileReader._make_engine\u001b[0;34m(self, f, engine)\u001b[0m\n\u001b[1;32m   1213\u001b[0m     mode \u001b[38;5;241m=\u001b[39m \u001b[38;5;124m\"\u001b[39m\u001b[38;5;124mrb\u001b[39m\u001b[38;5;124m\"\u001b[39m\n\u001b[1;32m   1214\u001b[0m \u001b[38;5;66;03m# error: No overload variant of \"get_handle\" matches argument types\u001b[39;00m\n\u001b[1;32m   1215\u001b[0m \u001b[38;5;66;03m# \"Union[str, PathLike[str], ReadCsvBuffer[bytes], ReadCsvBuffer[str]]\"\u001b[39;00m\n\u001b[1;32m   1216\u001b[0m \u001b[38;5;66;03m# , \"str\", \"bool\", \"Any\", \"Any\", \"Any\", \"Any\", \"Any\"\u001b[39;00m\n\u001b[0;32m-> 1217\u001b[0m \u001b[38;5;28mself\u001b[39m\u001b[38;5;241m.\u001b[39mhandles \u001b[38;5;241m=\u001b[39m \u001b[43mget_handle\u001b[49m\u001b[43m(\u001b[49m\u001b[43m  \u001b[49m\u001b[38;5;66;43;03m# type: ignore[call-overload]\u001b[39;49;00m\n\u001b[1;32m   1218\u001b[0m \u001b[43m    \u001b[49m\u001b[43mf\u001b[49m\u001b[43m,\u001b[49m\n\u001b[1;32m   1219\u001b[0m \u001b[43m    \u001b[49m\u001b[43mmode\u001b[49m\u001b[43m,\u001b[49m\n\u001b[1;32m   1220\u001b[0m \u001b[43m    \u001b[49m\u001b[43mencoding\u001b[49m\u001b[38;5;241;43m=\u001b[39;49m\u001b[38;5;28;43mself\u001b[39;49m\u001b[38;5;241;43m.\u001b[39;49m\u001b[43moptions\u001b[49m\u001b[38;5;241;43m.\u001b[39;49m\u001b[43mget\u001b[49m\u001b[43m(\u001b[49m\u001b[38;5;124;43m\"\u001b[39;49m\u001b[38;5;124;43mencoding\u001b[39;49m\u001b[38;5;124;43m\"\u001b[39;49m\u001b[43m,\u001b[49m\u001b[43m \u001b[49m\u001b[38;5;28;43;01mNone\u001b[39;49;00m\u001b[43m)\u001b[49m\u001b[43m,\u001b[49m\n\u001b[1;32m   1221\u001b[0m \u001b[43m    \u001b[49m\u001b[43mcompression\u001b[49m\u001b[38;5;241;43m=\u001b[39;49m\u001b[38;5;28;43mself\u001b[39;49m\u001b[38;5;241;43m.\u001b[39;49m\u001b[43moptions\u001b[49m\u001b[38;5;241;43m.\u001b[39;49m\u001b[43mget\u001b[49m\u001b[43m(\u001b[49m\u001b[38;5;124;43m\"\u001b[39;49m\u001b[38;5;124;43mcompression\u001b[39;49m\u001b[38;5;124;43m\"\u001b[39;49m\u001b[43m,\u001b[49m\u001b[43m \u001b[49m\u001b[38;5;28;43;01mNone\u001b[39;49;00m\u001b[43m)\u001b[49m\u001b[43m,\u001b[49m\n\u001b[1;32m   1222\u001b[0m \u001b[43m    \u001b[49m\u001b[43mmemory_map\u001b[49m\u001b[38;5;241;43m=\u001b[39;49m\u001b[38;5;28;43mself\u001b[39;49m\u001b[38;5;241;43m.\u001b[39;49m\u001b[43moptions\u001b[49m\u001b[38;5;241;43m.\u001b[39;49m\u001b[43mget\u001b[49m\u001b[43m(\u001b[49m\u001b[38;5;124;43m\"\u001b[39;49m\u001b[38;5;124;43mmemory_map\u001b[39;49m\u001b[38;5;124;43m\"\u001b[39;49m\u001b[43m,\u001b[49m\u001b[43m \u001b[49m\u001b[38;5;28;43;01mFalse\u001b[39;49;00m\u001b[43m)\u001b[49m\u001b[43m,\u001b[49m\n\u001b[1;32m   1223\u001b[0m \u001b[43m    \u001b[49m\u001b[43mis_text\u001b[49m\u001b[38;5;241;43m=\u001b[39;49m\u001b[43mis_text\u001b[49m\u001b[43m,\u001b[49m\n\u001b[1;32m   1224\u001b[0m \u001b[43m    \u001b[49m\u001b[43merrors\u001b[49m\u001b[38;5;241;43m=\u001b[39;49m\u001b[38;5;28;43mself\u001b[39;49m\u001b[38;5;241;43m.\u001b[39;49m\u001b[43moptions\u001b[49m\u001b[38;5;241;43m.\u001b[39;49m\u001b[43mget\u001b[49m\u001b[43m(\u001b[49m\u001b[38;5;124;43m\"\u001b[39;49m\u001b[38;5;124;43mencoding_errors\u001b[39;49m\u001b[38;5;124;43m\"\u001b[39;49m\u001b[43m,\u001b[49m\u001b[43m \u001b[49m\u001b[38;5;124;43m\"\u001b[39;49m\u001b[38;5;124;43mstrict\u001b[39;49m\u001b[38;5;124;43m\"\u001b[39;49m\u001b[43m)\u001b[49m\u001b[43m,\u001b[49m\n\u001b[1;32m   1225\u001b[0m \u001b[43m    \u001b[49m\u001b[43mstorage_options\u001b[49m\u001b[38;5;241;43m=\u001b[39;49m\u001b[38;5;28;43mself\u001b[39;49m\u001b[38;5;241;43m.\u001b[39;49m\u001b[43moptions\u001b[49m\u001b[38;5;241;43m.\u001b[39;49m\u001b[43mget\u001b[49m\u001b[43m(\u001b[49m\u001b[38;5;124;43m\"\u001b[39;49m\u001b[38;5;124;43mstorage_options\u001b[39;49m\u001b[38;5;124;43m\"\u001b[39;49m\u001b[43m,\u001b[49m\u001b[43m \u001b[49m\u001b[38;5;28;43;01mNone\u001b[39;49;00m\u001b[43m)\u001b[49m\u001b[43m,\u001b[49m\n\u001b[1;32m   1226\u001b[0m \u001b[43m\u001b[49m\u001b[43m)\u001b[49m\n\u001b[1;32m   1227\u001b[0m \u001b[38;5;28;01massert\u001b[39;00m \u001b[38;5;28mself\u001b[39m\u001b[38;5;241m.\u001b[39mhandles \u001b[38;5;129;01mis\u001b[39;00m \u001b[38;5;129;01mnot\u001b[39;00m \u001b[38;5;28;01mNone\u001b[39;00m\n\u001b[1;32m   1228\u001b[0m f \u001b[38;5;241m=\u001b[39m \u001b[38;5;28mself\u001b[39m\u001b[38;5;241m.\u001b[39mhandles\u001b[38;5;241m.\u001b[39mhandle\n",
      "File \u001b[0;32m~/anaconda3/envs/solar/lib/python3.8/site-packages/pandas/io/common.py:789\u001b[0m, in \u001b[0;36mget_handle\u001b[0;34m(path_or_buf, mode, encoding, compression, memory_map, is_text, errors, storage_options)\u001b[0m\n\u001b[1;32m    784\u001b[0m \u001b[38;5;28;01melif\u001b[39;00m \u001b[38;5;28misinstance\u001b[39m(handle, \u001b[38;5;28mstr\u001b[39m):\n\u001b[1;32m    785\u001b[0m     \u001b[38;5;66;03m# Check whether the filename is to be opened in binary mode.\u001b[39;00m\n\u001b[1;32m    786\u001b[0m     \u001b[38;5;66;03m# Binary mode does not support 'encoding' and 'newline'.\u001b[39;00m\n\u001b[1;32m    787\u001b[0m     \u001b[38;5;28;01mif\u001b[39;00m ioargs\u001b[38;5;241m.\u001b[39mencoding \u001b[38;5;129;01mand\u001b[39;00m \u001b[38;5;124m\"\u001b[39m\u001b[38;5;124mb\u001b[39m\u001b[38;5;124m\"\u001b[39m \u001b[38;5;129;01mnot\u001b[39;00m \u001b[38;5;129;01min\u001b[39;00m ioargs\u001b[38;5;241m.\u001b[39mmode:\n\u001b[1;32m    788\u001b[0m         \u001b[38;5;66;03m# Encoding\u001b[39;00m\n\u001b[0;32m--> 789\u001b[0m         handle \u001b[38;5;241m=\u001b[39m \u001b[38;5;28;43mopen\u001b[39;49m\u001b[43m(\u001b[49m\n\u001b[1;32m    790\u001b[0m \u001b[43m            \u001b[49m\u001b[43mhandle\u001b[49m\u001b[43m,\u001b[49m\n\u001b[1;32m    791\u001b[0m \u001b[43m            \u001b[49m\u001b[43mioargs\u001b[49m\u001b[38;5;241;43m.\u001b[39;49m\u001b[43mmode\u001b[49m\u001b[43m,\u001b[49m\n\u001b[1;32m    792\u001b[0m \u001b[43m            \u001b[49m\u001b[43mencoding\u001b[49m\u001b[38;5;241;43m=\u001b[39;49m\u001b[43mioargs\u001b[49m\u001b[38;5;241;43m.\u001b[39;49m\u001b[43mencoding\u001b[49m\u001b[43m,\u001b[49m\n\u001b[1;32m    793\u001b[0m \u001b[43m            \u001b[49m\u001b[43merrors\u001b[49m\u001b[38;5;241;43m=\u001b[39;49m\u001b[43merrors\u001b[49m\u001b[43m,\u001b[49m\n\u001b[1;32m    794\u001b[0m \u001b[43m            \u001b[49m\u001b[43mnewline\u001b[49m\u001b[38;5;241;43m=\u001b[39;49m\u001b[38;5;124;43m\"\u001b[39;49m\u001b[38;5;124;43m\"\u001b[39;49m\u001b[43m,\u001b[49m\n\u001b[1;32m    795\u001b[0m \u001b[43m        \u001b[49m\u001b[43m)\u001b[49m\n\u001b[1;32m    796\u001b[0m     \u001b[38;5;28;01melse\u001b[39;00m:\n\u001b[1;32m    797\u001b[0m         \u001b[38;5;66;03m# Binary mode\u001b[39;00m\n\u001b[1;32m    798\u001b[0m         handle \u001b[38;5;241m=\u001b[39m \u001b[38;5;28mopen\u001b[39m(handle, ioargs\u001b[38;5;241m.\u001b[39mmode)\n",
      "\u001b[0;31mFileNotFoundError\u001b[0m: [Errno 2] No such file or directory: 'New_Data_Set.csv'"
     ]
    }
   ],
   "source": []
  },
  {
   "cell_type": "code",
   "execution_count": 8,
   "id": "ea1a30c5",
   "metadata": {},
   "outputs": [
    {
     "ename": "NameError",
     "evalue": "name 'data' is not defined",
     "output_type": "error",
     "traceback": [
      "\u001b[0;31m---------------------------------------------------------------------------\u001b[0m",
      "\u001b[0;31mNameError\u001b[0m                                 Traceback (most recent call last)",
      "Input \u001b[0;32mIn [8]\u001b[0m, in \u001b[0;36m<cell line: 1>\u001b[0;34m()\u001b[0m\n\u001b[0;32m----> 1\u001b[0m \u001b[43mdata\u001b[49m\n",
      "\u001b[0;31mNameError\u001b[0m: name 'data' is not defined"
     ]
    }
   ],
   "source": [
    "data"
   ]
  },
  {
   "cell_type": "code",
   "execution_count": 2,
   "id": "f25fa371",
   "metadata": {},
   "outputs": [
    {
     "ename": "FileNotFoundError",
     "evalue": "New_Data_Set.csv not found.",
     "output_type": "error",
     "traceback": [
      "\u001b[0;31m---------------------------------------------------------------------------\u001b[0m",
      "\u001b[0;31mFileNotFoundError\u001b[0m                         Traceback (most recent call last)",
      "Input \u001b[0;32mIn [2]\u001b[0m, in \u001b[0;36m<cell line: 3>\u001b[0;34m()\u001b[0m\n\u001b[1;32m      1\u001b[0m \u001b[38;5;28;01mfrom\u001b[39;00m \u001b[38;5;21;01mnumpy\u001b[39;00m \u001b[38;5;28;01mimport\u001b[39;00m loadtxt\n\u001b[1;32m      2\u001b[0m \u001b[38;5;66;03m# load array\u001b[39;00m\n\u001b[0;32m----> 3\u001b[0m New_Data_Set \u001b[38;5;241m=\u001b[39m \u001b[43mloadtxt\u001b[49m\u001b[43m(\u001b[49m\u001b[38;5;124;43m'\u001b[39;49m\u001b[38;5;124;43mNew_Data_Set.csv\u001b[39;49m\u001b[38;5;124;43m'\u001b[39;49m\u001b[43m)\u001b[49m\n",
      "File \u001b[0;32m~/anaconda3/envs/solar/lib/python3.8/site-packages/numpy/lib/npyio.py:1313\u001b[0m, in \u001b[0;36mloadtxt\u001b[0;34m(fname, dtype, comments, delimiter, converters, skiprows, usecols, unpack, ndmin, encoding, max_rows, quotechar, like)\u001b[0m\n\u001b[1;32m   1310\u001b[0m \u001b[38;5;28;01mif\u001b[39;00m \u001b[38;5;28misinstance\u001b[39m(delimiter, \u001b[38;5;28mbytes\u001b[39m):\n\u001b[1;32m   1311\u001b[0m     delimiter \u001b[38;5;241m=\u001b[39m delimiter\u001b[38;5;241m.\u001b[39mdecode(\u001b[38;5;124m'\u001b[39m\u001b[38;5;124mlatin1\u001b[39m\u001b[38;5;124m'\u001b[39m)\n\u001b[0;32m-> 1313\u001b[0m arr \u001b[38;5;241m=\u001b[39m \u001b[43m_read\u001b[49m\u001b[43m(\u001b[49m\u001b[43mfname\u001b[49m\u001b[43m,\u001b[49m\u001b[43m \u001b[49m\u001b[43mdtype\u001b[49m\u001b[38;5;241;43m=\u001b[39;49m\u001b[43mdtype\u001b[49m\u001b[43m,\u001b[49m\u001b[43m \u001b[49m\u001b[43mcomment\u001b[49m\u001b[38;5;241;43m=\u001b[39;49m\u001b[43mcomment\u001b[49m\u001b[43m,\u001b[49m\u001b[43m \u001b[49m\u001b[43mdelimiter\u001b[49m\u001b[38;5;241;43m=\u001b[39;49m\u001b[43mdelimiter\u001b[49m\u001b[43m,\u001b[49m\n\u001b[1;32m   1314\u001b[0m \u001b[43m            \u001b[49m\u001b[43mconverters\u001b[49m\u001b[38;5;241;43m=\u001b[39;49m\u001b[43mconverters\u001b[49m\u001b[43m,\u001b[49m\u001b[43m \u001b[49m\u001b[43mskiplines\u001b[49m\u001b[38;5;241;43m=\u001b[39;49m\u001b[43mskiprows\u001b[49m\u001b[43m,\u001b[49m\u001b[43m \u001b[49m\u001b[43musecols\u001b[49m\u001b[38;5;241;43m=\u001b[39;49m\u001b[43musecols\u001b[49m\u001b[43m,\u001b[49m\n\u001b[1;32m   1315\u001b[0m \u001b[43m            \u001b[49m\u001b[43munpack\u001b[49m\u001b[38;5;241;43m=\u001b[39;49m\u001b[43munpack\u001b[49m\u001b[43m,\u001b[49m\u001b[43m \u001b[49m\u001b[43mndmin\u001b[49m\u001b[38;5;241;43m=\u001b[39;49m\u001b[43mndmin\u001b[49m\u001b[43m,\u001b[49m\u001b[43m \u001b[49m\u001b[43mencoding\u001b[49m\u001b[38;5;241;43m=\u001b[39;49m\u001b[43mencoding\u001b[49m\u001b[43m,\u001b[49m\n\u001b[1;32m   1316\u001b[0m \u001b[43m            \u001b[49m\u001b[43mmax_rows\u001b[49m\u001b[38;5;241;43m=\u001b[39;49m\u001b[43mmax_rows\u001b[49m\u001b[43m,\u001b[49m\u001b[43m \u001b[49m\u001b[43mquote\u001b[49m\u001b[38;5;241;43m=\u001b[39;49m\u001b[43mquotechar\u001b[49m\u001b[43m)\u001b[49m\n\u001b[1;32m   1318\u001b[0m \u001b[38;5;28;01mreturn\u001b[39;00m arr\n",
      "File \u001b[0;32m~/anaconda3/envs/solar/lib/python3.8/site-packages/numpy/lib/npyio.py:955\u001b[0m, in \u001b[0;36m_read\u001b[0;34m(fname, delimiter, comment, quote, imaginary_unit, usecols, skiplines, max_rows, converters, ndmin, unpack, dtype, encoding)\u001b[0m\n\u001b[1;32m    953\u001b[0m     fname \u001b[38;5;241m=\u001b[39m os\u001b[38;5;241m.\u001b[39mfspath(fname)\n\u001b[1;32m    954\u001b[0m \u001b[38;5;28;01mif\u001b[39;00m \u001b[38;5;28misinstance\u001b[39m(fname, \u001b[38;5;28mstr\u001b[39m):\n\u001b[0;32m--> 955\u001b[0m     fh \u001b[38;5;241m=\u001b[39m \u001b[43mnp\u001b[49m\u001b[38;5;241;43m.\u001b[39;49m\u001b[43mlib\u001b[49m\u001b[38;5;241;43m.\u001b[39;49m\u001b[43m_datasource\u001b[49m\u001b[38;5;241;43m.\u001b[39;49m\u001b[43mopen\u001b[49m\u001b[43m(\u001b[49m\u001b[43mfname\u001b[49m\u001b[43m,\u001b[49m\u001b[43m \u001b[49m\u001b[38;5;124;43m'\u001b[39;49m\u001b[38;5;124;43mrt\u001b[39;49m\u001b[38;5;124;43m'\u001b[39;49m\u001b[43m,\u001b[49m\u001b[43m \u001b[49m\u001b[43mencoding\u001b[49m\u001b[38;5;241;43m=\u001b[39;49m\u001b[43mencoding\u001b[49m\u001b[43m)\u001b[49m\n\u001b[1;32m    956\u001b[0m     \u001b[38;5;28;01mif\u001b[39;00m encoding \u001b[38;5;129;01mis\u001b[39;00m \u001b[38;5;28;01mNone\u001b[39;00m:\n\u001b[1;32m    957\u001b[0m         encoding \u001b[38;5;241m=\u001b[39m \u001b[38;5;28mgetattr\u001b[39m(fh, \u001b[38;5;124m'\u001b[39m\u001b[38;5;124mencoding\u001b[39m\u001b[38;5;124m'\u001b[39m, \u001b[38;5;124m'\u001b[39m\u001b[38;5;124mlatin1\u001b[39m\u001b[38;5;124m'\u001b[39m)\n",
      "File \u001b[0;32m~/anaconda3/envs/solar/lib/python3.8/site-packages/numpy/lib/_datasource.py:193\u001b[0m, in \u001b[0;36mopen\u001b[0;34m(path, mode, destpath, encoding, newline)\u001b[0m\n\u001b[1;32m    156\u001b[0m \u001b[38;5;124;03m\"\"\"\u001b[39;00m\n\u001b[1;32m    157\u001b[0m \u001b[38;5;124;03mOpen `path` with `mode` and return the file object.\u001b[39;00m\n\u001b[1;32m    158\u001b[0m \n\u001b[0;32m   (...)\u001b[0m\n\u001b[1;32m    189\u001b[0m \n\u001b[1;32m    190\u001b[0m \u001b[38;5;124;03m\"\"\"\u001b[39;00m\n\u001b[1;32m    192\u001b[0m ds \u001b[38;5;241m=\u001b[39m DataSource(destpath)\n\u001b[0;32m--> 193\u001b[0m \u001b[38;5;28;01mreturn\u001b[39;00m \u001b[43mds\u001b[49m\u001b[38;5;241;43m.\u001b[39;49m\u001b[43mopen\u001b[49m\u001b[43m(\u001b[49m\u001b[43mpath\u001b[49m\u001b[43m,\u001b[49m\u001b[43m \u001b[49m\u001b[43mmode\u001b[49m\u001b[43m,\u001b[49m\u001b[43m \u001b[49m\u001b[43mencoding\u001b[49m\u001b[38;5;241;43m=\u001b[39;49m\u001b[43mencoding\u001b[49m\u001b[43m,\u001b[49m\u001b[43m \u001b[49m\u001b[43mnewline\u001b[49m\u001b[38;5;241;43m=\u001b[39;49m\u001b[43mnewline\u001b[49m\u001b[43m)\u001b[49m\n",
      "File \u001b[0;32m~/anaconda3/envs/solar/lib/python3.8/site-packages/numpy/lib/_datasource.py:533\u001b[0m, in \u001b[0;36mDataSource.open\u001b[0;34m(self, path, mode, encoding, newline)\u001b[0m\n\u001b[1;32m    530\u001b[0m     \u001b[38;5;28;01mreturn\u001b[39;00m _file_openers[ext](found, mode\u001b[38;5;241m=\u001b[39mmode,\n\u001b[1;32m    531\u001b[0m                               encoding\u001b[38;5;241m=\u001b[39mencoding, newline\u001b[38;5;241m=\u001b[39mnewline)\n\u001b[1;32m    532\u001b[0m \u001b[38;5;28;01melse\u001b[39;00m:\n\u001b[0;32m--> 533\u001b[0m     \u001b[38;5;28;01mraise\u001b[39;00m \u001b[38;5;167;01mFileNotFoundError\u001b[39;00m(\u001b[38;5;124mf\u001b[39m\u001b[38;5;124m\"\u001b[39m\u001b[38;5;132;01m{\u001b[39;00mpath\u001b[38;5;132;01m}\u001b[39;00m\u001b[38;5;124m not found.\u001b[39m\u001b[38;5;124m\"\u001b[39m)\n",
      "\u001b[0;31mFileNotFoundError\u001b[0m: New_Data_Set.csv not found."
     ]
    }
   ],
   "source": []
  },
  {
   "cell_type": "code",
   "execution_count": null,
   "id": "60f0d1d5",
   "metadata": {},
   "outputs": [],
   "source": []
  },
  {
   "cell_type": "code",
   "execution_count": null,
   "id": "d2923eea",
   "metadata": {},
   "outputs": [],
   "source": []
  }
 ],
 "metadata": {
  "kernelspec": {
   "display_name": "Python 3 (ipykernel)",
   "language": "python",
   "name": "python3"
  },
  "language_info": {
   "codemirror_mode": {
    "name": "ipython",
    "version": 3
   },
   "file_extension": ".py",
   "mimetype": "text/x-python",
   "name": "python",
   "nbconvert_exporter": "python",
   "pygments_lexer": "ipython3",
   "version": "3.8.13"
  }
 },
 "nbformat": 4,
 "nbformat_minor": 5
}
