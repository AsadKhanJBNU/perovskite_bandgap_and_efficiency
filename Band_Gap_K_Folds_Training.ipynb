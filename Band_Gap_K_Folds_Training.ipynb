{
 "cells": [
  {
   "cell_type": "code",
   "execution_count": null,
   "id": "639b21bb",
   "metadata": {},
   "outputs": [],
   "source": [
    "import pandas as pd\n",
    "import numpy as np\n",
    "import os\n",
    "from sklearn.model_selection import train_test_split, KFold\n",
    "import warnings\n",
    "from numpy import savetxt\n",
    "from numpy import loadtxt\n",
    "warnings.filterwarnings(\"ignore\")"
   ]
  },
  {
   "cell_type": "code",
   "execution_count": null,
   "id": "cf50d907",
   "metadata": {},
   "outputs": [],
   "source": [
    "from sklearn.metrics import r2_score\n",
    "import optuna\n",
    "from sklearn.ensemble import BaggingRegressor,AdaBoostRegressor,GradientBoostingRegressor\n",
    "from sklearn.neighbors import KNeighborsRegressor\n",
    "from sklearn.tree import DecisionTreeRegressor\n",
    "import xgboost as xgb\n",
    "from sklearn.svm import SVR\n",
    "from catboost import CatBoostRegressor, Pool\n",
    "from sklearn.ensemble import RandomForestRegressor"
   ]
  },
  {
   "cell_type": "code",
   "execution_count": null,
   "id": "c00201b1",
   "metadata": {},
   "outputs": [],
   "source": [
    "train = loadtxt('Data_Set/train.csv', delimiter=',')\n",
    "label = loadtxt('Data_Set/label.csv', delimiter=',')"
   ]
  },
  {
   "cell_type": "code",
   "execution_count": null,
   "id": "18d5c252",
   "metadata": {},
   "outputs": [],
   "source": [
    "os.environ[\"CUDA_DEVICE_ORDER\"]=\"PCI_BUS_ID\"   # see issue #152\n",
    "os.environ[\"CUDA_VISIBLE_DEVICES\"]=\"2\""
   ]
  },
  {
   "cell_type": "code",
   "execution_count": null,
   "id": "128e2d4b",
   "metadata": {},
   "outputs": [],
   "source": [
    "X_train, X_test, y_train, y_test = train_test_split(train, label, test_size=0.15, random_state=42)"
   ]
  },
  {
   "cell_type": "code",
   "execution_count": null,
   "id": "d4224d9e",
   "metadata": {},
   "outputs": [],
   "source": [
    "def CatBoostRegressorTraining():\n",
    "    params = {'iterations': 16937, 'learning_rate': 0.0802044556274633, 'depth': 7, 'random_seed': 397,\n",
    "              'metric_period': 407, 'od_wait': 148}\n",
    "    \n",
    "    k_fold=KFold(n_splits=4)\n",
    "    \n",
    "    result=[]\n",
    "    for tr, tst in k_fold.split(train,label):\n",
    "        xgb_reg = CatBoostRegressor(**params)\n",
    "        X_train, X_test, y_train, y_test = train[tr],train[tst],label[tr],label[tst]\n",
    "        xgb_reg.fit(X_train, y_train)\n",
    "        result.append(round(r2_score(y_test,xgb_reg.predict(X_test)),4))\n",
    "    print(np.average(result))\n",
    "    print(result)"
   ]
  },
  {
   "cell_type": "code",
   "execution_count": null,
   "id": "956039f6",
   "metadata": {},
   "outputs": [],
   "source": [
    "CatBoostRegressorTraining()"
   ]
  },
  {
   "cell_type": "code",
   "execution_count": null,
   "id": "c35ab4ad",
   "metadata": {},
   "outputs": [],
   "source": [
    "def AdaBoostRegressorTraining():\n",
    "    params = {'n_estimators': 6, 'learning_rate': 0.038071344583599565, 'random_state': 47}\n",
    "    \n",
    "    k_fold=KFold(n_splits=4)\n",
    "    \n",
    "    result=[]\n",
    "    for tr, tst in k_fold.split(train,label):\n",
    "        xgb_reg = AdaBoostRegressor(**params)\n",
    "        X_train, X_test, y_train, y_test = train[tr],train[tst],label[tr],label[tst]\n",
    "        xgb_reg.fit(X_train, y_train)\n",
    "        result.append(round(r2_score(y_test,xgb_reg.predict(X_test)),4))\n",
    "    print(np.average(result))\n",
    "    print(result)"
   ]
  },
  {
   "cell_type": "code",
   "execution_count": null,
   "id": "c4d07487",
   "metadata": {},
   "outputs": [],
   "source": [
    "AdaBoostRegressorTraining()"
   ]
  },
  {
   "cell_type": "code",
   "execution_count": null,
   "id": "7f22925e",
   "metadata": {},
   "outputs": [],
   "source": [
    "def KNeighborsRegressorTraining():\n",
    "    \n",
    "    params = {'n_neighbors': 27, 'leaf_size': 16, 'p': 1, 'n_jobs': 2}\n",
    "    k_fold=KFold(n_splits=4)\n",
    "    \n",
    "    result=[]\n",
    "    for tr, tst in k_fold.split(train,label):\n",
    "        xgb_reg = KNeighborsRegressor(**params)\n",
    "        X_train, X_test, y_train, y_test = train[tr],train[tst],label[tr],label[tst]\n",
    "        xgb_reg.fit(X_train, y_train)\n",
    "        result.append(round(r2_score(y_test,xgb_reg.predict(X_test)),4))\n",
    "    print(np.average(result))\n",
    "    print(result)"
   ]
  },
  {
   "cell_type": "code",
   "execution_count": null,
   "id": "0fefb06c",
   "metadata": {},
   "outputs": [],
   "source": [
    "KNeighborsRegressorTraining()"
   ]
  },
  {
   "cell_type": "code",
   "execution_count": null,
   "id": "97429fef",
   "metadata": {},
   "outputs": [],
   "source": [
    "def RandomForestRegressorTraining():\n",
    "    \n",
    "    params = {'criterion': 'friedman_mse', 'n_estimators': 65, 'min_samples_leaf': 0.3106657191461476,\n",
    "               'min_samples_split': 0.11843070888391496,'min_weight_fraction_leaf': 0.19561280836043243,\n",
    "               'max_depth': 49, 'n_jobs': 4, 'ccp_alpha': 0.7168576832158675}\n",
    "    \n",
    "    k_fold=KFold(n_splits=4)\n",
    "    \n",
    "    result=[]\n",
    "    for tr, tst in k_fold.split(train,label):\n",
    "        xgb_reg = RandomForestRegressor(**params)\n",
    "        X_train, X_test, y_train, y_test = train[tr],train[tst],label[tr],label[tst]\n",
    "        xgb_reg.fit(X_train, y_train)\n",
    "        result.append(round(r2_score(y_test,xgb_reg.predict(X_test)),4))\n",
    "    print(np.average(result))\n",
    "    print(result)"
   ]
  },
  {
   "cell_type": "code",
   "execution_count": null,
   "id": "b7de6f2b",
   "metadata": {},
   "outputs": [],
   "source": [
    "RandomForestRegressorTraining()"
   ]
  },
  {
   "cell_type": "code",
   "execution_count": null,
   "id": "d3594ae2",
   "metadata": {},
   "outputs": [],
   "source": [
    "def SVRTraining():\n",
    "    params = {'coef0': 5.427321055348509, 'tol': 0.16431922654212472, 'epsilon': 0.10050992331193838,\n",
    "               'C': 2.8667365671378473, 'degree': 7,'max_iter': 93, 'cache_size': 337}\n",
    "    \n",
    "    k_fold=KFold(n_splits=4)\n",
    "    \n",
    "    result=[]\n",
    "    for tr, tst in k_fold.split(train,label):\n",
    "        xgb_reg = SVR(**params)\n",
    "        X_train, X_test, y_train, y_test = train[tr],train[tst],label[tr],label[tst]\n",
    "        xgb_reg.fit(X_train, y_train)\n",
    "        result.append(round(r2_score(y_test,xgb_reg.predict(X_test)),4))\n",
    "    print(np.average(result))\n",
    "    print(result)"
   ]
  },
  {
   "cell_type": "code",
   "execution_count": null,
   "id": "b75080dc",
   "metadata": {},
   "outputs": [],
   "source": [
    "SVRTraining()"
   ]
  },
  {
   "cell_type": "code",
   "execution_count": null,
   "id": "e3b489cd",
   "metadata": {},
   "outputs": [],
   "source": [
    "def GradientBoostingRegressorTraining():\n",
    "    params = {'learning_rate': 0.053695566279521385, 'alpha': 0.8265623491581545, 'loss': 'huber', \n",
    "               'criterion': 'friedman_mse','n_estimators': 165,\n",
    "               'min_samples_leaf': 0.0010995785640797642, 'min_samples_split': 0.020181427769510703,\n",
    "               'min_weight_fraction_leaf': 0.009433744467751696, 'max_depth': 40,\n",
    "               'min_impurity_decrease': 0.011243612527949207}\n",
    "    \n",
    "    k_fold=KFold(n_splits=4)\n",
    "    \n",
    "    result=[]\n",
    "    for tr, tst in k_fold.split(train,label):\n",
    "        xgb_reg = GradientBoostingRegressor(**params)\n",
    "        X_train, X_test, y_train, y_test = train[tr],train[tst],label[tr],label[tst]\n",
    "        xgb_reg.fit(X_train, y_train)\n",
    "        result.append(round(r2_score(y_test,xgb_reg.predict(X_test)),4))\n",
    "    print(np.average(result))\n",
    "    print(result)"
   ]
  },
  {
   "cell_type": "code",
   "execution_count": null,
   "id": "3ebacbb6",
   "metadata": {},
   "outputs": [],
   "source": [
    "GradientBoostingRegressorTraining()"
   ]
  }
 ],
 "metadata": {
  "kernelspec": {
   "display_name": "Python 3 (ipykernel)",
   "language": "python",
   "name": "python3"
  },
  "language_info": {
   "codemirror_mode": {
    "name": "ipython",
    "version": 3
   },
   "file_extension": ".py",
   "mimetype": "text/x-python",
   "name": "python",
   "nbconvert_exporter": "python",
   "pygments_lexer": "ipython3",
   "version": "3.8.13"
  }
 },
 "nbformat": 4,
 "nbformat_minor": 5
}
