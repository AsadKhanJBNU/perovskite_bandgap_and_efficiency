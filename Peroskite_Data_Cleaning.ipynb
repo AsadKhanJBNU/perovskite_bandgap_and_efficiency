{
 "cells": [
  {
   "cell_type": "code",
   "execution_count": null,
   "id": "dbb20554",
   "metadata": {},
   "outputs": [],
   "source": [
    "import pandas as pd\n",
    "import numpy as np\n",
    "import os\n",
    "from sklearn.model_selection import train_test_split, KFold\n",
    "import warnings\n",
    "warnings.filterwarnings(\"ignore\")"
   ]
  },
  {
   "cell_type": "code",
   "execution_count": null,
   "id": "27d9f366",
   "metadata": {},
   "outputs": [],
   "source": [
    "data=pd.read_csv('Data_Set/Perovskite_database_content_all_data.csv')"
   ]
  },
  {
   "cell_type": "code",
   "execution_count": null,
   "id": "9cba5f7e",
   "metadata": {},
   "outputs": [],
   "source": [
    "data.shape"
   ]
  },
  {
   "cell_type": "code",
   "execution_count": null,
   "id": "0272f0dd",
   "metadata": {},
   "outputs": [],
   "source": [
    "data['Perovskite_thickness']"
   ]
  },
  {
   "cell_type": "code",
   "execution_count": null,
   "id": "7f21d7ce",
   "metadata": {},
   "outputs": [],
   "source": [
    "def replace(x):\n",
    "    if x in ['Unknown','none','unknown','None']:\n",
    "        return np.nan\n",
    "    elif 'Unknown' in str(x):\n",
    "        return np.nan\n",
    "    elif 'none' in str(x):\n",
    "        return np.nan\n",
    "    elif 'None' in str(x):\n",
    "        return np.nan\n",
    "    elif 'nan' in str(x):\n",
    "        return np.nan\n",
    "    else:\n",
    "        return x"
   ]
  },
  {
   "cell_type": "code",
   "execution_count": null,
   "id": "34dde6a6",
   "metadata": {},
   "outputs": [],
   "source": [
    "data=data.applymap(lambda x :replace(x))"
   ]
  },
  {
   "cell_type": "code",
   "execution_count": null,
   "id": "7b9dc34e",
   "metadata": {},
   "outputs": [],
   "source": [
    "data.shape"
   ]
  },
  {
   "cell_type": "code",
   "execution_count": null,
   "id": "e30207e7",
   "metadata": {},
   "outputs": [],
   "source": [
    "data=data.applymap(lambda x: x.replace(' ','') if isinstance(x,str) else x)"
   ]
  },
  {
   "cell_type": "code",
   "execution_count": null,
   "id": "0024bfd5",
   "metadata": {},
   "outputs": [],
   "source": [
    "data.drop_duplicates(inplace=True)"
   ]
  },
  {
   "cell_type": "code",
   "execution_count": null,
   "id": "b2246897",
   "metadata": {},
   "outputs": [],
   "source": [
    "data.dropna(axis='columns', how ='all',inplace=True)"
   ]
  },
  {
   "cell_type": "code",
   "execution_count": null,
   "id": "92d74a4b",
   "metadata": {},
   "outputs": [],
   "source": [
    "data.dropna(axis='rows', how ='all',inplace=True)"
   ]
  },
  {
   "cell_type": "code",
   "execution_count": null,
   "id": "23679b3d",
   "metadata": {},
   "outputs": [],
   "source": [
    "data.shape"
   ]
  },
  {
   "cell_type": "code",
   "execution_count": null,
   "id": "ea09b5f2",
   "metadata": {},
   "outputs": [],
   "source": [
    "data.dropna(subset=['Perovskite_composition_a_ions',\n",
    " 'Perovskite_composition_a_ions_coefficients',\n",
    " 'Perovskite_composition_b_ions',\n",
    " 'Perovskite_composition_b_ions_coefficients',\n",
    " 'Perovskite_composition_c_ions',\n",
    " 'Perovskite_composition_c_ions_coefficients','Perovskite_dimension_3D','Perovskite_thickness','Perovskite_band_gap'],inplace=True)"
   ]
  },
  {
   "cell_type": "code",
   "execution_count": null,
   "id": "50c84575",
   "metadata": {},
   "outputs": [],
   "source": [
    "data.shape"
   ]
  },
  {
   "cell_type": "code",
   "execution_count": null,
   "id": "c56659af",
   "metadata": {},
   "outputs": [],
   "source": [
    "perovskite_comp=['Perovskite_composition_a_ions',\n",
    " 'Perovskite_composition_a_ions_coefficients',\n",
    " 'Perovskite_composition_b_ions',\n",
    " 'Perovskite_composition_b_ions_coefficients',\n",
    " 'Perovskite_composition_c_ions',\n",
    " 'Perovskite_composition_c_ions_coefficients','Perovskite_dimension_3D','Perovskite_thickness','Perovskite_band_gap']"
   ]
  },
  {
   "cell_type": "code",
   "execution_count": null,
   "id": "48ee8007",
   "metadata": {},
   "outputs": [],
   "source": [
    "perovskite_comp"
   ]
  },
  {
   "cell_type": "code",
   "execution_count": null,
   "id": "243c492f",
   "metadata": {},
   "outputs": [],
   "source": [
    "perovskite_data=data[perovskite_comp]"
   ]
  },
  {
   "cell_type": "code",
   "execution_count": null,
   "id": "dfd8c671",
   "metadata": {},
   "outputs": [],
   "source": [
    "perovskite_data.shape"
   ]
  },
  {
   "cell_type": "code",
   "execution_count": null,
   "id": "ff001da1",
   "metadata": {},
   "outputs": [],
   "source": [
    "perovskite_data=perovskite_data.dropna()"
   ]
  },
  {
   "cell_type": "code",
   "execution_count": null,
   "id": "093b751d",
   "metadata": {},
   "outputs": [],
   "source": [
    "perovskite_data['Layered']=perovskite_data['Perovskite_composition_a_ions'].apply(lambda x: True if len(str(x).split('|'))>1 else False)"
   ]
  },
  {
   "cell_type": "code",
   "execution_count": null,
   "id": "20dae386",
   "metadata": {},
   "outputs": [],
   "source": [
    "perovskite_data=perovskite_data[~perovskite_data['Layered']]"
   ]
  },
  {
   "cell_type": "code",
   "execution_count": null,
   "id": "910dc034",
   "metadata": {},
   "outputs": [],
   "source": [
    "perovskite_data=perovskite_data[perovskite_data['Perovskite_dimension_3D']]"
   ]
  },
  {
   "cell_type": "code",
   "execution_count": null,
   "id": "28eba477",
   "metadata": {},
   "outputs": [],
   "source": [
    "same_dict={'Blowinghotair':'Blow-drying',\n",
    "           'Comersial':'Commercial',\n",
    "           'Electrohemicalanodization':'Electrochemicalanodization',\n",
    "           'Electropolymerisation':'Electropolymerization',\n",
    "           'Evaoration': 'Evaporation',\n",
    "           'Gasreaction':'Gas-reaction',\n",
    "           'Hydorthermal':'Hydorthermal',\n",
    "           'Hydrolys':'Hydrolysis',\n",
    "           'Inkjetprinting' :'Inkjet-Printed',\n",
    "           'RFMagnetronSputtering': 'RFMagnetronsputtering',\n",
    "           'RFmagnetronsputtering': 'RFMagnetronsputtering',\n",
    "           'SILARmethod':'SILAR',\n",
    "           'Screenprintnig':'Screenprinting',\n",
    "           'Sputering':'Sputtering',\n",
    "           'Ultrasonicspraypyrolysis':'Ultrasonicspray'}"
   ]
  },
  {
   "cell_type": "code",
   "execution_count": null,
   "id": "2c7171d0",
   "metadata": {},
   "outputs": [],
   "source": [
    "perovskite_data.drop_duplicates(inplace=True)\n",
    "perovskite_data.dropna(inplace=True)"
   ]
  },
  {
   "cell_type": "code",
   "execution_count": null,
   "id": "787dc183",
   "metadata": {},
   "outputs": [],
   "source": [
    "a_ions=perovskite_data['Perovskite_composition_a_ions'].str.split(';').str.join(' ').str.split(expand=True).apply(pd.Series.value_counts).sum(axis=1)"
   ]
  },
  {
   "cell_type": "code",
   "execution_count": null,
   "id": "b00e8dce",
   "metadata": {},
   "outputs": [],
   "source": [
    "a_ions=a_ions[a_ions>200].index.tolist()"
   ]
  },
  {
   "cell_type": "code",
   "execution_count": null,
   "id": "db3d4fa1",
   "metadata": {},
   "outputs": [],
   "source": [
    "b_ions=perovskite_data['Perovskite_composition_b_ions'].str.split(';').str.join(' ').str.split(expand=True).apply(pd.Series.value_counts).sum(axis=1)"
   ]
  },
  {
   "cell_type": "code",
   "execution_count": null,
   "id": "352589c6",
   "metadata": {},
   "outputs": [],
   "source": [
    "b_ions=b_ions[b_ions>=100].index.tolist()"
   ]
  },
  {
   "cell_type": "code",
   "execution_count": null,
   "id": "489d21d1",
   "metadata": {},
   "outputs": [],
   "source": [
    "c_ions=perovskite_data['Perovskite_composition_c_ions'].str.split(';').str.join(' ').str.split(expand=True).apply(pd.Series.value_counts).sum(axis=1)"
   ]
  },
  {
   "cell_type": "code",
   "execution_count": null,
   "id": "936d8779",
   "metadata": {},
   "outputs": [],
   "source": [
    "c_ions=c_ions[c_ions>200].index.tolist()"
   ]
  },
  {
   "cell_type": "code",
   "execution_count": null,
   "id": "97cf591e",
   "metadata": {},
   "outputs": [],
   "source": [
    "ions_token=list(set(a_ions+b_ions+c_ions))"
   ]
  },
  {
   "cell_type": "code",
   "execution_count": null,
   "id": "4e6b9baa",
   "metadata": {},
   "outputs": [],
   "source": [
    "perovskite_data.drop_duplicates(subset=['Perovskite_composition_a_ions','Perovskite_composition_b_ions','Perovskite_composition_c_ions','Perovskite_thickness'],inplace=True)"
   ]
  },
  {
   "cell_type": "code",
   "execution_count": null,
   "id": "6f302a32",
   "metadata": {},
   "outputs": [],
   "source": [
    "perovskite_data['Perovskite_thickness']=perovskite_data['Perovskite_thickness'].apply(lambda x: [float(x)/1000])"
   ]
  },
  {
   "cell_type": "code",
   "execution_count": null,
   "id": "033335d8",
   "metadata": {},
   "outputs": [],
   "source": [
    "features=['Cs', 'FA', 'MA','Pb', 'Sn','Br', 'I','Thickness']"
   ]
  },
  {
   "cell_type": "code",
   "execution_count": null,
   "id": "e78aace1",
   "metadata": {},
   "outputs": [],
   "source": [
    "perovskite_data=perovskite_data[perovskite_data['Perovskite_composition_a_ions'].apply(lambda x : all([True if y in ions_token else False for y in x.split(';') ]))]      "
   ]
  },
  {
   "cell_type": "code",
   "execution_count": null,
   "id": "08ec3c90",
   "metadata": {},
   "outputs": [],
   "source": [
    "perovskite_data=perovskite_data[perovskite_data['Perovskite_composition_b_ions'].apply(lambda x : all([True if y in ions_token else False for y in x.split(';') ]))]        "
   ]
  },
  {
   "cell_type": "code",
   "execution_count": null,
   "id": "392faa59",
   "metadata": {},
   "outputs": [],
   "source": [
    "perovskite_data=perovskite_data[perovskite_data['Perovskite_composition_c_ions'].apply(lambda x : all([True if y in ions_token else False for y in x.split(';') ]))]        "
   ]
  },
  {
   "cell_type": "code",
   "execution_count": null,
   "id": "074344e4",
   "metadata": {},
   "outputs": [],
   "source": [
    "def ions_one_hot(x,c,tokens):\n",
    "    if 'x' in c:\n",
    "        return np.nan\n",
    "    temp_dict={a:b for (a,b) in zip(x.split(';'),c.split(';'))}\n",
    "    return [temp_dict[x] if x in temp_dict.keys() else 0 for x in tokens]"
   ]
  },
  {
   "cell_type": "code",
   "execution_count": null,
   "id": "60a1258b",
   "metadata": {},
   "outputs": [],
   "source": [
    "perovskite_data['Perovskite_composition_a_ions']=perovskite_data[['Perovskite_composition_a_ions','Perovskite_composition_a_ions_coefficients']].apply(lambda x :ions_one_hot(*x,a_ions),axis=1)"
   ]
  },
  {
   "cell_type": "code",
   "execution_count": null,
   "id": "516ee7f5",
   "metadata": {},
   "outputs": [],
   "source": [
    "perovskite_data['Perovskite_composition_b_ions']=perovskite_data[['Perovskite_composition_b_ions','Perovskite_composition_b_ions_coefficients']].apply(lambda x :ions_one_hot(*x,b_ions),axis=1)"
   ]
  },
  {
   "cell_type": "code",
   "execution_count": null,
   "id": "e36c174d",
   "metadata": {},
   "outputs": [],
   "source": [
    "perovskite_data['Perovskite_composition_c_ions']=perovskite_data[['Perovskite_composition_c_ions','Perovskite_composition_c_ions_coefficients']].apply(lambda x :ions_one_hot(*x,c_ions),axis=1)"
   ]
  },
  {
   "cell_type": "code",
   "execution_count": null,
   "id": "da02e749",
   "metadata": {},
   "outputs": [],
   "source": [
    "perovskite_data"
   ]
  },
  {
   "cell_type": "code",
   "execution_count": null,
   "id": "3ab76a0c",
   "metadata": {},
   "outputs": [],
   "source": [
    "perovskite_data.dropna(inplace=True)"
   ]
  },
  {
   "cell_type": "code",
   "execution_count": null,
   "id": "e7489ff6",
   "metadata": {},
   "outputs": [],
   "source": [
    "for cols in ['Perovskite_composition_a_ions',\n",
    "       'Perovskite_composition_b_ions',\n",
    "       'Perovskite_composition_c_ions']:\n",
    "    maximum=perovskite_data[cols].map(len).max()\n",
    "    perovskite_data[cols]=perovskite_data[cols].apply(lambda x: x+[0]*(maximum-len(x)))"
   ]
  },
  {
   "cell_type": "code",
   "execution_count": null,
   "id": "1b3d0c15",
   "metadata": {},
   "outputs": [],
   "source": [
    "perovskite_data['X_train']=perovskite_data[['Perovskite_composition_a_ions',\n",
    "       'Perovskite_composition_b_ions',\n",
    "       'Perovskite_composition_c_ions','Perovskite_thickness']].sum(axis=1)"
   ]
  },
  {
   "cell_type": "code",
   "execution_count": null,
   "id": "6b7707fb",
   "metadata": {},
   "outputs": [],
   "source": [
    "perovskite_data"
   ]
  },
  {
   "cell_type": "code",
   "execution_count": null,
   "id": "b9f18d5c",
   "metadata": {},
   "outputs": [],
   "source": [
    "train=np.asanyarray(perovskite_data['X_train'].tolist(),dtype=float)"
   ]
  },
  {
   "cell_type": "code",
   "execution_count": null,
   "id": "9f37e237",
   "metadata": {},
   "outputs": [],
   "source": [
    "os.environ[\"CUDA_DEVICE_ORDER\"]=\"PCI_BUS_ID\"   # see issue #152\n",
    "os.environ[\"CUDA_VISIBLE_DEVICES\"]=\"5\""
   ]
  },
  {
   "cell_type": "code",
   "execution_count": null,
   "id": "00a2bfaf",
   "metadata": {},
   "outputs": [],
   "source": [
    "label=np.asanyarray(perovskite_data['Perovskite_band_gap'].tolist(),dtype=float)"
   ]
  },
  {
   "cell_type": "code",
   "execution_count": null,
   "id": "75c2e30d",
   "metadata": {},
   "outputs": [],
   "source": [
    "from sklearn.utils import shuffle\n",
    "\n",
    "train , label = shuffle(train,label, random_state=12)"
   ]
  },
  {
   "cell_type": "code",
   "execution_count": null,
   "id": "ddccad08",
   "metadata": {},
   "outputs": [],
   "source": [
    "# save to csv file\n",
    "from numpy import savetxt\n",
    "savetxt('Data_Set/train.csv', train, delimiter=',')\n",
    "savetxt('Data_Set/label.csv', label, delimiter=',')"
   ]
  },
  {
   "cell_type": "code",
   "execution_count": null,
   "id": "6ce24a32",
   "metadata": {},
   "outputs": [],
   "source": [
    "from numpy import loadtxt\n",
    "# load array\n",
    "train = loadtxt('Data_Set/train.csv', delimiter=',')\n",
    "label = loadtxt('Data_Set/label.csv', delimiter=',')"
   ]
  },
  {
   "cell_type": "code",
   "execution_count": null,
   "id": "d2923eea",
   "metadata": {},
   "outputs": [],
   "source": [
    "train.shape"
   ]
  },
  {
   "cell_type": "code",
   "execution_count": null,
   "id": "fc8b4ae2",
   "metadata": {},
   "outputs": [],
   "source": [
    "import matplotlib.pyplot as plt\n",
    "\n",
    "# Create the data\n",
    "data = [2, 3, 3, 4, 4, 4, 5, 5, 6, 6, 6, 6, 7, 7, 7, 8, 8, 9, 10]\n",
    "\n",
    "# Plot the histogram\n",
    "plt.hist(train, bins=8)\n",
    "\n",
    "# Add a title and labels\n",
    "plt.title(\"Histogram of Data\")\n",
    "plt.xlabel(\"Value\")\n",
    "plt.ylabel(\"Frequency\")\n",
    "\n",
    "# Show the plot\n",
    "plt.show()"
   ]
  },
  {
   "cell_type": "code",
   "execution_count": null,
   "id": "5f14951f",
   "metadata": {},
   "outputs": [],
   "source": []
  }
 ],
 "metadata": {
  "kernelspec": {
   "display_name": "Python 3 (ipykernel)",
   "language": "python",
   "name": "python3"
  },
  "language_info": {
   "codemirror_mode": {
    "name": "ipython",
    "version": 3
   },
   "file_extension": ".py",
   "mimetype": "text/x-python",
   "name": "python",
   "nbconvert_exporter": "python",
   "pygments_lexer": "ipython3",
   "version": "3.8.13"
  }
 },
 "nbformat": 4,
 "nbformat_minor": 5
}
