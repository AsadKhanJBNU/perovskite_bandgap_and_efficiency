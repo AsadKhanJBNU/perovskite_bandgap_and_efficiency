{
 "cells": [
  {
   "cell_type": "code",
   "execution_count": null,
   "id": "dcd2a85a",
   "metadata": {},
   "outputs": [],
   "source": [
    "import pandas as pd\n",
    "import numpy as np\n",
    "import os\n",
    "from sklearn.model_selection import train_test_split, KFold\n",
    "import warnings\n",
    "from numpy import savetxt\n",
    "from numpy import loadtxt\n",
    "warnings.filterwarnings(\"ignore\")\n",
    "import pickle"
   ]
  },
  {
   "cell_type": "code",
   "execution_count": null,
   "id": "027730a1",
   "metadata": {},
   "outputs": [],
   "source": [
    "from sklearn.metrics import r2_score\n",
    "import optuna\n",
    "from sklearn.ensemble import BaggingRegressor,AdaBoostRegressor,GradientBoostingRegressor\n",
    "from sklearn.neighbors import KNeighborsRegressor\n",
    "from sklearn.tree import DecisionTreeRegressor\n",
    "import xgboost as xgb\n",
    "from sklearn.svm import SVR\n",
    "from catboost import CatBoostRegressor, Pool\n",
    "from sklearn.ensemble import RandomForestRegressor\n",
    "from sklearn.metrics import r2_score,mean_absolute_error,mean_squared_error\n",
    "import math\n",
    "import matplotlib.pyplot as plt\n",
    "import shap"
   ]
  },
  {
   "cell_type": "code",
   "execution_count": null,
   "id": "7b1093c2",
   "metadata": {},
   "outputs": [],
   "source": [
    "train = loadtxt('Data_Set/efficiencyTrain.csv', delimiter=',')\n",
    "label = loadtxt('Data_Set/efficiencylabel.csv', delimiter=',')"
   ]
  },
  {
   "cell_type": "code",
   "execution_count": null,
   "id": "defa74ee",
   "metadata": {},
   "outputs": [],
   "source": [
    "os.environ[\"CUDA_DEVICE_ORDER\"]=\"PCI_BUS_ID\"   # see issue #152\n",
    "os.environ[\"CUDA_VISIBLE_DEVICES\"]=\"2\""
   ]
  },
  {
   "cell_type": "code",
   "execution_count": null,
   "id": "3357dbbd",
   "metadata": {},
   "outputs": [],
   "source": [
    "def showResults(model, modelName,X_test,y_test):\n",
    "    y_ped = model.predict(X_test)\n",
    "    MSE = mean_squared_error(y_test, y_ped)\n",
    "    RMSE = math.sqrt(MSE)\n",
    "    resultsDict = {'R2: ':r2_score(y_test,model.predict(X_test)), 'MSE: ':MSE, 'MAE: ':mean_absolute_error(y_test,y_ped),\n",
    "           'RMSE: ':RMSE}\n",
    "\n",
    "    # open file for writing\n",
    "    name = \"Results/\" + modelName + \".txt\"\n",
    "    \n",
    "    # save the model to disk\n",
    "    filename = \"Saved_Models/\" + modelName + \".sav\"\n",
    "    pickle.dump(model, open(filename, 'wb'))\n",
    "    \n",
    "    f = open(name,\"w\")\n",
    "    # write file\n",
    "    f.write( str(resultsDict) )\n",
    "    # close file\n",
    "    f.close()\n",
    "    print(resultsDict)"
   ]
  },
  {
   "cell_type": "code",
   "execution_count": null,
   "id": "e7c948d9",
   "metadata": {},
   "outputs": [],
   "source": [
    "def drawPlots(model,modelName,X_test,y_test):\n",
    "    y_ped = model.predict(X_test)\n",
    "    plt.scatter(y_ped,y_test,s=10,marker =\"s\",c=y_test,cmap=plt.get_cmap('plasma'))\n",
    "    plt.plot(y_test,y_test)\n",
    "    plt.xlabel('Experimental Bandgap \\n a')\n",
    "    plt.ylabel('Predicated Bandgap')\n",
    "    plt.title(modelName + ' Bandgap')\n",
    "    plt.grid(False)\n",
    "    name = \"Visualization/\" + modelName + \".png\"\n",
    "    plt.savefig(name, dpi=400,transparent=True,bbox_inches = \"tight\")\n",
    "    plt.show()"
   ]
  },
  {
   "cell_type": "code",
   "execution_count": null,
   "id": "ce2bd564",
   "metadata": {},
   "outputs": [],
   "source": [
    "def trainingWithKfolds():\n",
    "    params= {'iterations': 16937, 'learning_rate': 0.0802044556274633, 'depth': 7, 'random_seed': 397, \n",
    "             'metric_period': 407, 'od_wait': 148}\n",
    "    k_fold=KFold(n_splits=6)\n",
    "    scores = []\n",
    "    true_val = []\n",
    "    pred_val = []\n",
    "    fig = plt.figure()\n",
    "    i = 1\n",
    "    for tr, tst in k_fold.split(train,label):\n",
    "\n",
    "\n",
    "        model_regressor = CatBoostRegressor(**params)\n",
    "\n",
    "        X_train, X_test, y_train, y_test = train[tr],train[tst],label[tr],label[tst]\n",
    "        model_regressor.fit(X_train, y_train, \n",
    "          eval_set=(X_test, y_test),  \n",
    "          use_best_model=True,  \n",
    "          plot= False   \n",
    "         );\n",
    "        \n",
    "        y_ped = model_regressor.predict(X_test)\n",
    "        true_val.append(y_test)\n",
    "        pred_val.append(y_ped)\n",
    "        MSE = mean_squared_error(y_test, y_ped)\n",
    "        RMSE = math.sqrt(MSE)\n",
    "        score = r2_score(y_test,model_regressor.predict(X_test))\n",
    "        scores.append(score)\n",
    "        \n",
    "#         plt.scatter(y_ped,y_test,s=10,marker =\"s\",c=y_test,cmap=plt.get_cmap('plasma'),\n",
    "#                     label='Fold %d (R2 = %0.2f)' % (i,score))\n",
    "        \n",
    "        plt.scatter(y_ped, y_test, lw=2, alpha=0.5,cmap=plt.get_cmap('plasma'),\n",
    "                label='Fold %d (R2 = %0.2f)' % (i,score))\n",
    "        \n",
    "        i = i+1\n",
    "    print(\"R2 Average\",np.average(scores))\n",
    "    plt.plot([min(y_ped),max(y_test)], [min(y_ped),max(y_test)], \n",
    "         linestyle='--', lw=2, color='black')\n",
    "    plt.xlabel('Experimental Bandgap')\n",
    "    plt.ylabel('Predicated Bandgap')\n",
    "    plt.title('CatBoostRegressor 6-Fold Validation')\n",
    "    plt.legend()\n",
    "    plt.grid(False)\n",
    "    plt.savefig('5FoldsR2Efficiency.png', dpi=400,transparent=True)\n",
    "    plt.show()"
   ]
  },
  {
   "cell_type": "code",
   "execution_count": null,
   "id": "05ff6125",
   "metadata": {},
   "outputs": [],
   "source": [
    "trainingWithKfolds()"
   ]
  },
  {
   "cell_type": "code",
   "execution_count": null,
   "id": "2e9ce9d9",
   "metadata": {},
   "outputs": [],
   "source": []
  }
 ],
 "metadata": {
  "kernelspec": {
   "display_name": "Python 3 (ipykernel)",
   "language": "python",
   "name": "python3"
  },
  "language_info": {
   "codemirror_mode": {
    "name": "ipython",
    "version": 3
   },
   "file_extension": ".py",
   "mimetype": "text/x-python",
   "name": "python",
   "nbconvert_exporter": "python",
   "pygments_lexer": "ipython3",
   "version": "3.8.13"
  }
 },
 "nbformat": 4,
 "nbformat_minor": 5
}
