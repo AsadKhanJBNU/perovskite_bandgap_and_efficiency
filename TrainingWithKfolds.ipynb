{
 "cells": [
  {
   "cell_type": "code",
   "execution_count": 1,
   "id": "dcd2a85a",
   "metadata": {},
   "outputs": [
    {
     "name": "stderr",
     "output_type": "stream",
     "text": [
      "/home/arslan/anaconda3/envs/solar/lib/python3.8/site-packages/scipy/__init__.py:146: UserWarning: A NumPy version >=1.16.5 and <1.23.0 is required for this version of SciPy (detected version 1.23.3\n",
      "  warnings.warn(f\"A NumPy version >={np_minversion} and <{np_maxversion}\"\n"
     ]
    }
   ],
   "source": [
    "import pandas as pd\n",
    "import numpy as np\n",
    "import os\n",
    "from sklearn.model_selection import train_test_split, KFold\n",
    "import warnings\n",
    "from numpy import savetxt\n",
    "from numpy import loadtxt\n",
    "warnings.filterwarnings(\"ignore\")\n",
    "import pickle"
   ]
  },
  {
   "cell_type": "code",
   "execution_count": 2,
   "id": "027730a1",
   "metadata": {},
   "outputs": [
    {
     "name": "stderr",
     "output_type": "stream",
     "text": [
      "2023-05-25 16:51:56.002244: I tensorflow/core/platform/cpu_feature_guard.cc:193] This TensorFlow binary is optimized with oneAPI Deep Neural Network Library (oneDNN) to use the following CPU instructions in performance-critical operations:  AVX2 FMA\n",
      "To enable them in other operations, rebuild TensorFlow with the appropriate compiler flags.\n",
      "2023-05-25 16:51:56.166095: W tensorflow/stream_executor/platform/default/dso_loader.cc:64] Could not load dynamic library 'libcudart.so.11.0'; dlerror: libcudart.so.11.0: cannot open shared object file: No such file or directory; LD_LIBRARY_PATH: /usr/local/cuda-9.0/lib64\n",
      "2023-05-25 16:51:56.166116: I tensorflow/stream_executor/cuda/cudart_stub.cc:29] Ignore above cudart dlerror if you do not have a GPU set up on your machine.\n",
      "2023-05-25 16:51:56.197637: E tensorflow/stream_executor/cuda/cuda_blas.cc:2981] Unable to register cuBLAS factory: Attempting to register factory for plugin cuBLAS when one has already been registered\n",
      "2023-05-25 16:51:56.905338: W tensorflow/stream_executor/platform/default/dso_loader.cc:64] Could not load dynamic library 'libnvinfer.so.7'; dlerror: libnvinfer.so.7: cannot open shared object file: No such file or directory; LD_LIBRARY_PATH: /usr/local/cuda-9.0/lib64\n",
      "2023-05-25 16:51:56.905465: W tensorflow/stream_executor/platform/default/dso_loader.cc:64] Could not load dynamic library 'libnvinfer_plugin.so.7'; dlerror: libnvinfer_plugin.so.7: cannot open shared object file: No such file or directory; LD_LIBRARY_PATH: /usr/local/cuda-9.0/lib64\n",
      "2023-05-25 16:51:56.905475: W tensorflow/compiler/tf2tensorrt/utils/py_utils.cc:38] TF-TRT Warning: Cannot dlopen some TensorRT libraries. If you would like to use Nvidia GPU with TensorRT, please make sure the missing libraries mentioned above are installed properly.\n"
     ]
    }
   ],
   "source": [
    "from sklearn.metrics import r2_score\n",
    "import optuna\n",
    "from sklearn.ensemble import BaggingRegressor,AdaBoostRegressor,GradientBoostingRegressor\n",
    "from sklearn.neighbors import KNeighborsRegressor\n",
    "from sklearn.tree import DecisionTreeRegressor\n",
    "import xgboost as xgb\n",
    "from sklearn.svm import SVR\n",
    "from catboost import CatBoostRegressor, Pool\n",
    "from sklearn.ensemble import RandomForestRegressor\n",
    "from sklearn.metrics import r2_score,mean_absolute_error,mean_squared_error\n",
    "import math\n",
    "import matplotlib.pyplot as plt\n",
    "import shap"
   ]
  },
  {
   "cell_type": "code",
   "execution_count": 3,
   "id": "7b1093c2",
   "metadata": {},
   "outputs": [],
   "source": [
    "train = loadtxt('Data_Set/efficiencyTrain.csv', delimiter=',')\n",
    "label = loadtxt('Data_Set/efficiencylabel.csv', delimiter=',')"
   ]
  },
  {
   "cell_type": "code",
   "execution_count": 4,
   "id": "defa74ee",
   "metadata": {},
   "outputs": [],
   "source": [
    "os.environ[\"CUDA_DEVICE_ORDER\"]=\"PCI_BUS_ID\"   # see issue #152\n",
    "os.environ[\"CUDA_VISIBLE_DEVICES\"]=\"2\""
   ]
  },
  {
   "cell_type": "code",
   "execution_count": 5,
   "id": "3357dbbd",
   "metadata": {},
   "outputs": [],
   "source": [
    "def showResults(model, modelName,X_test,y_test):\n",
    "    y_ped = model.predict(X_test)\n",
    "    MSE = mean_squared_error(y_test, y_ped)\n",
    "    RMSE = math.sqrt(MSE)\n",
    "    resultsDict = {'R2: ':r2_score(y_test,model.predict(X_test)), 'MSE: ':MSE, 'MAE: ':mean_absolute_error(y_test,y_ped),\n",
    "           'RMSE: ':RMSE}\n",
    "\n",
    "    # open file for writing\n",
    "    name = \"Results/\" + modelName + \"Efficency.txt\"\n",
    "    \n",
    "    # save the model to disk\n",
    "    filename = \"Saved_Models/\" + modelName + \"Efficency.sav\"\n",
    "    pickle.dump(model, open(filename, 'wb'))\n",
    "    \n",
    "    f = open(name,\"w\")\n",
    "    # write file\n",
    "    f.write( str(resultsDict) )\n",
    "    # close file\n",
    "    f.close()\n",
    "    print(resultsDict)"
   ]
  },
  {
   "cell_type": "code",
   "execution_count": 6,
   "id": "e7c948d9",
   "metadata": {},
   "outputs": [],
   "source": [
    "def drawPlots(model,modelName,X_test,y_test):\n",
    "    y_ped = model.predict(X_test)\n",
    "    plt.scatter(y_ped,y_test,s=10,marker =\"s\",c=y_test,cmap=plt.get_cmap('plasma'))\n",
    "    plt.plot(y_test,y_test)\n",
    "    plt.xlabel('Experimental Efficiency \\n a')\n",
    "    plt.ylabel('Predicated Efficiency')\n",
    "    plt.title(modelName + ' Efficiency')\n",
    "    plt.grid(False)\n",
    "    name = \"Visualization/\" + modelName + \"Efficiency.png\"\n",
    "    plt.savefig(name, dpi=400,transparent=True,bbox_inches = \"tight\")\n",
    "    plt.show()"
   ]
  },
  {
   "cell_type": "code",
   "execution_count": 7,
   "id": "ce2bd564",
   "metadata": {},
   "outputs": [],
   "source": [
    "def trainingWithKfolds():\n",
    "    \n",
    "    params = {'iterations': 21243, 'learning_rate': 0.05975976829789766, 'depth': 10,\n",
    "              'random_seed': 332, 'metric_period': 470, 'od_wait': 143}\n",
    "    k_fold=KFold(n_splits=6)\n",
    "    scores = []\n",
    "    true_val = []\n",
    "    pred_val = []\n",
    "    fig = plt.figure()\n",
    "    i = 1\n",
    "    for tr, tst in k_fold.split(train,label):\n",
    "\n",
    "\n",
    "        model_regressor = CatBoostRegressor(**params)\n",
    "\n",
    "        X_train, X_test, y_train, y_test = train[tr],train[tst],label[tr],label[tst]\n",
    "        model_regressor.fit(X_train, y_train, \n",
    "          eval_set=(X_test, y_test),  \n",
    "          use_best_model=True,  \n",
    "          plot= False   \n",
    "         );\n",
    "        \n",
    "        y_ped = model_regressor.predict(X_test)\n",
    "        true_val.append(y_test)\n",
    "        pred_val.append(y_ped)\n",
    "        MSE = mean_squared_error(y_test, y_ped)\n",
    "        RMSE = math.sqrt(MSE)\n",
    "        score = r2_score(y_test,model_regressor.predict(X_test))\n",
    "        scores.append(score)\n",
    "        \n",
    "#         plt.scatter(y_ped,y_test,s=10,marker =\"s\",c=y_test,cmap=plt.get_cmap('plasma'),\n",
    "#                     label='Fold %d (R2 = %0.2f)' % (i,score))\n",
    "        \n",
    "        plt.scatter(y_ped, y_test, lw=2, alpha=0.5,cmap=plt.get_cmap('plasma'),\n",
    "                label='Fold %d (R2 = %0.2f)' % (i,score))\n",
    "        \n",
    "        i = i+1\n",
    "    print(\"R2 Average\",np.average(scores))\n",
    "    plt.plot([min(y_ped),max(y_test)], [min(y_ped),max(y_test)], \n",
    "         linestyle='--', lw=2, color='black')\n",
    "    plt.xlabel('Experimental Efficiency')\n",
    "    plt.ylabel('Predicated Efficiency')\n",
    "    plt.title('CatBoostRegressor 6-Fold Validation')\n",
    "    plt.legend()\n",
    "    plt.grid(False)\n",
    "    plt.savefig('5FoldsR2Efficiency.png', dpi=400,transparent=True)\n",
    "    plt.show()"
   ]
  },
  {
   "cell_type": "code",
   "execution_count": 8,
   "id": "05ff6125",
   "metadata": {},
   "outputs": [
    {
     "name": "stderr",
     "output_type": "stream",
     "text": [
      "Warning: Overfitting detector is active, thus evaluation metric is calculated on every iteration. 'metric_period' is ignored for evaluation metric.\n"
     ]
    },
    {
     "name": "stdout",
     "output_type": "stream",
     "text": [
      "0:\tlearn: 0.0442159\ttest: 0.0474888\tbest: 0.0474888 (0)\ttotal: 50.2ms\tremaining: 17m 46s\n",
      "Stopped by overfitting detector  (143 iterations wait)\n",
      "\n",
      "bestTest = 0.0411657858\n",
      "bestIteration = 82\n",
      "\n",
      "Shrink model to first 83 iterations.\n",
      "0:\tlearn: 0.0460187\ttest: 0.0387358\tbest: 0.0387358 (0)\ttotal: 6.34ms\tremaining: 2m 14s\n"
     ]
    },
    {
     "name": "stderr",
     "output_type": "stream",
     "text": [
      "Warning: Overfitting detector is active, thus evaluation metric is calculated on every iteration. 'metric_period' is ignored for evaluation metric.\n"
     ]
    },
    {
     "name": "stdout",
     "output_type": "stream",
     "text": [
      "Stopped by overfitting detector  (143 iterations wait)\n",
      "\n",
      "bestTest = 0.03109446373\n",
      "bestIteration = 301\n",
      "\n",
      "Shrink model to first 302 iterations.\n",
      "0:\tlearn: 0.0447216\ttest: 0.0452360\tbest: 0.0452360 (0)\ttotal: 1.57ms\tremaining: 33.5s\n"
     ]
    },
    {
     "name": "stderr",
     "output_type": "stream",
     "text": [
      "Warning: Overfitting detector is active, thus evaluation metric is calculated on every iteration. 'metric_period' is ignored for evaluation metric.\n"
     ]
    },
    {
     "name": "stdout",
     "output_type": "stream",
     "text": [
      "470:\tlearn: 0.0113423\ttest: 0.0361286\tbest: 0.0361024 (466)\ttotal: 1.07s\tremaining: 47.3s\n",
      "940:\tlearn: 0.0058355\ttest: 0.0352716\tbest: 0.0352413 (908)\ttotal: 2.25s\tremaining: 48.5s\n",
      "Stopped by overfitting detector  (143 iterations wait)\n",
      "\n",
      "bestTest = 0.03510654718\n",
      "bestIteration = 1242\n",
      "\n",
      "Shrink model to first 1243 iterations.\n",
      "0:\tlearn: 0.0435980\ttest: 0.0510010\tbest: 0.0510010 (0)\ttotal: 2.33ms\tremaining: 49.6s\n"
     ]
    },
    {
     "name": "stderr",
     "output_type": "stream",
     "text": [
      "Warning: Overfitting detector is active, thus evaluation metric is calculated on every iteration. 'metric_period' is ignored for evaluation metric.\n"
     ]
    },
    {
     "name": "stdout",
     "output_type": "stream",
     "text": [
      "Stopped by overfitting detector  (143 iterations wait)\n",
      "\n",
      "bestTest = 0.03924919891\n",
      "bestIteration = 293\n",
      "\n",
      "Shrink model to first 294 iterations.\n",
      "0:\tlearn: 0.0454224\ttest: 0.0422102\tbest: 0.0422102 (0)\ttotal: 1.72ms\tremaining: 36.6s\n"
     ]
    },
    {
     "name": "stderr",
     "output_type": "stream",
     "text": [
      "Warning: Overfitting detector is active, thus evaluation metric is calculated on every iteration. 'metric_period' is ignored for evaluation metric.\n"
     ]
    },
    {
     "name": "stdout",
     "output_type": "stream",
     "text": [
      "470:\tlearn: 0.0122438\ttest: 0.0339028\tbest: 0.0338299 (414)\ttotal: 1.03s\tremaining: 45.4s\n",
      "Stopped by overfitting detector  (143 iterations wait)\n",
      "\n",
      "bestTest = 0.03382992349\n",
      "bestIteration = 414\n",
      "\n",
      "Shrink model to first 415 iterations.\n",
      "0:\tlearn: 0.0447103\ttest: 0.0452367\tbest: 0.0452367 (0)\ttotal: 2.23ms\tremaining: 47.5s\n"
     ]
    },
    {
     "name": "stderr",
     "output_type": "stream",
     "text": [
      "Warning: Overfitting detector is active, thus evaluation metric is calculated on every iteration. 'metric_period' is ignored for evaluation metric.\n"
     ]
    },
    {
     "name": "stdout",
     "output_type": "stream",
     "text": [
      "Stopped by overfitting detector  (143 iterations wait)\n",
      "\n",
      "bestTest = 0.03703490535\n",
      "bestIteration = 322\n",
      "\n",
      "Shrink model to first 323 iterations.\n",
      "R2 Average 0.34731808755354915\n"
     ]
    },
    {
     "data": {
      "image/png": "[encoded data removed]",
      "text/plain": [
       "<Figure size 432x288 with 1 Axes>"
      ]
     },
     "metadata": {
      "needs_background": "light"
     },
     "output_type": "display_data"
    }
   ],
   "source": [
    "trainingWithKfolds()"
   ]
  },
  {
   "cell_type": "code",
   "execution_count": null,
   "id": "2e9ce9d9",
   "metadata": {},
   "outputs": [],
   "source": []
  }
 ],
 "metadata": {
  "kernelspec": {
   "display_name": "Python 3 (ipykernel)",
   "language": "python",
   "name": "python3"
  },
  "language_info": {
   "codemirror_mode": {
    "name": "ipython",
    "version": 3
   },
   "file_extension": ".py",
   "mimetype": "text/x-python",
   "name": "python",
   "nbconvert_exporter": "python",
   "pygments_lexer": "ipython3",
   "version": "3.8.13"
  }
 },
 "nbformat": 4,
 "nbformat_minor": 5
}
