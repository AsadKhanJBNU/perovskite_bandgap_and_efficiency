{
 "cells": [
  {
   "cell_type": "code",
   "execution_count": null,
   "id": "368df745",
   "metadata": {},
   "outputs": [],
   "source": [
    "import pandas as pd\n",
    "import numpy as np\n",
    "import os\n",
    "from sklearn.model_selection import train_test_split, KFold\n",
    "import warnings\n",
    "from numpy import savetxt\n",
    "from numpy import loadtxt\n",
    "warnings.filterwarnings(\"ignore\")\n",
    "import pickle"
   ]
  },
  {
   "cell_type": "code",
   "execution_count": null,
   "id": "8d816040",
   "metadata": {},
   "outputs": [],
   "source": [
    "from sklearn.metrics import r2_score\n",
    "import optuna\n",
    "from sklearn.ensemble import BaggingRegressor,AdaBoostRegressor,GradientBoostingRegressor\n",
    "from sklearn.neighbors import KNeighborsRegressor\n",
    "from sklearn.tree import DecisionTreeRegressor\n",
    "import xgboost as xgb\n",
    "from sklearn.svm import SVR\n",
    "from catboost import CatBoostRegressor, Pool\n",
    "from sklearn.ensemble import RandomForestRegressor\n",
    "from sklearn.metrics import r2_score,mean_absolute_error,mean_squared_error\n",
    "import math\n",
    "import matplotlib.pyplot as plt\n",
    "import shap"
   ]
  },
  {
   "cell_type": "code",
   "execution_count": null,
   "id": "5429c584",
   "metadata": {},
   "outputs": [],
   "source": [
    "import catboost as cb"
   ]
  },
  {
   "cell_type": "code",
   "execution_count": null,
   "id": "f1bd1cb5",
   "metadata": {},
   "outputs": [],
   "source": [
    "print(cb.__version__)"
   ]
  },
  {
   "cell_type": "code",
   "execution_count": null,
   "id": "a5e824af",
   "metadata": {},
   "outputs": [],
   "source": [
    "train = loadtxt('Data_Set/train.csv', delimiter=',')\n",
    "label = loadtxt('Data_Set/label.csv', delimiter=',')"
   ]
  },
  {
   "cell_type": "code",
   "execution_count": null,
   "id": "a451f041",
   "metadata": {},
   "outputs": [],
   "source": [
    "os.environ[\"CUDA_DEVICE_ORDER\"]=\"PCI_BUS_ID\"   # see issue #152\n",
    "os.environ[\"CUDA_VISIBLE_DEVICES\"]=\"2\""
   ]
  },
  {
   "cell_type": "code",
   "execution_count": null,
   "id": "ab806365",
   "metadata": {},
   "outputs": [],
   "source": [
    "X_train, X_test, y_train, y_test = train_test_split(train, label, test_size=0.15, random_state=42)"
   ]
  },
  {
   "cell_type": "code",
   "execution_count": null,
   "id": "e201b7bc",
   "metadata": {},
   "outputs": [],
   "source": [
    "def trainingWithKfolds():\n",
    "    params= {'iterations': 16937, 'learning_rate': 0.0802044556274633, 'depth': 7, 'random_seed': 397, \n",
    "             'metric_period': 407, 'od_wait': 148}\n",
    "    k_fold=KFold(n_splits=6)\n",
    "    for tr, tst in k_fold.split(train,label):\n",
    "\n",
    "\n",
    "        model_regressor = CatBoostRegressor(**params)\n",
    "\n",
    "        X_train, X_test, y_train, y_test = train[tr],train[tst],label[tr],label[tst]\n",
    "        model_regressor.fit(X_train, y_train, \n",
    "          eval_set=(X_test, y_test),  \n",
    "          use_best_model=True,  \n",
    "          plot= False   \n",
    "         );"
   ]
  },
  {
   "cell_type": "code",
   "execution_count": null,
   "id": "23002056",
   "metadata": {},
   "outputs": [],
   "source": [
    "def CatBoostRegressorTraining():\n",
    "    params = {'iterations': 16937, 'learning_rate': 0.0802044556274633, 'depth': 7, 'random_seed': 397,\n",
    "              'metric_period': 407, 'od_wait': 148}\n",
    "    \n",
    "    xgb_reg = CatBoostRegressor(**params)\n",
    "    xgb_reg.fit(X_train, y_train)\n",
    "\n",
    "    return xgb_reg"
   ]
  },
  {
   "cell_type": "code",
   "execution_count": null,
   "id": "5be08473",
   "metadata": {},
   "outputs": [],
   "source": [
    "def AdaBoostRegressorTraining():\n",
    "#     params = {'n_estimators': 6, 'learning_rate': 0.038071344583599565, 'random_state': 47}\n",
    "    params = {'n_estimators': 28, 'learning_rate': 0.02437865813830957, 'random_state': 97}\n",
    "    xgb_reg = AdaBoostRegressor(**params)\n",
    "    xgb_reg.fit(X_train, y_train)\n",
    "\n",
    "    return xgb_reg"
   ]
  },
  {
   "cell_type": "code",
   "execution_count": null,
   "id": "c81b6c85",
   "metadata": {},
   "outputs": [],
   "source": [
    "def KNeighborsRegressorTraining():\n",
    "#     params = {'n_neighbors': 27, 'leaf_size': 16, 'p': 1, 'n_jobs': 2}\n",
    "    params = {'n_neighbors': 13, 'leaf_size': 31, 'p': 2, 'n_jobs': 8}\n",
    "    xgb_reg = KNeighborsRegressor(**params)\n",
    "    xgb_reg.fit(X_train, y_train)\n",
    "\n",
    "    return xgb_reg"
   ]
  },
  {
   "cell_type": "code",
   "execution_count": null,
   "id": "6b93a702",
   "metadata": {},
   "outputs": [],
   "source": [
    "def RandomForestRegressorTraining():\n",
    "    params = {'criterion': 'friedman_mse', 'n_estimators': 65, 'min_samples_leaf': 0.3106657191461476,\n",
    "               'min_samples_split': 0.11843070888391496,'min_weight_fraction_leaf': 0.19561280836043243,\n",
    "               'max_depth': 49, 'n_jobs': 4, 'ccp_alpha': 0.7168576832158675}\n",
    "    \n",
    "    xgb_reg = RandomForestRegressor(**params)\n",
    "    xgb_reg.fit(X_train, y_train)\n",
    "\n",
    "    return xgb_reg"
   ]
  },
  {
   "cell_type": "code",
   "execution_count": null,
   "id": "69d8ef5f",
   "metadata": {},
   "outputs": [],
   "source": [
    "def SVRTraining():\n",
    "    params = {'coef0': 5.427321055348509, 'tol': 0.16431922654212472, 'epsilon': 0.10050992331193838,\n",
    "               'C': 2.8667365671378473, 'degree': 7,'max_iter': 93, 'cache_size': 337}\n",
    "    \n",
    "    xgb_reg = SVR(**params)\n",
    "    xgb_reg.fit(X_train, y_train)\n",
    "\n",
    "    return xgb_reg"
   ]
  },
  {
   "cell_type": "code",
   "execution_count": null,
   "id": "26213680",
   "metadata": {},
   "outputs": [],
   "source": [
    "def GradientBoostingRegressorTraining():\n",
    "#     params = {'learning_rate': 0.053695566279521385, 'alpha': 0.8265623491581545, 'loss': 'huber', \n",
    "#                'criterion': 'friedman_mse','n_estimators': 165,\n",
    "#                'min_samples_leaf': 0.0010995785640797642, 'min_samples_split': 0.020181427769510703,\n",
    "#                'min_weight_fraction_leaf': 0.009433744467751696, 'max_depth': 40,\n",
    "#                'min_impurity_decrease': 0.011243612527949207}\n",
    "\n",
    "    params = {'learning_rate': 0.006299158193687641, 'alpha': 0.5373917219469443, 'loss': 'quantile',\n",
    "              'criterion': 'friedman_mse', 'n_estimators': 489, 'min_samples_leaf': 0.15692793301439362,\n",
    "              'min_samples_split': 0.1432950302525493, 'min_weight_fraction_leaf': 0.15218461265640065, \n",
    "              'max_depth': 36, 'min_impurity_decrease': 0.03560036254060231}\n",
    "    \n",
    "    xgb_reg = GradientBoostingRegressor(**params)\n",
    "    xgb_reg.fit(X_train, y_train)\n",
    "\n",
    "    return xgb_reg"
   ]
  },
  {
   "cell_type": "code",
   "execution_count": null,
   "id": "1168ebc2",
   "metadata": {},
   "outputs": [],
   "source": [
    "def showResults(model, modelName):\n",
    "    y_ped = model.predict(X_test)\n",
    "    MSE = mean_squared_error(y_test, y_ped)\n",
    "    RMSE = math.sqrt(MSE)\n",
    "    resultsDict = {'R2: ':r2_score(y_test,model.predict(X_test)), 'MSE: ':MSE, 'MAE: ':mean_absolute_error(y_test,y_ped),\n",
    "           'RMSE: ':RMSE}\n",
    "\n",
    "    # open file for writing\n",
    "    name = \"Results/\" + modelName + \".txt\"\n",
    "    \n",
    "    # save the model to disk\n",
    "    filename = \"Saved_Models/\" + modelName + \".sav\"\n",
    "    pickle.dump(model, open(filename, 'wb'))\n",
    "    \n",
    "    f = open(name,\"w\")\n",
    "    # write file\n",
    "    f.write( str(resultsDict) )\n",
    "    # close file\n",
    "    f.close()\n",
    "    print(resultsDict)"
   ]
  },
  {
   "cell_type": "code",
   "execution_count": null,
   "id": "9fb0fb6a",
   "metadata": {},
   "outputs": [],
   "source": [
    "def drawPlots(model,modelName):\n",
    "    y_ped = model.predict(X_test)\n",
    "    name = \"Visualization/\" + modelName + \"New.png\"\n",
    "    \n",
    "    plt.scatter(y_ped,y_test,s=30,marker =\"o\",alpha=1.0, linewidth=1.2,color='darkred')\n",
    "\n",
    "    plt.plot(y_test,y_test,c='dimgray',markeredgecolor='blue')\n",
    "    plt.xlabel('Ground truth')\n",
    "    plt.ylabel('Prediction')\n",
    "    plt.title(modelName + ' Bandgap')\n",
    "    plt.grid(False)\n",
    "    plt.savefig(name, dpi=1200,transparent=True,bbox_inches = \"tight\")\n",
    "    plt.show()"
   ]
  },
  {
   "cell_type": "code",
   "execution_count": null,
   "id": "d87eb64a",
   "metadata": {},
   "outputs": [],
   "source": []
  },
  {
   "cell_type": "code",
   "execution_count": null,
   "id": "30632bd2",
   "metadata": {},
   "outputs": [],
   "source": [
    "def drawShapAnanlysis(model,modelName,features):\n",
    "    explainer = shap.Explainer(model, feature_names=features)\n",
    "    shap_values = explainer(X_train)\n",
    "    shap.plots.beeswarm(shap_values)\n",
    "    name = \"ShapVisualization/\" + modelName + \".png\"\n",
    "#     plt.savefig('shap_beeswarm.png')\n",
    "    \n",
    "#     shap.plots.beeswarm(shap_values).figure.savefig(name)\n",
    "    # Create a new figure\n",
    "    fig = plt.figure()\n",
    "\n",
    "    # Generate the beeswarm plot\n",
    "    shap.plots.beeswarm(shap_values)\n",
    "\n",
    "    # Save the figure\n",
    "    fig.savefig(name, dpi=400, transparent=False, bbox_inches=\"tight\")\n",
    "    \n",
    "#     plt.savefig(name, dpi=400, transparent=True, bbox_inches=\"tight\")"
   ]
  },
  {
   "cell_type": "code",
   "execution_count": null,
   "id": "fbe83c0b",
   "metadata": {},
   "outputs": [],
   "source": [
    "# drawShapAnanlysis(model,\"CatBoostRegressor\",features)"
   ]
  },
  {
   "cell_type": "code",
   "execution_count": null,
   "id": "635321b5",
   "metadata": {},
   "outputs": [],
   "source": [
    "features=['Cs', 'FA', 'MA','Pb', 'Sn','Br', 'I','Thickness']"
   ]
  },
  {
   "cell_type": "code",
   "execution_count": null,
   "id": "859de960",
   "metadata": {},
   "outputs": [],
   "source": [
    "# drawShapAnanlysis(model,\"CatBoostRegressor\",features)"
   ]
  },
  {
   "cell_type": "code",
   "execution_count": null,
   "id": "80e9d08b",
   "metadata": {},
   "outputs": [],
   "source": [
    "modelCat = CatBoostRegressorTraining()\n"
   ]
  },
  {
   "cell_type": "code",
   "execution_count": null,
   "id": "71c7a782",
   "metadata": {},
   "outputs": [],
   "source": [
    "# showResults(modelCat,\"CatBoostRegressor\")\n",
    "drawPlots(modelCat,\"CatBoostRegressor\")"
   ]
  },
  {
   "cell_type": "code",
   "execution_count": null,
   "id": "fe284ee0",
   "metadata": {
    "scrolled": true
   },
   "outputs": [],
   "source": [
    "drawShapAnanlysis(modelCat,\"CatBoostRegressor\",features)"
   ]
  },
  {
   "cell_type": "code",
   "execution_count": null,
   "id": "aefbbbe3",
   "metadata": {},
   "outputs": [],
   "source": [
    "model = AdaBoostRegressorTraining()\n",
    "showResults(model,\"AdaBoostRegressor\")\n",
    "drawPlots(model,\"AdaBoostRegressor\")"
   ]
  },
  {
   "cell_type": "code",
   "execution_count": null,
   "id": "f2877397",
   "metadata": {},
   "outputs": [],
   "source": [
    "model = KNeighborsRegressorTraining()\n",
    "showResults(model,\"KNeighborsRegressor\")\n",
    "drawPlots(model,\"KNeighborsRegressor\")"
   ]
  },
  {
   "cell_type": "code",
   "execution_count": null,
   "id": "2804a63c",
   "metadata": {},
   "outputs": [],
   "source": [
    "model = RandomForestRegressorTraining()\n",
    "showResults(model,\"RandomForestRegressor\")\n",
    "drawPlots(model,\"RandomForestRegressor\")"
   ]
  },
  {
   "cell_type": "code",
   "execution_count": null,
   "id": "35f7d15e",
   "metadata": {},
   "outputs": [],
   "source": [
    "model = SVRTraining()\n",
    "showResults(model,\"SVR\")\n",
    "drawPlots(model,\"SVR\")"
   ]
  },
  {
   "cell_type": "code",
   "execution_count": null,
   "id": "c79bc723",
   "metadata": {},
   "outputs": [],
   "source": [
    "model = GradientBoostingRegressorTraining()\n",
    "showResults(model,\"GradientBoostingRegressor\")\n",
    "drawPlots(model,\"GradientBoostingRegressor\")"
   ]
  }
 ],
 "metadata": {
  "kernelspec": {
   "display_name": "Python 3 (ipykernel)",
   "language": "python",
   "name": "python3"
  },
  "language_info": {
   "codemirror_mode": {
    "name": "ipython",
    "version": 3
   },
   "file_extension": ".py",
   "mimetype": "text/x-python",
   "name": "python",
   "nbconvert_exporter": "python",
   "pygments_lexer": "ipython3",
   "version": "3.8.13"
  }
 },
 "nbformat": 4,
 "nbformat_minor": 5
}
