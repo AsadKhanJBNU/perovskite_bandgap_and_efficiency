{
 "cells": [
  {
   "cell_type": "code",
   "execution_count": null,
   "id": "ca339667",
   "metadata": {},
   "outputs": [],
   "source": [
    "import os\n",
    "import joblib"
   ]
  },
  {
   "cell_type": "code",
   "execution_count": null,
   "id": "ffaacec4",
   "metadata": {},
   "outputs": [],
   "source": [
    "os.environ[\"CUDA_DEVICE_ORDER\"]=\"PCI_BUS_ID\"\n",
    "os.environ[\"CUDA_VISIBLE_DEVICES\"]=\"5\""
   ]
  },
  {
   "cell_type": "code",
   "execution_count": null,
   "id": "ce841b70",
   "metadata": {},
   "outputs": [],
   "source": [
    "# Load saved model\n",
    "bandgap_model = joblib.load('Saved_Models/CatBoostRegressor.sav')"
   ]
  },
  {
   "cell_type": "code",
   "execution_count": null,
   "id": "82b23cea",
   "metadata": {},
   "outputs": [],
   "source": [
    "# Take input - these are the features used for bandgap predictions \n",
    "# a_ions 'Cs', 'FA', 'MA' - note that the sum of these 3 should not be greater than 1\n",
    "# b_ions 'Pb', 'Sn' - note that the sum of these 2 should not be greater than 1\n",
    "# x_ions 'Br', 'I' - note that the sum of these 2 should not be greater than 3\n",
    "# The last feature is thickness in Nanometer (nm). For normalization, divide it by 1000.\n",
    "\n",
    "features = ['Cs', 'FA', 'MA', 'Pb', 'Sn', 'Br', 'I', 'Thickness']\n",
    "\n",
    "input_features = [0.0, 0.0, 0.0, 1.0, 0.0, 1.0, 2.0, 0.10]"
   ]
  },
  {
   "cell_type": "code",
   "execution_count": null,
   "id": "7cac968d",
   "metadata": {},
   "outputs": [],
   "source": [
    "def showResultsSingle(model,data):\n",
    "    y_ped = model.predict(data)\n",
    "    print(y_ped)"
   ]
  },
  {
   "cell_type": "code",
   "execution_count": null,
   "id": "3fde437f",
   "metadata": {},
   "outputs": [],
   "source": [
    "showResultsSingle(bandgap_model,input_features)"
   ]
  },
  {
   "cell_type": "code",
   "execution_count": null,
   "id": "daf0563f",
   "metadata": {},
   "outputs": [],
   "source": []
  }
 ],
 "metadata": {
  "kernelspec": {
   "display_name": "Python 3 (ipykernel)",
   "language": "python",
   "name": "python3"
  },
  "language_info": {
   "codemirror_mode": {
    "name": "ipython",
    "version": 3
   },
   "file_extension": ".py",
   "mimetype": "text/x-python",
   "name": "python",
   "nbconvert_exporter": "python",
   "pygments_lexer": "ipython3",
   "version": "3.8.13"
  }
 },
 "nbformat": 4,
 "nbformat_minor": 5
}
